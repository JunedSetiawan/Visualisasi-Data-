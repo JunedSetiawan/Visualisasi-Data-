{
 "cells": [
  {
   "cell_type": "markdown",
   "id": "79799f75-4fe7-43fe-b55c-fc5d3c46a313",
   "metadata": {},
   "source": [
    "**Importing libraries**"
   ]
  },
  {
   "cell_type": "code",
   "execution_count": 1,
   "id": "249aea51-c4d5-4b64-9b86-cf83b4be321c",
   "metadata": {},
   "outputs": [
    {
     "data": {
      "text/html": [
       "        <script type=\"text/javascript\">\n",
       "        window.PlotlyConfig = {MathJaxConfig: 'local'};\n",
       "        if (window.MathJax) {MathJax.Hub.Config({SVG: {font: \"STIX-Web\"}});}\n",
       "        if (typeof require !== 'undefined') {\n",
       "        require.undef(\"plotly\");\n",
       "        requirejs.config({\n",
       "            paths: {\n",
       "                'plotly': ['https://cdn.plot.ly/plotly-2.6.3.min']\n",
       "            }\n",
       "        });\n",
       "        require(['plotly'], function(Plotly) {\n",
       "            window._Plotly = Plotly;\n",
       "        });\n",
       "        }\n",
       "        </script>\n",
       "        "
      ]
     },
     "metadata": {},
     "output_type": "display_data"
    }
   ],
   "source": [
    "import pandas as pd\n",
    "import seaborn as sns\n",
    "import matplotlib.pyplot as plt\n",
    "\n",
    "import plotly.express as px\n",
    "from plotly.subplots import make_subplots\n",
    "import plotly.figure_factory as ff\n",
    "import plotly.offline as offline\n",
    "import plotly.graph_objs as go\n",
    "\n",
    "offline.init_notebook_mode(connected = True)"
   ]
  },
  {
   "cell_type": "markdown",
   "id": "5ea13382-44b1-4055-a115-dee617c9036d",
   "metadata": {},
   "source": [
    "**Importing the dataset**\n",
    "- data nilai kelas 2 TPM(Teknik Pemesinan) C Semester 1"
   ]
  },
  {
   "cell_type": "code",
   "execution_count": 2,
   "id": "aa6a7089-c7d9-4123-910b-1b48feed201e",
   "metadata": {},
   "outputs": [
    {
     "data": {
      "text/html": [
       "<div>\n",
       "<style scoped>\n",
       "    .dataframe tbody tr th:only-of-type {\n",
       "        vertical-align: middle;\n",
       "    }\n",
       "\n",
       "    .dataframe tbody tr th {\n",
       "        vertical-align: top;\n",
       "    }\n",
       "\n",
       "    .dataframe thead th {\n",
       "        text-align: right;\n",
       "    }\n",
       "</style>\n",
       "<table border=\"1\" class=\"dataframe\">\n",
       "  <thead>\n",
       "    <tr style=\"text-align: right;\">\n",
       "      <th></th>\n",
       "      <th>Nama</th>\n",
       "      <th>AGAMA P</th>\n",
       "      <th>AGAMA K</th>\n",
       "      <th>PKN P</th>\n",
       "      <th>PKN K</th>\n",
       "      <th>B. Indo P</th>\n",
       "      <th>B. Indo K</th>\n",
       "      <th>Matematika P</th>\n",
       "      <th>Matematika K</th>\n",
       "      <th>Sejarah P</th>\n",
       "      <th>...</th>\n",
       "      <th>Gambar Teknik Mesin P</th>\n",
       "      <th>Gambar Teknik Mesin K</th>\n",
       "      <th>Pekerjaan Dasar Teknik Mesin P</th>\n",
       "      <th>Pekerjaan Dasar Teknik Mesin K</th>\n",
       "      <th>Dasar Perencanaan Teknik Mesin P</th>\n",
       "      <th>Dasar Perencanaan Teknik Mesin K</th>\n",
       "      <th>JML</th>\n",
       "      <th>Average</th>\n",
       "      <th>Rank</th>\n",
       "      <th>AVE</th>\n",
       "    </tr>\n",
       "  </thead>\n",
       "  <tbody>\n",
       "    <tr>\n",
       "      <th>0</th>\n",
       "      <td>JAYADI DWI HANDOYO</td>\n",
       "      <td>86</td>\n",
       "      <td>87</td>\n",
       "      <td>89</td>\n",
       "      <td>90</td>\n",
       "      <td>84</td>\n",
       "      <td>84</td>\n",
       "      <td>85</td>\n",
       "      <td>85</td>\n",
       "      <td>80</td>\n",
       "      <td>...</td>\n",
       "      <td>78</td>\n",
       "      <td>75</td>\n",
       "      <td>74</td>\n",
       "      <td>80</td>\n",
       "      <td>80</td>\n",
       "      <td>88</td>\n",
       "      <td>2449.0</td>\n",
       "      <td>81.6</td>\n",
       "      <td>3</td>\n",
       "      <td>81.63</td>\n",
       "    </tr>\n",
       "    <tr>\n",
       "      <th>1</th>\n",
       "      <td>JOVAN HENDI WIJAYA</td>\n",
       "      <td>78</td>\n",
       "      <td>80</td>\n",
       "      <td>75</td>\n",
       "      <td>75</td>\n",
       "      <td>82</td>\n",
       "      <td>82</td>\n",
       "      <td>75</td>\n",
       "      <td>75</td>\n",
       "      <td>75</td>\n",
       "      <td>...</td>\n",
       "      <td>75</td>\n",
       "      <td>75</td>\n",
       "      <td>76</td>\n",
       "      <td>77</td>\n",
       "      <td>73</td>\n",
       "      <td>70</td>\n",
       "      <td>2291.0</td>\n",
       "      <td>76.3</td>\n",
       "      <td>36</td>\n",
       "      <td>76.37</td>\n",
       "    </tr>\n",
       "    <tr>\n",
       "      <th>2</th>\n",
       "      <td>KHABIB</td>\n",
       "      <td>87</td>\n",
       "      <td>89</td>\n",
       "      <td>84</td>\n",
       "      <td>85</td>\n",
       "      <td>84</td>\n",
       "      <td>84</td>\n",
       "      <td>80</td>\n",
       "      <td>82</td>\n",
       "      <td>85</td>\n",
       "      <td>...</td>\n",
       "      <td>75</td>\n",
       "      <td>73</td>\n",
       "      <td>74</td>\n",
       "      <td>77</td>\n",
       "      <td>75</td>\n",
       "      <td>77</td>\n",
       "      <td>2405.0</td>\n",
       "      <td>80.1</td>\n",
       "      <td>15</td>\n",
       "      <td>80.17</td>\n",
       "    </tr>\n",
       "    <tr>\n",
       "      <th>3</th>\n",
       "      <td>KHOIRUL MUCHLISIN</td>\n",
       "      <td>88</td>\n",
       "      <td>87</td>\n",
       "      <td>80</td>\n",
       "      <td>81</td>\n",
       "      <td>85</td>\n",
       "      <td>85</td>\n",
       "      <td>82</td>\n",
       "      <td>80</td>\n",
       "      <td>88</td>\n",
       "      <td>...</td>\n",
       "      <td>78</td>\n",
       "      <td>75</td>\n",
       "      <td>76</td>\n",
       "      <td>80</td>\n",
       "      <td>78</td>\n",
       "      <td>73</td>\n",
       "      <td>2417.0</td>\n",
       "      <td>80.5</td>\n",
       "      <td>9</td>\n",
       "      <td>80.57</td>\n",
       "    </tr>\n",
       "    <tr>\n",
       "      <th>4</th>\n",
       "      <td>KRISNA AJI PERMADI</td>\n",
       "      <td>86</td>\n",
       "      <td>84</td>\n",
       "      <td>80</td>\n",
       "      <td>80</td>\n",
       "      <td>84</td>\n",
       "      <td>84</td>\n",
       "      <td>80</td>\n",
       "      <td>82</td>\n",
       "      <td>78</td>\n",
       "      <td>...</td>\n",
       "      <td>75</td>\n",
       "      <td>75</td>\n",
       "      <td>72</td>\n",
       "      <td>82</td>\n",
       "      <td>78</td>\n",
       "      <td>88</td>\n",
       "      <td>2378.0</td>\n",
       "      <td>79.2</td>\n",
       "      <td>28</td>\n",
       "      <td>79.27</td>\n",
       "    </tr>\n",
       "  </tbody>\n",
       "</table>\n",
       "<p>5 rows × 35 columns</p>\n",
       "</div>"
      ],
      "text/plain": [
       "                   Nama  AGAMA P   AGAMA K  PKN P   PKN K  B. Indo P   \\\n",
       "0   JAYADI DWI HANDOYO         86       87      89     90          84   \n",
       "1   JOVAN HENDI WIJAYA         78       80      75     75          82   \n",
       "2               KHABIB         87       89      84     85          84   \n",
       "3    KHOIRUL MUCHLISIN         88       87      80     81          85   \n",
       "4   KRISNA AJI PERMADI         86       84      80     80          84   \n",
       "\n",
       "   B. Indo K  Matematika P   Matematika K  Sejarah P   ...  \\\n",
       "0         84             85            85          80  ...   \n",
       "1         82             75            75          75  ...   \n",
       "2         84             80            82          85  ...   \n",
       "3         85             82            80          88  ...   \n",
       "4         84             80            82          78  ...   \n",
       "\n",
       "   Gambar Teknik Mesin P   Gambar Teknik Mesin K  \\\n",
       "0                      78                     75   \n",
       "1                      75                     75   \n",
       "2                      75                     73   \n",
       "3                      78                     75   \n",
       "4                      75                     75   \n",
       "\n",
       "   Pekerjaan Dasar Teknik Mesin P   Pekerjaan Dasar Teknik Mesin K  \\\n",
       "0                               74                              80   \n",
       "1                               76                              77   \n",
       "2                               74                              77   \n",
       "3                               76                              80   \n",
       "4                               72                              82   \n",
       "\n",
       "   Dasar Perencanaan Teknik Mesin P   Dasar Perencanaan Teknik Mesin K  \\\n",
       "0                                 80                                88   \n",
       "1                                 73                                70   \n",
       "2                                 75                                77   \n",
       "3                                 78                                73   \n",
       "4                                 78                                88   \n",
       "\n",
       "      JML  Average  Rank    AVE  \n",
       "0  2449.0     81.6     3  81.63  \n",
       "1  2291.0     76.3    36  76.37  \n",
       "2  2405.0     80.1    15  80.17  \n",
       "3  2417.0     80.5     9  80.57  \n",
       "4  2378.0     79.2    28  79.27  \n",
       "\n",
       "[5 rows x 35 columns]"
      ]
     },
     "execution_count": 2,
     "metadata": {},
     "output_type": "execute_result"
    }
   ],
   "source": [
    "tpmc1 = pd.read_csv(\"dataset/tpmc1.csv\")\n",
    "tpmc1.head()"
   ]
  },
  {
   "cell_type": "markdown",
   "id": "cd18e8b4-8687-4e6a-9bdc-c3db3261e5f7",
   "metadata": {},
   "source": [
    "- data nilai kelas 2 TPM(Teknik Pemesinan) C Semester 2"
   ]
  },
  {
   "cell_type": "code",
   "execution_count": 10,
   "id": "241342ff-7600-4bd9-8b2e-14e1e1c10e0d",
   "metadata": {},
   "outputs": [
    {
     "data": {
      "text/plain": [
       "Nama                                   JAYADI DWI HANDOYO \n",
       "AGAMA P                                               87.0\n",
       "AGAMA K                                               82.0\n",
       "PKN P                                                 80.0\n",
       "PKN K                                                 80.0\n",
       "B. Indo P                                             84.0\n",
       "B. Indo K                                             84.0\n",
       "Matematika P                                          80.0\n",
       "Matematika K                                          80.0\n",
       "Sejarah P                                             80.0\n",
       "Sejarah K                                             85.0\n",
       "B. Inggris P                                          76.0\n",
       "B. Inggris K                                          75.0\n",
       "Seni Budaya P                                         80.0\n",
       "Seni Budaya K                                         88.0\n",
       "PJOK P                                                82.0\n",
       "PJOK K                                                80.0\n",
       "B. Jawa P                                             80.0\n",
       "B. Jawa K                                             80.0\n",
       "Simulasi dan Komunikasi Digital P                     80.0\n",
       "Simulasi dan Komunikasi Digital K                     80.0\n",
       "Fisika P                                              78.0\n",
       "Fisika K                                              78.0\n",
       "Kimia P                                               77.0\n",
       "Kimia K                                               79.0\n",
       "Gambar Teknik Mesin P                                 75.0\n",
       "Gambar Teknik Mesin K                                 75.0\n",
       "Pekerjaan Dasar Teknik Mesin P                        76.0\n",
       "Pekerjaan Dasar Teknik Mesin K                        78.0\n",
       "Dasar Perencanaan Teknik Mesin P                      80.0\n",
       "Dasar Perencanaan Teknik Mesin K                      80.0\n",
       "JML                                                 2422.0\n",
       "Average                                               79.9\n",
       "Rank                                                   4.0\n",
       "AVE                                                  80.73\n",
       "Name: 0, dtype: object"
      ]
     },
     "execution_count": 10,
     "metadata": {},
     "output_type": "execute_result"
    }
   ],
   "source": [
    "tpmc1.mode().iloc[0]"
   ]
  },
  {
   "cell_type": "markdown",
   "id": "8303205b-fb65-44f1-b229-cfec0ca5b35f",
   "metadata": {
    "tags": []
   },
   "source": [
    "## Deskripsi Data\n",
    "- Nama Siswa\n",
    "- Nilai PerMapel : berdasarkan Ketrampilan dan Penilaian\n",
    "- Jumlah Nilai : dari semua mapel perAnak\n",
    "- Jumlah Nilai Rata-Rata : dari semua mapel perAnak\n",
    "- Ranking Siswa"
   ]
  },
  {
   "cell_type": "markdown",
   "id": "7c3ccaca-112b-49c5-a185-d5953e8f6729",
   "metadata": {},
   "source": [
    "- **Melihat statistical description dari data mulai dari mean, kuartil, standard deviation dll**\n",
    "- **Mengetahui nilai korelasi dari Nilai Semester 1 dan Semester 2**"
   ]
  },
  {
   "cell_type": "code",
   "execution_count": 4,
   "id": "c45bbe29-13d1-4f6c-a733-69260cbf6b07",
   "metadata": {},
   "outputs": [
    {
     "data": {
      "text/html": [
       "<div>\n",
       "<style scoped>\n",
       "    .dataframe tbody tr th:only-of-type {\n",
       "        vertical-align: middle;\n",
       "    }\n",
       "\n",
       "    .dataframe tbody tr th {\n",
       "        vertical-align: top;\n",
       "    }\n",
       "\n",
       "    .dataframe thead th {\n",
       "        text-align: right;\n",
       "    }\n",
       "</style>\n",
       "<table border=\"1\" class=\"dataframe\">\n",
       "  <thead>\n",
       "    <tr style=\"text-align: right;\">\n",
       "      <th></th>\n",
       "      <th>AGAMA P</th>\n",
       "      <th>AGAMA K</th>\n",
       "      <th>PKN P</th>\n",
       "      <th>PKN K</th>\n",
       "      <th>B. Indo P</th>\n",
       "      <th>B. Indo K</th>\n",
       "      <th>Matematika P</th>\n",
       "      <th>Matematika K</th>\n",
       "      <th>Sejarah P</th>\n",
       "      <th>Sejarah K</th>\n",
       "      <th>...</th>\n",
       "      <th>Gambar Teknik Mesin P</th>\n",
       "      <th>Gambar Teknik Mesin K</th>\n",
       "      <th>Pekerjaan Dasar Teknik Mesin P</th>\n",
       "      <th>Pekerjaan Dasar Teknik Mesin K</th>\n",
       "      <th>Dasar Perencanaan Teknik Mesin P</th>\n",
       "      <th>Dasar Perencanaan Teknik Mesin K</th>\n",
       "      <th>JML</th>\n",
       "      <th>Average</th>\n",
       "      <th>Rank</th>\n",
       "      <th>AVE</th>\n",
       "    </tr>\n",
       "  </thead>\n",
       "  <tbody>\n",
       "    <tr>\n",
       "      <th>count</th>\n",
       "      <td>36.000000</td>\n",
       "      <td>36.000000</td>\n",
       "      <td>36.000000</td>\n",
       "      <td>36.000000</td>\n",
       "      <td>36.000000</td>\n",
       "      <td>36.000000</td>\n",
       "      <td>36.000000</td>\n",
       "      <td>36.000000</td>\n",
       "      <td>36.000000</td>\n",
       "      <td>36.000000</td>\n",
       "      <td>...</td>\n",
       "      <td>36.000000</td>\n",
       "      <td>36.000000</td>\n",
       "      <td>36.000000</td>\n",
       "      <td>36.000000</td>\n",
       "      <td>36.000000</td>\n",
       "      <td>36.000000</td>\n",
       "      <td>36.000000</td>\n",
       "      <td>36.000000</td>\n",
       "      <td>36.000000</td>\n",
       "      <td>36.000000</td>\n",
       "    </tr>\n",
       "    <tr>\n",
       "      <th>mean</th>\n",
       "      <td>86.388889</td>\n",
       "      <td>84.638889</td>\n",
       "      <td>82.972222</td>\n",
       "      <td>82.972222</td>\n",
       "      <td>83.972222</td>\n",
       "      <td>83.972222</td>\n",
       "      <td>78.277778</td>\n",
       "      <td>79.222222</td>\n",
       "      <td>80.250000</td>\n",
       "      <td>81.611111</td>\n",
       "      <td>...</td>\n",
       "      <td>74.472222</td>\n",
       "      <td>74.416667</td>\n",
       "      <td>75.166667</td>\n",
       "      <td>77.666667</td>\n",
       "      <td>77.694444</td>\n",
       "      <td>79.388889</td>\n",
       "      <td>2394.361111</td>\n",
       "      <td>79.775000</td>\n",
       "      <td>18.361111</td>\n",
       "      <td>79.811389</td>\n",
       "    </tr>\n",
       "    <tr>\n",
       "      <th>std</th>\n",
       "      <td>2.510296</td>\n",
       "      <td>2.706107</td>\n",
       "      <td>3.325109</td>\n",
       "      <td>3.333690</td>\n",
       "      <td>0.696362</td>\n",
       "      <td>0.696362</td>\n",
       "      <td>2.361732</td>\n",
       "      <td>2.294230</td>\n",
       "      <td>3.572714</td>\n",
       "      <td>3.054531</td>\n",
       "      <td>...</td>\n",
       "      <td>1.715244</td>\n",
       "      <td>2.033646</td>\n",
       "      <td>1.298351</td>\n",
       "      <td>2.518503</td>\n",
       "      <td>3.142514</td>\n",
       "      <td>5.189428</td>\n",
       "      <td>33.339940</td>\n",
       "      <td>1.114931</td>\n",
       "      <td>10.677487</td>\n",
       "      <td>1.110359</td>\n",
       "    </tr>\n",
       "    <tr>\n",
       "      <th>min</th>\n",
       "      <td>78.000000</td>\n",
       "      <td>80.000000</td>\n",
       "      <td>75.000000</td>\n",
       "      <td>75.000000</td>\n",
       "      <td>82.000000</td>\n",
       "      <td>82.000000</td>\n",
       "      <td>75.000000</td>\n",
       "      <td>75.000000</td>\n",
       "      <td>75.000000</td>\n",
       "      <td>75.000000</td>\n",
       "      <td>...</td>\n",
       "      <td>70.000000</td>\n",
       "      <td>70.000000</td>\n",
       "      <td>72.000000</td>\n",
       "      <td>74.000000</td>\n",
       "      <td>72.000000</td>\n",
       "      <td>70.000000</td>\n",
       "      <td>2291.000000</td>\n",
       "      <td>76.300000</td>\n",
       "      <td>1.000000</td>\n",
       "      <td>76.370000</td>\n",
       "    </tr>\n",
       "    <tr>\n",
       "      <th>25%</th>\n",
       "      <td>85.000000</td>\n",
       "      <td>82.750000</td>\n",
       "      <td>80.000000</td>\n",
       "      <td>80.000000</td>\n",
       "      <td>84.000000</td>\n",
       "      <td>84.000000</td>\n",
       "      <td>77.250000</td>\n",
       "      <td>78.000000</td>\n",
       "      <td>77.000000</td>\n",
       "      <td>79.000000</td>\n",
       "      <td>...</td>\n",
       "      <td>75.000000</td>\n",
       "      <td>73.000000</td>\n",
       "      <td>74.000000</td>\n",
       "      <td>77.000000</td>\n",
       "      <td>75.000000</td>\n",
       "      <td>76.000000</td>\n",
       "      <td>2381.750000</td>\n",
       "      <td>79.350000</td>\n",
       "      <td>9.750000</td>\n",
       "      <td>79.390000</td>\n",
       "    </tr>\n",
       "    <tr>\n",
       "      <th>50%</th>\n",
       "      <td>87.000000</td>\n",
       "      <td>84.000000</td>\n",
       "      <td>84.000000</td>\n",
       "      <td>83.000000</td>\n",
       "      <td>84.000000</td>\n",
       "      <td>84.000000</td>\n",
       "      <td>78.000000</td>\n",
       "      <td>80.000000</td>\n",
       "      <td>80.000000</td>\n",
       "      <td>82.500000</td>\n",
       "      <td>...</td>\n",
       "      <td>75.000000</td>\n",
       "      <td>75.000000</td>\n",
       "      <td>76.000000</td>\n",
       "      <td>78.000000</td>\n",
       "      <td>78.000000</td>\n",
       "      <td>80.000000</td>\n",
       "      <td>2398.000000</td>\n",
       "      <td>79.900000</td>\n",
       "      <td>18.000000</td>\n",
       "      <td>79.935000</td>\n",
       "    </tr>\n",
       "    <tr>\n",
       "      <th>75%</th>\n",
       "      <td>88.000000</td>\n",
       "      <td>87.000000</td>\n",
       "      <td>85.000000</td>\n",
       "      <td>85.000000</td>\n",
       "      <td>84.000000</td>\n",
       "      <td>84.000000</td>\n",
       "      <td>80.000000</td>\n",
       "      <td>80.000000</td>\n",
       "      <td>84.000000</td>\n",
       "      <td>84.250000</td>\n",
       "      <td>...</td>\n",
       "      <td>75.000000</td>\n",
       "      <td>75.000000</td>\n",
       "      <td>76.000000</td>\n",
       "      <td>78.000000</td>\n",
       "      <td>80.000000</td>\n",
       "      <td>83.500000</td>\n",
       "      <td>2413.250000</td>\n",
       "      <td>80.425000</td>\n",
       "      <td>27.250000</td>\n",
       "      <td>80.442500</td>\n",
       "    </tr>\n",
       "    <tr>\n",
       "      <th>max</th>\n",
       "      <td>91.000000</td>\n",
       "      <td>89.000000</td>\n",
       "      <td>89.000000</td>\n",
       "      <td>90.000000</td>\n",
       "      <td>85.000000</td>\n",
       "      <td>85.000000</td>\n",
       "      <td>85.000000</td>\n",
       "      <td>85.000000</td>\n",
       "      <td>88.000000</td>\n",
       "      <td>85.000000</td>\n",
       "      <td>...</td>\n",
       "      <td>78.000000</td>\n",
       "      <td>80.000000</td>\n",
       "      <td>76.000000</td>\n",
       "      <td>88.000000</td>\n",
       "      <td>85.000000</td>\n",
       "      <td>88.000000</td>\n",
       "      <td>2458.000000</td>\n",
       "      <td>81.900000</td>\n",
       "      <td>36.000000</td>\n",
       "      <td>81.930000</td>\n",
       "    </tr>\n",
       "  </tbody>\n",
       "</table>\n",
       "<p>8 rows × 34 columns</p>\n",
       "</div>"
      ],
      "text/plain": [
       "        AGAMA P     AGAMA K     PKN P       PKN K  B. Indo P   B. Indo K  \\\n",
       "count  36.000000  36.000000  36.000000  36.000000   36.000000  36.000000   \n",
       "mean   86.388889  84.638889  82.972222  82.972222   83.972222  83.972222   \n",
       "std     2.510296   2.706107   3.325109   3.333690    0.696362   0.696362   \n",
       "min    78.000000  80.000000  75.000000  75.000000   82.000000  82.000000   \n",
       "25%    85.000000  82.750000  80.000000  80.000000   84.000000  84.000000   \n",
       "50%    87.000000  84.000000  84.000000  83.000000   84.000000  84.000000   \n",
       "75%    88.000000  87.000000  85.000000  85.000000   84.000000  84.000000   \n",
       "max    91.000000  89.000000  89.000000  90.000000   85.000000  85.000000   \n",
       "\n",
       "       Matematika P   Matematika K  Sejarah P   Sejarah K  ...  \\\n",
       "count      36.000000     36.000000   36.000000  36.000000  ...   \n",
       "mean       78.277778     79.222222   80.250000  81.611111  ...   \n",
       "std         2.361732      2.294230    3.572714   3.054531  ...   \n",
       "min        75.000000     75.000000   75.000000  75.000000  ...   \n",
       "25%        77.250000     78.000000   77.000000  79.000000  ...   \n",
       "50%        78.000000     80.000000   80.000000  82.500000  ...   \n",
       "75%        80.000000     80.000000   84.000000  84.250000  ...   \n",
       "max        85.000000     85.000000   88.000000  85.000000  ...   \n",
       "\n",
       "       Gambar Teknik Mesin P   Gambar Teknik Mesin K  \\\n",
       "count               36.000000              36.000000   \n",
       "mean                74.472222              74.416667   \n",
       "std                  1.715244               2.033646   \n",
       "min                 70.000000              70.000000   \n",
       "25%                 75.000000              73.000000   \n",
       "50%                 75.000000              75.000000   \n",
       "75%                 75.000000              75.000000   \n",
       "max                 78.000000              80.000000   \n",
       "\n",
       "       Pekerjaan Dasar Teknik Mesin P   Pekerjaan Dasar Teknik Mesin K  \\\n",
       "count                        36.000000                       36.000000   \n",
       "mean                         75.166667                       77.666667   \n",
       "std                           1.298351                        2.518503   \n",
       "min                          72.000000                       74.000000   \n",
       "25%                          74.000000                       77.000000   \n",
       "50%                          76.000000                       78.000000   \n",
       "75%                          76.000000                       78.000000   \n",
       "max                          76.000000                       88.000000   \n",
       "\n",
       "       Dasar Perencanaan Teknik Mesin P   Dasar Perencanaan Teknik Mesin K  \\\n",
       "count                          36.000000                         36.000000   \n",
       "mean                           77.694444                         79.388889   \n",
       "std                             3.142514                          5.189428   \n",
       "min                            72.000000                         70.000000   \n",
       "25%                            75.000000                         76.000000   \n",
       "50%                            78.000000                         80.000000   \n",
       "75%                            80.000000                         83.500000   \n",
       "max                            85.000000                         88.000000   \n",
       "\n",
       "               JML    Average       Rank        AVE  \n",
       "count    36.000000  36.000000  36.000000  36.000000  \n",
       "mean   2394.361111  79.775000  18.361111  79.811389  \n",
       "std      33.339940   1.114931  10.677487   1.110359  \n",
       "min    2291.000000  76.300000   1.000000  76.370000  \n",
       "25%    2381.750000  79.350000   9.750000  79.390000  \n",
       "50%    2398.000000  79.900000  18.000000  79.935000  \n",
       "75%    2413.250000  80.425000  27.250000  80.442500  \n",
       "max    2458.000000  81.900000  36.000000  81.930000  \n",
       "\n",
       "[8 rows x 34 columns]"
      ]
     },
     "execution_count": 4,
     "metadata": {},
     "output_type": "execute_result"
    }
   ],
   "source": [
    "tpmc1.describe()"
   ]
  },
  {
   "cell_type": "code",
   "execution_count": 5,
   "id": "2327b1af-2da3-40c8-aa99-2a60d79b7cd3",
   "metadata": {},
   "outputs": [
    {
     "data": {
      "text/html": [
       "<div>\n",
       "<style scoped>\n",
       "    .dataframe tbody tr th:only-of-type {\n",
       "        vertical-align: middle;\n",
       "    }\n",
       "\n",
       "    .dataframe tbody tr th {\n",
       "        vertical-align: top;\n",
       "    }\n",
       "\n",
       "    .dataframe thead th {\n",
       "        text-align: right;\n",
       "    }\n",
       "</style>\n",
       "<table border=\"1\" class=\"dataframe\">\n",
       "  <thead>\n",
       "    <tr style=\"text-align: right;\">\n",
       "      <th></th>\n",
       "      <th>AGAMA P</th>\n",
       "      <th>AGAMA K</th>\n",
       "      <th>PKN P</th>\n",
       "      <th>PKN K</th>\n",
       "      <th>B. Indo P</th>\n",
       "      <th>B. Indo K</th>\n",
       "      <th>Matematika P</th>\n",
       "      <th>Matematika K</th>\n",
       "      <th>Sejarah P</th>\n",
       "      <th>Sejarah K</th>\n",
       "      <th>...</th>\n",
       "      <th>Gambar Teknik Mesin P</th>\n",
       "      <th>Gambar Teknik Mesin K</th>\n",
       "      <th>Pekerjaan Dasar Teknik Mesin P</th>\n",
       "      <th>Pekerjaan Dasar Teknik Mesin K</th>\n",
       "      <th>Dasar Perencanaan Teknik Mesin P</th>\n",
       "      <th>Dasar Perencanaan Teknik Mesin K</th>\n",
       "      <th>JML</th>\n",
       "      <th>Average</th>\n",
       "      <th>Rank</th>\n",
       "      <th>AVE</th>\n",
       "    </tr>\n",
       "  </thead>\n",
       "  <tbody>\n",
       "    <tr>\n",
       "      <th>AGAMA P</th>\n",
       "      <td>1.000000</td>\n",
       "      <td>0.631123</td>\n",
       "      <td>0.213554</td>\n",
       "      <td>0.291530</td>\n",
       "      <td>0.349591</td>\n",
       "      <td>0.349591</td>\n",
       "      <td>0.284869</td>\n",
       "      <td>0.366563</td>\n",
       "      <td>0.205479</td>\n",
       "      <td>0.214048</td>\n",
       "      <td>...</td>\n",
       "      <td>-0.050504</td>\n",
       "      <td>-0.155775</td>\n",
       "      <td>-2.133126e-01</td>\n",
       "      <td>0.034647</td>\n",
       "      <td>0.106040</td>\n",
       "      <td>0.139393</td>\n",
       "      <td>0.507959</td>\n",
       "      <td>0.510932</td>\n",
       "      <td>-0.378472</td>\n",
       "      <td>0.508326</td>\n",
       "    </tr>\n",
       "    <tr>\n",
       "      <th>AGAMA K</th>\n",
       "      <td>0.631123</td>\n",
       "      <td>1.000000</td>\n",
       "      <td>0.325907</td>\n",
       "      <td>0.426415</td>\n",
       "      <td>0.358409</td>\n",
       "      <td>0.358409</td>\n",
       "      <td>0.445312</td>\n",
       "      <td>0.560937</td>\n",
       "      <td>0.080530</td>\n",
       "      <td>-0.014018</td>\n",
       "      <td>...</td>\n",
       "      <td>0.160897</td>\n",
       "      <td>0.007355</td>\n",
       "      <td>-2.669992e-01</td>\n",
       "      <td>0.078255</td>\n",
       "      <td>0.053850</td>\n",
       "      <td>-0.018198</td>\n",
       "      <td>0.515143</td>\n",
       "      <td>0.514918</td>\n",
       "      <td>-0.469992</td>\n",
       "      <td>0.515641</td>\n",
       "    </tr>\n",
       "    <tr>\n",
       "      <th>PKN P</th>\n",
       "      <td>0.213554</td>\n",
       "      <td>0.325907</td>\n",
       "      <td>1.000000</td>\n",
       "      <td>0.974228</td>\n",
       "      <td>0.480890</td>\n",
       "      <td>0.480890</td>\n",
       "      <td>0.383029</td>\n",
       "      <td>0.468997</td>\n",
       "      <td>0.250729</td>\n",
       "      <td>0.260522</td>\n",
       "      <td>...</td>\n",
       "      <td>0.102557</td>\n",
       "      <td>0.158094</td>\n",
       "      <td>4.742980e-02</td>\n",
       "      <td>-0.134197</td>\n",
       "      <td>0.239784</td>\n",
       "      <td>0.268883</td>\n",
       "      <td>0.661165</td>\n",
       "      <td>0.664140</td>\n",
       "      <td>-0.599243</td>\n",
       "      <td>0.660655</td>\n",
       "    </tr>\n",
       "    <tr>\n",
       "      <th>PKN K</th>\n",
       "      <td>0.291530</td>\n",
       "      <td>0.426415</td>\n",
       "      <td>0.974228</td>\n",
       "      <td>1.000000</td>\n",
       "      <td>0.491960</td>\n",
       "      <td>0.491960</td>\n",
       "      <td>0.454622</td>\n",
       "      <td>0.527561</td>\n",
       "      <td>0.254881</td>\n",
       "      <td>0.262657</td>\n",
       "      <td>...</td>\n",
       "      <td>0.137270</td>\n",
       "      <td>0.140830</td>\n",
       "      <td>-5.500896e-03</td>\n",
       "      <td>-0.116837</td>\n",
       "      <td>0.233713</td>\n",
       "      <td>0.220296</td>\n",
       "      <td>0.684141</td>\n",
       "      <td>0.685491</td>\n",
       "      <td>-0.603319</td>\n",
       "      <td>0.683886</td>\n",
       "    </tr>\n",
       "    <tr>\n",
       "      <th>B. Indo P</th>\n",
       "      <td>0.349591</td>\n",
       "      <td>0.358409</td>\n",
       "      <td>0.480890</td>\n",
       "      <td>0.491960</td>\n",
       "      <td>1.000000</td>\n",
       "      <td>1.000000</td>\n",
       "      <td>0.456515</td>\n",
       "      <td>0.629907</td>\n",
       "      <td>0.393332</td>\n",
       "      <td>0.384315</td>\n",
       "      <td>...</td>\n",
       "      <td>0.178739</td>\n",
       "      <td>0.169809</td>\n",
       "      <td>3.686816e-02</td>\n",
       "      <td>-0.200925</td>\n",
       "      <td>0.244080</td>\n",
       "      <td>0.287704</td>\n",
       "      <td>0.642840</td>\n",
       "      <td>0.639401</td>\n",
       "      <td>-0.532737</td>\n",
       "      <td>0.643009</td>\n",
       "    </tr>\n",
       "    <tr>\n",
       "      <th>B. Indo K</th>\n",
       "      <td>0.349591</td>\n",
       "      <td>0.358409</td>\n",
       "      <td>0.480890</td>\n",
       "      <td>0.491960</td>\n",
       "      <td>1.000000</td>\n",
       "      <td>1.000000</td>\n",
       "      <td>0.456515</td>\n",
       "      <td>0.629907</td>\n",
       "      <td>0.393332</td>\n",
       "      <td>0.384315</td>\n",
       "      <td>...</td>\n",
       "      <td>0.178739</td>\n",
       "      <td>0.169809</td>\n",
       "      <td>3.686816e-02</td>\n",
       "      <td>-0.200925</td>\n",
       "      <td>0.244080</td>\n",
       "      <td>0.287704</td>\n",
       "      <td>0.642840</td>\n",
       "      <td>0.639401</td>\n",
       "      <td>-0.532737</td>\n",
       "      <td>0.643009</td>\n",
       "    </tr>\n",
       "    <tr>\n",
       "      <th>Matematika P</th>\n",
       "      <td>0.284869</td>\n",
       "      <td>0.445312</td>\n",
       "      <td>0.383029</td>\n",
       "      <td>0.454622</td>\n",
       "      <td>0.456515</td>\n",
       "      <td>0.456515</td>\n",
       "      <td>1.000000</td>\n",
       "      <td>0.853067</td>\n",
       "      <td>0.431731</td>\n",
       "      <td>0.359971</td>\n",
       "      <td>...</td>\n",
       "      <td>0.629678</td>\n",
       "      <td>0.391626</td>\n",
       "      <td>-1.273421e-01</td>\n",
       "      <td>0.198545</td>\n",
       "      <td>0.215796</td>\n",
       "      <td>0.151788</td>\n",
       "      <td>0.686305</td>\n",
       "      <td>0.680874</td>\n",
       "      <td>-0.629511</td>\n",
       "      <td>0.686795</td>\n",
       "    </tr>\n",
       "    <tr>\n",
       "      <th>Matematika K</th>\n",
       "      <td>0.366563</td>\n",
       "      <td>0.560937</td>\n",
       "      <td>0.468997</td>\n",
       "      <td>0.527561</td>\n",
       "      <td>0.629907</td>\n",
       "      <td>0.629907</td>\n",
       "      <td>0.853067</td>\n",
       "      <td>1.000000</td>\n",
       "      <td>0.345090</td>\n",
       "      <td>0.294004</td>\n",
       "      <td>...</td>\n",
       "      <td>0.451767</td>\n",
       "      <td>0.322519</td>\n",
       "      <td>-1.470752e-01</td>\n",
       "      <td>0.131862</td>\n",
       "      <td>0.295019</td>\n",
       "      <td>0.333306</td>\n",
       "      <td>0.722083</td>\n",
       "      <td>0.717104</td>\n",
       "      <td>-0.629695</td>\n",
       "      <td>0.722287</td>\n",
       "    </tr>\n",
       "    <tr>\n",
       "      <th>Sejarah P</th>\n",
       "      <td>0.205479</td>\n",
       "      <td>0.080530</td>\n",
       "      <td>0.250729</td>\n",
       "      <td>0.254881</td>\n",
       "      <td>0.393332</td>\n",
       "      <td>0.393332</td>\n",
       "      <td>0.431731</td>\n",
       "      <td>0.345090</td>\n",
       "      <td>1.000000</td>\n",
       "      <td>0.899323</td>\n",
       "      <td>...</td>\n",
       "      <td>0.423111</td>\n",
       "      <td>0.174009</td>\n",
       "      <td>2.679359e-01</td>\n",
       "      <td>0.136540</td>\n",
       "      <td>0.238577</td>\n",
       "      <td>0.144087</td>\n",
       "      <td>0.614717</td>\n",
       "      <td>0.610580</td>\n",
       "      <td>-0.638310</td>\n",
       "      <td>0.614841</td>\n",
       "    </tr>\n",
       "    <tr>\n",
       "      <th>Sejarah K</th>\n",
       "      <td>0.214048</td>\n",
       "      <td>-0.014018</td>\n",
       "      <td>0.260522</td>\n",
       "      <td>0.262657</td>\n",
       "      <td>0.384315</td>\n",
       "      <td>0.384315</td>\n",
       "      <td>0.359971</td>\n",
       "      <td>0.294004</td>\n",
       "      <td>0.899323</td>\n",
       "      <td>1.000000</td>\n",
       "      <td>...</td>\n",
       "      <td>0.286906</td>\n",
       "      <td>0.086624</td>\n",
       "      <td>2.905759e-01</td>\n",
       "      <td>0.116373</td>\n",
       "      <td>0.323615</td>\n",
       "      <td>0.175641</td>\n",
       "      <td>0.573476</td>\n",
       "      <td>0.570071</td>\n",
       "      <td>-0.513304</td>\n",
       "      <td>0.573677</td>\n",
       "    </tr>\n",
       "    <tr>\n",
       "      <th>B. Inggris P</th>\n",
       "      <td>0.345186</td>\n",
       "      <td>0.103135</td>\n",
       "      <td>0.202244</td>\n",
       "      <td>0.185777</td>\n",
       "      <td>0.217570</td>\n",
       "      <td>0.217570</td>\n",
       "      <td>0.195830</td>\n",
       "      <td>0.101954</td>\n",
       "      <td>0.308752</td>\n",
       "      <td>0.245395</td>\n",
       "      <td>...</td>\n",
       "      <td>-0.001550</td>\n",
       "      <td>-0.186905</td>\n",
       "      <td>1.924404e-01</td>\n",
       "      <td>-0.261740</td>\n",
       "      <td>0.060054</td>\n",
       "      <td>0.189515</td>\n",
       "      <td>0.320416</td>\n",
       "      <td>0.322560</td>\n",
       "      <td>-0.330839</td>\n",
       "      <td>0.320656</td>\n",
       "    </tr>\n",
       "    <tr>\n",
       "      <th>B. Inggris K</th>\n",
       "      <td>0.394438</td>\n",
       "      <td>0.164726</td>\n",
       "      <td>0.198125</td>\n",
       "      <td>0.190515</td>\n",
       "      <td>0.249257</td>\n",
       "      <td>0.249257</td>\n",
       "      <td>0.207119</td>\n",
       "      <td>0.122082</td>\n",
       "      <td>0.301435</td>\n",
       "      <td>0.222133</td>\n",
       "      <td>...</td>\n",
       "      <td>0.018399</td>\n",
       "      <td>-0.203678</td>\n",
       "      <td>1.823009e-01</td>\n",
       "      <td>-0.239651</td>\n",
       "      <td>0.087872</td>\n",
       "      <td>0.183961</td>\n",
       "      <td>0.338400</td>\n",
       "      <td>0.339667</td>\n",
       "      <td>-0.348765</td>\n",
       "      <td>0.338791</td>\n",
       "    </tr>\n",
       "    <tr>\n",
       "      <th>Seni Budaya P</th>\n",
       "      <td>-0.008421</td>\n",
       "      <td>-0.033893</td>\n",
       "      <td>0.152067</td>\n",
       "      <td>0.103810</td>\n",
       "      <td>0.214946</td>\n",
       "      <td>0.214946</td>\n",
       "      <td>0.099036</td>\n",
       "      <td>0.082630</td>\n",
       "      <td>0.141719</td>\n",
       "      <td>0.099345</td>\n",
       "      <td>...</td>\n",
       "      <td>0.162404</td>\n",
       "      <td>0.525608</td>\n",
       "      <td>2.631331e-01</td>\n",
       "      <td>-0.008123</td>\n",
       "      <td>0.145062</td>\n",
       "      <td>-0.162547</td>\n",
       "      <td>0.345140</td>\n",
       "      <td>0.347614</td>\n",
       "      <td>-0.399505</td>\n",
       "      <td>0.344350</td>\n",
       "    </tr>\n",
       "    <tr>\n",
       "      <th>Seni Budaya K</th>\n",
       "      <td>-0.044450</td>\n",
       "      <td>-0.023638</td>\n",
       "      <td>0.060606</td>\n",
       "      <td>0.013706</td>\n",
       "      <td>0.127773</td>\n",
       "      <td>0.127773</td>\n",
       "      <td>-0.006517</td>\n",
       "      <td>-0.042347</td>\n",
       "      <td>0.401030</td>\n",
       "      <td>0.308614</td>\n",
       "      <td>...</td>\n",
       "      <td>0.430414</td>\n",
       "      <td>0.403704</td>\n",
       "      <td>1.089080e-01</td>\n",
       "      <td>0.080207</td>\n",
       "      <td>0.005663</td>\n",
       "      <td>-0.211681</td>\n",
       "      <td>0.216921</td>\n",
       "      <td>0.220131</td>\n",
       "      <td>-0.304541</td>\n",
       "      <td>0.216095</td>\n",
       "    </tr>\n",
       "    <tr>\n",
       "      <th>PJOK P</th>\n",
       "      <td>0.082665</td>\n",
       "      <td>0.156011</td>\n",
       "      <td>0.475593</td>\n",
       "      <td>0.455050</td>\n",
       "      <td>0.390479</td>\n",
       "      <td>0.390479</td>\n",
       "      <td>0.348430</td>\n",
       "      <td>0.315016</td>\n",
       "      <td>0.138197</td>\n",
       "      <td>0.086677</td>\n",
       "      <td>...</td>\n",
       "      <td>0.183559</td>\n",
       "      <td>0.401124</td>\n",
       "      <td>-1.365719e-15</td>\n",
       "      <td>-0.017047</td>\n",
       "      <td>0.111575</td>\n",
       "      <td>0.168225</td>\n",
       "      <td>0.490852</td>\n",
       "      <td>0.494829</td>\n",
       "      <td>-0.455710</td>\n",
       "      <td>0.490035</td>\n",
       "    </tr>\n",
       "    <tr>\n",
       "      <th>PJOK K</th>\n",
       "      <td>-0.055207</td>\n",
       "      <td>0.200195</td>\n",
       "      <td>0.378899</td>\n",
       "      <td>0.389262</td>\n",
       "      <td>0.235200</td>\n",
       "      <td>0.235200</td>\n",
       "      <td>0.314739</td>\n",
       "      <td>0.269085</td>\n",
       "      <td>0.052896</td>\n",
       "      <td>0.020623</td>\n",
       "      <td>...</td>\n",
       "      <td>0.139559</td>\n",
       "      <td>0.613324</td>\n",
       "      <td>1.164445e-01</td>\n",
       "      <td>0.030015</td>\n",
       "      <td>0.284650</td>\n",
       "      <td>-0.150523</td>\n",
       "      <td>0.447421</td>\n",
       "      <td>0.447483</td>\n",
       "      <td>-0.471977</td>\n",
       "      <td>0.447056</td>\n",
       "    </tr>\n",
       "    <tr>\n",
       "      <th>B. Jawa P</th>\n",
       "      <td>0.461357</td>\n",
       "      <td>0.432151</td>\n",
       "      <td>0.299570</td>\n",
       "      <td>0.312363</td>\n",
       "      <td>0.196617</td>\n",
       "      <td>0.196617</td>\n",
       "      <td>0.176579</td>\n",
       "      <td>0.222290</td>\n",
       "      <td>-0.015821</td>\n",
       "      <td>0.050170</td>\n",
       "      <td>...</td>\n",
       "      <td>0.119369</td>\n",
       "      <td>0.146387</td>\n",
       "      <td>-4.063386e-02</td>\n",
       "      <td>0.185537</td>\n",
       "      <td>0.320973</td>\n",
       "      <td>-0.007746</td>\n",
       "      <td>0.480333</td>\n",
       "      <td>0.483664</td>\n",
       "      <td>-0.425040</td>\n",
       "      <td>0.480508</td>\n",
       "    </tr>\n",
       "    <tr>\n",
       "      <th>B. Jawa K</th>\n",
       "      <td>0.258576</td>\n",
       "      <td>0.308039</td>\n",
       "      <td>0.552760</td>\n",
       "      <td>0.579007</td>\n",
       "      <td>0.210957</td>\n",
       "      <td>0.210957</td>\n",
       "      <td>0.224213</td>\n",
       "      <td>0.251658</td>\n",
       "      <td>0.051636</td>\n",
       "      <td>0.089476</td>\n",
       "      <td>...</td>\n",
       "      <td>-0.021909</td>\n",
       "      <td>0.367899</td>\n",
       "      <td>3.157545e-02</td>\n",
       "      <td>-0.093598</td>\n",
       "      <td>0.132630</td>\n",
       "      <td>-0.200789</td>\n",
       "      <td>0.451789</td>\n",
       "      <td>0.452271</td>\n",
       "      <td>-0.412104</td>\n",
       "      <td>0.451948</td>\n",
       "    </tr>\n",
       "    <tr>\n",
       "      <th>Simulasi dan Komunikasi Digital P</th>\n",
       "      <td>0.188230</td>\n",
       "      <td>0.164788</td>\n",
       "      <td>0.246019</td>\n",
       "      <td>0.271961</td>\n",
       "      <td>0.004241</td>\n",
       "      <td>0.004241</td>\n",
       "      <td>-0.027510</td>\n",
       "      <td>0.005149</td>\n",
       "      <td>0.106631</td>\n",
       "      <td>0.106351</td>\n",
       "      <td>...</td>\n",
       "      <td>-0.142905</td>\n",
       "      <td>-0.187330</td>\n",
       "      <td>1.774176e-01</td>\n",
       "      <td>-0.063321</td>\n",
       "      <td>0.337374</td>\n",
       "      <td>0.272021</td>\n",
       "      <td>0.320921</td>\n",
       "      <td>0.318648</td>\n",
       "      <td>-0.370344</td>\n",
       "      <td>0.321104</td>\n",
       "    </tr>\n",
       "    <tr>\n",
       "      <th>Simulasi dan Komunikasi Digital K</th>\n",
       "      <td>0.060308</td>\n",
       "      <td>0.033058</td>\n",
       "      <td>0.121274</td>\n",
       "      <td>0.145733</td>\n",
       "      <td>0.009882</td>\n",
       "      <td>0.009882</td>\n",
       "      <td>0.054778</td>\n",
       "      <td>0.091183</td>\n",
       "      <td>0.125967</td>\n",
       "      <td>0.237000</td>\n",
       "      <td>...</td>\n",
       "      <td>-0.145231</td>\n",
       "      <td>-0.270026</td>\n",
       "      <td>5.724130e-02</td>\n",
       "      <td>-0.019673</td>\n",
       "      <td>0.397226</td>\n",
       "      <td>0.261496</td>\n",
       "      <td>0.222707</td>\n",
       "      <td>0.218861</td>\n",
       "      <td>-0.203269</td>\n",
       "      <td>0.223245</td>\n",
       "    </tr>\n",
       "    <tr>\n",
       "      <th>Fisika P</th>\n",
       "      <td>0.549027</td>\n",
       "      <td>0.403772</td>\n",
       "      <td>0.230244</td>\n",
       "      <td>0.291152</td>\n",
       "      <td>0.363354</td>\n",
       "      <td>0.363354</td>\n",
       "      <td>0.460236</td>\n",
       "      <td>0.490090</td>\n",
       "      <td>0.334070</td>\n",
       "      <td>0.354252</td>\n",
       "      <td>...</td>\n",
       "      <td>0.138978</td>\n",
       "      <td>0.243639</td>\n",
       "      <td>2.631858e-02</td>\n",
       "      <td>0.031012</td>\n",
       "      <td>0.331130</td>\n",
       "      <td>0.178100</td>\n",
       "      <td>0.643234</td>\n",
       "      <td>0.640331</td>\n",
       "      <td>-0.545340</td>\n",
       "      <td>0.643839</td>\n",
       "    </tr>\n",
       "    <tr>\n",
       "      <th>Fisika K</th>\n",
       "      <td>0.549027</td>\n",
       "      <td>0.403772</td>\n",
       "      <td>0.230244</td>\n",
       "      <td>0.291152</td>\n",
       "      <td>0.363354</td>\n",
       "      <td>0.363354</td>\n",
       "      <td>0.460236</td>\n",
       "      <td>0.490090</td>\n",
       "      <td>0.334070</td>\n",
       "      <td>0.354252</td>\n",
       "      <td>...</td>\n",
       "      <td>0.138978</td>\n",
       "      <td>0.243639</td>\n",
       "      <td>2.631858e-02</td>\n",
       "      <td>0.031012</td>\n",
       "      <td>0.331130</td>\n",
       "      <td>0.178100</td>\n",
       "      <td>0.643234</td>\n",
       "      <td>0.640331</td>\n",
       "      <td>-0.545340</td>\n",
       "      <td>0.643839</td>\n",
       "    </tr>\n",
       "    <tr>\n",
       "      <th>Kimia P</th>\n",
       "      <td>0.501448</td>\n",
       "      <td>0.669806</td>\n",
       "      <td>0.325956</td>\n",
       "      <td>0.364204</td>\n",
       "      <td>0.475304</td>\n",
       "      <td>0.475304</td>\n",
       "      <td>0.400851</td>\n",
       "      <td>0.511862</td>\n",
       "      <td>0.171213</td>\n",
       "      <td>0.104540</td>\n",
       "      <td>...</td>\n",
       "      <td>0.104338</td>\n",
       "      <td>0.150097</td>\n",
       "      <td>-1.858515e-03</td>\n",
       "      <td>0.088146</td>\n",
       "      <td>0.126569</td>\n",
       "      <td>0.231407</td>\n",
       "      <td>0.620900</td>\n",
       "      <td>0.621684</td>\n",
       "      <td>-0.567046</td>\n",
       "      <td>0.621140</td>\n",
       "    </tr>\n",
       "    <tr>\n",
       "      <th>Kimia K</th>\n",
       "      <td>0.535590</td>\n",
       "      <td>0.686863</td>\n",
       "      <td>0.292969</td>\n",
       "      <td>0.341729</td>\n",
       "      <td>0.469008</td>\n",
       "      <td>0.469008</td>\n",
       "      <td>0.418150</td>\n",
       "      <td>0.493791</td>\n",
       "      <td>0.211459</td>\n",
       "      <td>0.145951</td>\n",
       "      <td>...</td>\n",
       "      <td>0.116384</td>\n",
       "      <td>0.157129</td>\n",
       "      <td>5.541694e-02</td>\n",
       "      <td>0.094109</td>\n",
       "      <td>0.116949</td>\n",
       "      <td>0.151426</td>\n",
       "      <td>0.630903</td>\n",
       "      <td>0.631481</td>\n",
       "      <td>-0.585526</td>\n",
       "      <td>0.631153</td>\n",
       "    </tr>\n",
       "    <tr>\n",
       "      <th>Gambar Teknik Mesin P</th>\n",
       "      <td>-0.050504</td>\n",
       "      <td>0.160897</td>\n",
       "      <td>0.102557</td>\n",
       "      <td>0.137270</td>\n",
       "      <td>0.178739</td>\n",
       "      <td>0.178739</td>\n",
       "      <td>0.629678</td>\n",
       "      <td>0.451767</td>\n",
       "      <td>0.423111</td>\n",
       "      <td>0.286906</td>\n",
       "      <td>...</td>\n",
       "      <td>1.000000</td>\n",
       "      <td>0.490770</td>\n",
       "      <td>-7.483948e-02</td>\n",
       "      <td>0.500459</td>\n",
       "      <td>0.059338</td>\n",
       "      <td>0.023717</td>\n",
       "      <td>0.411619</td>\n",
       "      <td>0.411230</td>\n",
       "      <td>-0.415188</td>\n",
       "      <td>0.411444</td>\n",
       "    </tr>\n",
       "    <tr>\n",
       "      <th>Gambar Teknik Mesin K</th>\n",
       "      <td>-0.155775</td>\n",
       "      <td>0.007355</td>\n",
       "      <td>0.158094</td>\n",
       "      <td>0.140830</td>\n",
       "      <td>0.169809</td>\n",
       "      <td>0.169809</td>\n",
       "      <td>0.391626</td>\n",
       "      <td>0.322519</td>\n",
       "      <td>0.174009</td>\n",
       "      <td>0.086624</td>\n",
       "      <td>...</td>\n",
       "      <td>0.490770</td>\n",
       "      <td>1.000000</td>\n",
       "      <td>2.218291e-01</td>\n",
       "      <td>0.273344</td>\n",
       "      <td>0.150142</td>\n",
       "      <td>-0.216133</td>\n",
       "      <td>0.371497</td>\n",
       "      <td>0.373938</td>\n",
       "      <td>-0.405813</td>\n",
       "      <td>0.370595</td>\n",
       "    </tr>\n",
       "    <tr>\n",
       "      <th>Pekerjaan Dasar Teknik Mesin P</th>\n",
       "      <td>-0.213313</td>\n",
       "      <td>-0.266999</td>\n",
       "      <td>0.047430</td>\n",
       "      <td>-0.005501</td>\n",
       "      <td>0.036868</td>\n",
       "      <td>0.036868</td>\n",
       "      <td>-0.127342</td>\n",
       "      <td>-0.147075</td>\n",
       "      <td>0.267936</td>\n",
       "      <td>0.290576</td>\n",
       "      <td>...</td>\n",
       "      <td>-0.074839</td>\n",
       "      <td>0.221829</td>\n",
       "      <td>1.000000e+00</td>\n",
       "      <td>-0.209705</td>\n",
       "      <td>0.369974</td>\n",
       "      <td>-0.111667</td>\n",
       "      <td>0.143120</td>\n",
       "      <td>0.143097</td>\n",
       "      <td>-0.274452</td>\n",
       "      <td>0.142728</td>\n",
       "    </tr>\n",
       "    <tr>\n",
       "      <th>Pekerjaan Dasar Teknik Mesin K</th>\n",
       "      <td>0.034647</td>\n",
       "      <td>0.078255</td>\n",
       "      <td>-0.134197</td>\n",
       "      <td>-0.116837</td>\n",
       "      <td>-0.200925</td>\n",
       "      <td>-0.200925</td>\n",
       "      <td>0.198545</td>\n",
       "      <td>0.131862</td>\n",
       "      <td>0.136540</td>\n",
       "      <td>0.116373</td>\n",
       "      <td>...</td>\n",
       "      <td>0.500459</td>\n",
       "      <td>0.273344</td>\n",
       "      <td>-2.097050e-01</td>\n",
       "      <td>1.000000</td>\n",
       "      <td>0.069794</td>\n",
       "      <td>0.112949</td>\n",
       "      <td>0.145069</td>\n",
       "      <td>0.149575</td>\n",
       "      <td>-0.085707</td>\n",
       "      <td>0.145253</td>\n",
       "    </tr>\n",
       "    <tr>\n",
       "      <th>Dasar Perencanaan Teknik Mesin P</th>\n",
       "      <td>0.106040</td>\n",
       "      <td>0.053850</td>\n",
       "      <td>0.239784</td>\n",
       "      <td>0.233713</td>\n",
       "      <td>0.244080</td>\n",
       "      <td>0.244080</td>\n",
       "      <td>0.215796</td>\n",
       "      <td>0.295019</td>\n",
       "      <td>0.238577</td>\n",
       "      <td>0.323615</td>\n",
       "      <td>...</td>\n",
       "      <td>0.059338</td>\n",
       "      <td>0.150142</td>\n",
       "      <td>3.699736e-01</td>\n",
       "      <td>0.069794</td>\n",
       "      <td>1.000000</td>\n",
       "      <td>0.280807</td>\n",
       "      <td>0.496039</td>\n",
       "      <td>0.493562</td>\n",
       "      <td>-0.441953</td>\n",
       "      <td>0.496169</td>\n",
       "    </tr>\n",
       "    <tr>\n",
       "      <th>Dasar Perencanaan Teknik Mesin K</th>\n",
       "      <td>0.139393</td>\n",
       "      <td>-0.018198</td>\n",
       "      <td>0.268883</td>\n",
       "      <td>0.220296</td>\n",
       "      <td>0.287704</td>\n",
       "      <td>0.287704</td>\n",
       "      <td>0.151788</td>\n",
       "      <td>0.333306</td>\n",
       "      <td>0.144087</td>\n",
       "      <td>0.175641</td>\n",
       "      <td>...</td>\n",
       "      <td>0.023717</td>\n",
       "      <td>-0.216133</td>\n",
       "      <td>-1.116674e-01</td>\n",
       "      <td>0.112949</td>\n",
       "      <td>0.280807</td>\n",
       "      <td>1.000000</td>\n",
       "      <td>0.360983</td>\n",
       "      <td>0.361226</td>\n",
       "      <td>-0.234128</td>\n",
       "      <td>0.360881</td>\n",
       "    </tr>\n",
       "    <tr>\n",
       "      <th>JML</th>\n",
       "      <td>0.507959</td>\n",
       "      <td>0.515143</td>\n",
       "      <td>0.661165</td>\n",
       "      <td>0.684141</td>\n",
       "      <td>0.642840</td>\n",
       "      <td>0.642840</td>\n",
       "      <td>0.686305</td>\n",
       "      <td>0.722083</td>\n",
       "      <td>0.614717</td>\n",
       "      <td>0.573476</td>\n",
       "      <td>...</td>\n",
       "      <td>0.411619</td>\n",
       "      <td>0.371497</td>\n",
       "      <td>1.431203e-01</td>\n",
       "      <td>0.145069</td>\n",
       "      <td>0.496039</td>\n",
       "      <td>0.360983</td>\n",
       "      <td>1.000000</td>\n",
       "      <td>0.999780</td>\n",
       "      <td>-0.928341</td>\n",
       "      <td>0.999997</td>\n",
       "    </tr>\n",
       "    <tr>\n",
       "      <th>Average</th>\n",
       "      <td>0.510932</td>\n",
       "      <td>0.514918</td>\n",
       "      <td>0.664140</td>\n",
       "      <td>0.685491</td>\n",
       "      <td>0.639401</td>\n",
       "      <td>0.639401</td>\n",
       "      <td>0.680874</td>\n",
       "      <td>0.717104</td>\n",
       "      <td>0.610580</td>\n",
       "      <td>0.570071</td>\n",
       "      <td>...</td>\n",
       "      <td>0.411230</td>\n",
       "      <td>0.373938</td>\n",
       "      <td>1.430968e-01</td>\n",
       "      <td>0.149575</td>\n",
       "      <td>0.493562</td>\n",
       "      <td>0.361226</td>\n",
       "      <td>0.999780</td>\n",
       "      <td>1.000000</td>\n",
       "      <td>-0.927548</td>\n",
       "      <td>0.999750</td>\n",
       "    </tr>\n",
       "    <tr>\n",
       "      <th>Rank</th>\n",
       "      <td>-0.378472</td>\n",
       "      <td>-0.469992</td>\n",
       "      <td>-0.599243</td>\n",
       "      <td>-0.603319</td>\n",
       "      <td>-0.532737</td>\n",
       "      <td>-0.532737</td>\n",
       "      <td>-0.629511</td>\n",
       "      <td>-0.629695</td>\n",
       "      <td>-0.638310</td>\n",
       "      <td>-0.513304</td>\n",
       "      <td>...</td>\n",
       "      <td>-0.415188</td>\n",
       "      <td>-0.405813</td>\n",
       "      <td>-2.744520e-01</td>\n",
       "      <td>-0.085707</td>\n",
       "      <td>-0.441953</td>\n",
       "      <td>-0.234128</td>\n",
       "      <td>-0.928341</td>\n",
       "      <td>-0.927548</td>\n",
       "      <td>1.000000</td>\n",
       "      <td>-0.928314</td>\n",
       "    </tr>\n",
       "    <tr>\n",
       "      <th>AVE</th>\n",
       "      <td>0.508326</td>\n",
       "      <td>0.515641</td>\n",
       "      <td>0.660655</td>\n",
       "      <td>0.683886</td>\n",
       "      <td>0.643009</td>\n",
       "      <td>0.643009</td>\n",
       "      <td>0.686795</td>\n",
       "      <td>0.722287</td>\n",
       "      <td>0.614841</td>\n",
       "      <td>0.573677</td>\n",
       "      <td>...</td>\n",
       "      <td>0.411444</td>\n",
       "      <td>0.370595</td>\n",
       "      <td>1.427281e-01</td>\n",
       "      <td>0.145253</td>\n",
       "      <td>0.496169</td>\n",
       "      <td>0.360881</td>\n",
       "      <td>0.999997</td>\n",
       "      <td>0.999750</td>\n",
       "      <td>-0.928314</td>\n",
       "      <td>1.000000</td>\n",
       "    </tr>\n",
       "  </tbody>\n",
       "</table>\n",
       "<p>34 rows × 34 columns</p>\n",
       "</div>"
      ],
      "text/plain": [
       "                                    AGAMA P    AGAMA K    PKN P      PKN K  \\\n",
       "AGAMA P                             1.000000  0.631123  0.213554  0.291530   \n",
       "AGAMA K                             0.631123  1.000000  0.325907  0.426415   \n",
       "PKN P                               0.213554  0.325907  1.000000  0.974228   \n",
       "PKN K                               0.291530  0.426415  0.974228  1.000000   \n",
       "B. Indo P                           0.349591  0.358409  0.480890  0.491960   \n",
       "B. Indo K                           0.349591  0.358409  0.480890  0.491960   \n",
       "Matematika P                        0.284869  0.445312  0.383029  0.454622   \n",
       "Matematika K                        0.366563  0.560937  0.468997  0.527561   \n",
       "Sejarah P                           0.205479  0.080530  0.250729  0.254881   \n",
       "Sejarah K                           0.214048 -0.014018  0.260522  0.262657   \n",
       "B. Inggris P                        0.345186  0.103135  0.202244  0.185777   \n",
       "B. Inggris K                        0.394438  0.164726  0.198125  0.190515   \n",
       "Seni Budaya P                      -0.008421 -0.033893  0.152067  0.103810   \n",
       "Seni Budaya K                      -0.044450 -0.023638  0.060606  0.013706   \n",
       "PJOK P                              0.082665  0.156011  0.475593  0.455050   \n",
       "PJOK K                             -0.055207  0.200195  0.378899  0.389262   \n",
       "B. Jawa P                           0.461357  0.432151  0.299570  0.312363   \n",
       "B. Jawa K                           0.258576  0.308039  0.552760  0.579007   \n",
       "Simulasi dan Komunikasi Digital P   0.188230  0.164788  0.246019  0.271961   \n",
       "Simulasi dan Komunikasi Digital K   0.060308  0.033058  0.121274  0.145733   \n",
       "Fisika P                            0.549027  0.403772  0.230244  0.291152   \n",
       "Fisika K                            0.549027  0.403772  0.230244  0.291152   \n",
       "Kimia P                             0.501448  0.669806  0.325956  0.364204   \n",
       "Kimia K                             0.535590  0.686863  0.292969  0.341729   \n",
       "Gambar Teknik Mesin P              -0.050504  0.160897  0.102557  0.137270   \n",
       "Gambar Teknik Mesin K              -0.155775  0.007355  0.158094  0.140830   \n",
       "Pekerjaan Dasar Teknik Mesin P     -0.213313 -0.266999  0.047430 -0.005501   \n",
       "Pekerjaan Dasar Teknik Mesin K      0.034647  0.078255 -0.134197 -0.116837   \n",
       "Dasar Perencanaan Teknik Mesin P    0.106040  0.053850  0.239784  0.233713   \n",
       "Dasar Perencanaan Teknik Mesin K    0.139393 -0.018198  0.268883  0.220296   \n",
       "JML                                 0.507959  0.515143  0.661165  0.684141   \n",
       "Average                             0.510932  0.514918  0.664140  0.685491   \n",
       "Rank                               -0.378472 -0.469992 -0.599243 -0.603319   \n",
       "AVE                                 0.508326  0.515641  0.660655  0.683886   \n",
       "\n",
       "                                    B. Indo P   B. Indo K  Matematika P   \\\n",
       "AGAMA P                               0.349591   0.349591       0.284869   \n",
       "AGAMA K                               0.358409   0.358409       0.445312   \n",
       "PKN P                                 0.480890   0.480890       0.383029   \n",
       "PKN K                                 0.491960   0.491960       0.454622   \n",
       "B. Indo P                             1.000000   1.000000       0.456515   \n",
       "B. Indo K                             1.000000   1.000000       0.456515   \n",
       "Matematika P                          0.456515   0.456515       1.000000   \n",
       "Matematika K                          0.629907   0.629907       0.853067   \n",
       "Sejarah P                             0.393332   0.393332       0.431731   \n",
       "Sejarah K                             0.384315   0.384315       0.359971   \n",
       "B. Inggris P                          0.217570   0.217570       0.195830   \n",
       "B. Inggris K                          0.249257   0.249257       0.207119   \n",
       "Seni Budaya P                         0.214946   0.214946       0.099036   \n",
       "Seni Budaya K                         0.127773   0.127773      -0.006517   \n",
       "PJOK P                                0.390479   0.390479       0.348430   \n",
       "PJOK K                                0.235200   0.235200       0.314739   \n",
       "B. Jawa P                             0.196617   0.196617       0.176579   \n",
       "B. Jawa K                             0.210957   0.210957       0.224213   \n",
       "Simulasi dan Komunikasi Digital P     0.004241   0.004241      -0.027510   \n",
       "Simulasi dan Komunikasi Digital K     0.009882   0.009882       0.054778   \n",
       "Fisika P                              0.363354   0.363354       0.460236   \n",
       "Fisika K                              0.363354   0.363354       0.460236   \n",
       "Kimia P                               0.475304   0.475304       0.400851   \n",
       "Kimia K                               0.469008   0.469008       0.418150   \n",
       "Gambar Teknik Mesin P                 0.178739   0.178739       0.629678   \n",
       "Gambar Teknik Mesin K                 0.169809   0.169809       0.391626   \n",
       "Pekerjaan Dasar Teknik Mesin P        0.036868   0.036868      -0.127342   \n",
       "Pekerjaan Dasar Teknik Mesin K       -0.200925  -0.200925       0.198545   \n",
       "Dasar Perencanaan Teknik Mesin P      0.244080   0.244080       0.215796   \n",
       "Dasar Perencanaan Teknik Mesin K      0.287704   0.287704       0.151788   \n",
       "JML                                   0.642840   0.642840       0.686305   \n",
       "Average                               0.639401   0.639401       0.680874   \n",
       "Rank                                 -0.532737  -0.532737      -0.629511   \n",
       "AVE                                   0.643009   0.643009       0.686795   \n",
       "\n",
       "                                    Matematika K  Sejarah P   Sejarah K  ...  \\\n",
       "AGAMA P                                 0.366563    0.205479   0.214048  ...   \n",
       "AGAMA K                                 0.560937    0.080530  -0.014018  ...   \n",
       "PKN P                                   0.468997    0.250729   0.260522  ...   \n",
       "PKN K                                   0.527561    0.254881   0.262657  ...   \n",
       "B. Indo P                               0.629907    0.393332   0.384315  ...   \n",
       "B. Indo K                               0.629907    0.393332   0.384315  ...   \n",
       "Matematika P                            0.853067    0.431731   0.359971  ...   \n",
       "Matematika K                            1.000000    0.345090   0.294004  ...   \n",
       "Sejarah P                               0.345090    1.000000   0.899323  ...   \n",
       "Sejarah K                               0.294004    0.899323   1.000000  ...   \n",
       "B. Inggris P                            0.101954    0.308752   0.245395  ...   \n",
       "B. Inggris K                            0.122082    0.301435   0.222133  ...   \n",
       "Seni Budaya P                           0.082630    0.141719   0.099345  ...   \n",
       "Seni Budaya K                          -0.042347    0.401030   0.308614  ...   \n",
       "PJOK P                                  0.315016    0.138197   0.086677  ...   \n",
       "PJOK K                                  0.269085    0.052896   0.020623  ...   \n",
       "B. Jawa P                               0.222290   -0.015821   0.050170  ...   \n",
       "B. Jawa K                               0.251658    0.051636   0.089476  ...   \n",
       "Simulasi dan Komunikasi Digital P       0.005149    0.106631   0.106351  ...   \n",
       "Simulasi dan Komunikasi Digital K       0.091183    0.125967   0.237000  ...   \n",
       "Fisika P                                0.490090    0.334070   0.354252  ...   \n",
       "Fisika K                                0.490090    0.334070   0.354252  ...   \n",
       "Kimia P                                 0.511862    0.171213   0.104540  ...   \n",
       "Kimia K                                 0.493791    0.211459   0.145951  ...   \n",
       "Gambar Teknik Mesin P                   0.451767    0.423111   0.286906  ...   \n",
       "Gambar Teknik Mesin K                   0.322519    0.174009   0.086624  ...   \n",
       "Pekerjaan Dasar Teknik Mesin P         -0.147075    0.267936   0.290576  ...   \n",
       "Pekerjaan Dasar Teknik Mesin K          0.131862    0.136540   0.116373  ...   \n",
       "Dasar Perencanaan Teknik Mesin P        0.295019    0.238577   0.323615  ...   \n",
       "Dasar Perencanaan Teknik Mesin K        0.333306    0.144087   0.175641  ...   \n",
       "JML                                     0.722083    0.614717   0.573476  ...   \n",
       "Average                                 0.717104    0.610580   0.570071  ...   \n",
       "Rank                                   -0.629695   -0.638310  -0.513304  ...   \n",
       "AVE                                     0.722287    0.614841   0.573677  ...   \n",
       "\n",
       "                                    Gambar Teknik Mesin P   \\\n",
       "AGAMA P                                          -0.050504   \n",
       "AGAMA K                                           0.160897   \n",
       "PKN P                                             0.102557   \n",
       "PKN K                                             0.137270   \n",
       "B. Indo P                                         0.178739   \n",
       "B. Indo K                                         0.178739   \n",
       "Matematika P                                      0.629678   \n",
       "Matematika K                                      0.451767   \n",
       "Sejarah P                                         0.423111   \n",
       "Sejarah K                                         0.286906   \n",
       "B. Inggris P                                     -0.001550   \n",
       "B. Inggris K                                      0.018399   \n",
       "Seni Budaya P                                     0.162404   \n",
       "Seni Budaya K                                     0.430414   \n",
       "PJOK P                                            0.183559   \n",
       "PJOK K                                            0.139559   \n",
       "B. Jawa P                                         0.119369   \n",
       "B. Jawa K                                        -0.021909   \n",
       "Simulasi dan Komunikasi Digital P                -0.142905   \n",
       "Simulasi dan Komunikasi Digital K                -0.145231   \n",
       "Fisika P                                          0.138978   \n",
       "Fisika K                                          0.138978   \n",
       "Kimia P                                           0.104338   \n",
       "Kimia K                                           0.116384   \n",
       "Gambar Teknik Mesin P                             1.000000   \n",
       "Gambar Teknik Mesin K                             0.490770   \n",
       "Pekerjaan Dasar Teknik Mesin P                   -0.074839   \n",
       "Pekerjaan Dasar Teknik Mesin K                    0.500459   \n",
       "Dasar Perencanaan Teknik Mesin P                  0.059338   \n",
       "Dasar Perencanaan Teknik Mesin K                  0.023717   \n",
       "JML                                               0.411619   \n",
       "Average                                           0.411230   \n",
       "Rank                                             -0.415188   \n",
       "AVE                                               0.411444   \n",
       "\n",
       "                                    Gambar Teknik Mesin K  \\\n",
       "AGAMA P                                         -0.155775   \n",
       "AGAMA K                                          0.007355   \n",
       "PKN P                                            0.158094   \n",
       "PKN K                                            0.140830   \n",
       "B. Indo P                                        0.169809   \n",
       "B. Indo K                                        0.169809   \n",
       "Matematika P                                     0.391626   \n",
       "Matematika K                                     0.322519   \n",
       "Sejarah P                                        0.174009   \n",
       "Sejarah K                                        0.086624   \n",
       "B. Inggris P                                    -0.186905   \n",
       "B. Inggris K                                    -0.203678   \n",
       "Seni Budaya P                                    0.525608   \n",
       "Seni Budaya K                                    0.403704   \n",
       "PJOK P                                           0.401124   \n",
       "PJOK K                                           0.613324   \n",
       "B. Jawa P                                        0.146387   \n",
       "B. Jawa K                                        0.367899   \n",
       "Simulasi dan Komunikasi Digital P               -0.187330   \n",
       "Simulasi dan Komunikasi Digital K               -0.270026   \n",
       "Fisika P                                         0.243639   \n",
       "Fisika K                                         0.243639   \n",
       "Kimia P                                          0.150097   \n",
       "Kimia K                                          0.157129   \n",
       "Gambar Teknik Mesin P                            0.490770   \n",
       "Gambar Teknik Mesin K                            1.000000   \n",
       "Pekerjaan Dasar Teknik Mesin P                   0.221829   \n",
       "Pekerjaan Dasar Teknik Mesin K                   0.273344   \n",
       "Dasar Perencanaan Teknik Mesin P                 0.150142   \n",
       "Dasar Perencanaan Teknik Mesin K                -0.216133   \n",
       "JML                                              0.371497   \n",
       "Average                                          0.373938   \n",
       "Rank                                            -0.405813   \n",
       "AVE                                              0.370595   \n",
       "\n",
       "                                    Pekerjaan Dasar Teknik Mesin P   \\\n",
       "AGAMA P                                               -2.133126e-01   \n",
       "AGAMA K                                               -2.669992e-01   \n",
       "PKN P                                                  4.742980e-02   \n",
       "PKN K                                                 -5.500896e-03   \n",
       "B. Indo P                                              3.686816e-02   \n",
       "B. Indo K                                              3.686816e-02   \n",
       "Matematika P                                          -1.273421e-01   \n",
       "Matematika K                                          -1.470752e-01   \n",
       "Sejarah P                                              2.679359e-01   \n",
       "Sejarah K                                              2.905759e-01   \n",
       "B. Inggris P                                           1.924404e-01   \n",
       "B. Inggris K                                           1.823009e-01   \n",
       "Seni Budaya P                                          2.631331e-01   \n",
       "Seni Budaya K                                          1.089080e-01   \n",
       "PJOK P                                                -1.365719e-15   \n",
       "PJOK K                                                 1.164445e-01   \n",
       "B. Jawa P                                             -4.063386e-02   \n",
       "B. Jawa K                                              3.157545e-02   \n",
       "Simulasi dan Komunikasi Digital P                      1.774176e-01   \n",
       "Simulasi dan Komunikasi Digital K                      5.724130e-02   \n",
       "Fisika P                                               2.631858e-02   \n",
       "Fisika K                                               2.631858e-02   \n",
       "Kimia P                                               -1.858515e-03   \n",
       "Kimia K                                                5.541694e-02   \n",
       "Gambar Teknik Mesin P                                 -7.483948e-02   \n",
       "Gambar Teknik Mesin K                                  2.218291e-01   \n",
       "Pekerjaan Dasar Teknik Mesin P                         1.000000e+00   \n",
       "Pekerjaan Dasar Teknik Mesin K                        -2.097050e-01   \n",
       "Dasar Perencanaan Teknik Mesin P                       3.699736e-01   \n",
       "Dasar Perencanaan Teknik Mesin K                      -1.116674e-01   \n",
       "JML                                                    1.431203e-01   \n",
       "Average                                                1.430968e-01   \n",
       "Rank                                                  -2.744520e-01   \n",
       "AVE                                                    1.427281e-01   \n",
       "\n",
       "                                    Pekerjaan Dasar Teknik Mesin K  \\\n",
       "AGAMA P                                                   0.034647   \n",
       "AGAMA K                                                   0.078255   \n",
       "PKN P                                                    -0.134197   \n",
       "PKN K                                                    -0.116837   \n",
       "B. Indo P                                                -0.200925   \n",
       "B. Indo K                                                -0.200925   \n",
       "Matematika P                                              0.198545   \n",
       "Matematika K                                              0.131862   \n",
       "Sejarah P                                                 0.136540   \n",
       "Sejarah K                                                 0.116373   \n",
       "B. Inggris P                                             -0.261740   \n",
       "B. Inggris K                                             -0.239651   \n",
       "Seni Budaya P                                            -0.008123   \n",
       "Seni Budaya K                                             0.080207   \n",
       "PJOK P                                                   -0.017047   \n",
       "PJOK K                                                    0.030015   \n",
       "B. Jawa P                                                 0.185537   \n",
       "B. Jawa K                                                -0.093598   \n",
       "Simulasi dan Komunikasi Digital P                        -0.063321   \n",
       "Simulasi dan Komunikasi Digital K                        -0.019673   \n",
       "Fisika P                                                  0.031012   \n",
       "Fisika K                                                  0.031012   \n",
       "Kimia P                                                   0.088146   \n",
       "Kimia K                                                   0.094109   \n",
       "Gambar Teknik Mesin P                                     0.500459   \n",
       "Gambar Teknik Mesin K                                     0.273344   \n",
       "Pekerjaan Dasar Teknik Mesin P                           -0.209705   \n",
       "Pekerjaan Dasar Teknik Mesin K                            1.000000   \n",
       "Dasar Perencanaan Teknik Mesin P                          0.069794   \n",
       "Dasar Perencanaan Teknik Mesin K                          0.112949   \n",
       "JML                                                       0.145069   \n",
       "Average                                                   0.149575   \n",
       "Rank                                                     -0.085707   \n",
       "AVE                                                       0.145253   \n",
       "\n",
       "                                    Dasar Perencanaan Teknik Mesin P   \\\n",
       "AGAMA P                                                      0.106040   \n",
       "AGAMA K                                                      0.053850   \n",
       "PKN P                                                        0.239784   \n",
       "PKN K                                                        0.233713   \n",
       "B. Indo P                                                    0.244080   \n",
       "B. Indo K                                                    0.244080   \n",
       "Matematika P                                                 0.215796   \n",
       "Matematika K                                                 0.295019   \n",
       "Sejarah P                                                    0.238577   \n",
       "Sejarah K                                                    0.323615   \n",
       "B. Inggris P                                                 0.060054   \n",
       "B. Inggris K                                                 0.087872   \n",
       "Seni Budaya P                                                0.145062   \n",
       "Seni Budaya K                                                0.005663   \n",
       "PJOK P                                                       0.111575   \n",
       "PJOK K                                                       0.284650   \n",
       "B. Jawa P                                                    0.320973   \n",
       "B. Jawa K                                                    0.132630   \n",
       "Simulasi dan Komunikasi Digital P                            0.337374   \n",
       "Simulasi dan Komunikasi Digital K                            0.397226   \n",
       "Fisika P                                                     0.331130   \n",
       "Fisika K                                                     0.331130   \n",
       "Kimia P                                                      0.126569   \n",
       "Kimia K                                                      0.116949   \n",
       "Gambar Teknik Mesin P                                        0.059338   \n",
       "Gambar Teknik Mesin K                                        0.150142   \n",
       "Pekerjaan Dasar Teknik Mesin P                               0.369974   \n",
       "Pekerjaan Dasar Teknik Mesin K                               0.069794   \n",
       "Dasar Perencanaan Teknik Mesin P                             1.000000   \n",
       "Dasar Perencanaan Teknik Mesin K                             0.280807   \n",
       "JML                                                          0.496039   \n",
       "Average                                                      0.493562   \n",
       "Rank                                                        -0.441953   \n",
       "AVE                                                          0.496169   \n",
       "\n",
       "                                    Dasar Perencanaan Teknik Mesin K  \\\n",
       "AGAMA P                                                     0.139393   \n",
       "AGAMA K                                                    -0.018198   \n",
       "PKN P                                                       0.268883   \n",
       "PKN K                                                       0.220296   \n",
       "B. Indo P                                                   0.287704   \n",
       "B. Indo K                                                   0.287704   \n",
       "Matematika P                                                0.151788   \n",
       "Matematika K                                                0.333306   \n",
       "Sejarah P                                                   0.144087   \n",
       "Sejarah K                                                   0.175641   \n",
       "B. Inggris P                                                0.189515   \n",
       "B. Inggris K                                                0.183961   \n",
       "Seni Budaya P                                              -0.162547   \n",
       "Seni Budaya K                                              -0.211681   \n",
       "PJOK P                                                      0.168225   \n",
       "PJOK K                                                     -0.150523   \n",
       "B. Jawa P                                                  -0.007746   \n",
       "B. Jawa K                                                  -0.200789   \n",
       "Simulasi dan Komunikasi Digital P                           0.272021   \n",
       "Simulasi dan Komunikasi Digital K                           0.261496   \n",
       "Fisika P                                                    0.178100   \n",
       "Fisika K                                                    0.178100   \n",
       "Kimia P                                                     0.231407   \n",
       "Kimia K                                                     0.151426   \n",
       "Gambar Teknik Mesin P                                       0.023717   \n",
       "Gambar Teknik Mesin K                                      -0.216133   \n",
       "Pekerjaan Dasar Teknik Mesin P                             -0.111667   \n",
       "Pekerjaan Dasar Teknik Mesin K                              0.112949   \n",
       "Dasar Perencanaan Teknik Mesin P                            0.280807   \n",
       "Dasar Perencanaan Teknik Mesin K                            1.000000   \n",
       "JML                                                         0.360983   \n",
       "Average                                                     0.361226   \n",
       "Rank                                                       -0.234128   \n",
       "AVE                                                         0.360881   \n",
       "\n",
       "                                         JML   Average      Rank       AVE  \n",
       "AGAMA P                             0.507959  0.510932 -0.378472  0.508326  \n",
       "AGAMA K                             0.515143  0.514918 -0.469992  0.515641  \n",
       "PKN P                               0.661165  0.664140 -0.599243  0.660655  \n",
       "PKN K                               0.684141  0.685491 -0.603319  0.683886  \n",
       "B. Indo P                           0.642840  0.639401 -0.532737  0.643009  \n",
       "B. Indo K                           0.642840  0.639401 -0.532737  0.643009  \n",
       "Matematika P                        0.686305  0.680874 -0.629511  0.686795  \n",
       "Matematika K                        0.722083  0.717104 -0.629695  0.722287  \n",
       "Sejarah P                           0.614717  0.610580 -0.638310  0.614841  \n",
       "Sejarah K                           0.573476  0.570071 -0.513304  0.573677  \n",
       "B. Inggris P                        0.320416  0.322560 -0.330839  0.320656  \n",
       "B. Inggris K                        0.338400  0.339667 -0.348765  0.338791  \n",
       "Seni Budaya P                       0.345140  0.347614 -0.399505  0.344350  \n",
       "Seni Budaya K                       0.216921  0.220131 -0.304541  0.216095  \n",
       "PJOK P                              0.490852  0.494829 -0.455710  0.490035  \n",
       "PJOK K                              0.447421  0.447483 -0.471977  0.447056  \n",
       "B. Jawa P                           0.480333  0.483664 -0.425040  0.480508  \n",
       "B. Jawa K                           0.451789  0.452271 -0.412104  0.451948  \n",
       "Simulasi dan Komunikasi Digital P   0.320921  0.318648 -0.370344  0.321104  \n",
       "Simulasi dan Komunikasi Digital K   0.222707  0.218861 -0.203269  0.223245  \n",
       "Fisika P                            0.643234  0.640331 -0.545340  0.643839  \n",
       "Fisika K                            0.643234  0.640331 -0.545340  0.643839  \n",
       "Kimia P                             0.620900  0.621684 -0.567046  0.621140  \n",
       "Kimia K                             0.630903  0.631481 -0.585526  0.631153  \n",
       "Gambar Teknik Mesin P               0.411619  0.411230 -0.415188  0.411444  \n",
       "Gambar Teknik Mesin K               0.371497  0.373938 -0.405813  0.370595  \n",
       "Pekerjaan Dasar Teknik Mesin P      0.143120  0.143097 -0.274452  0.142728  \n",
       "Pekerjaan Dasar Teknik Mesin K      0.145069  0.149575 -0.085707  0.145253  \n",
       "Dasar Perencanaan Teknik Mesin P    0.496039  0.493562 -0.441953  0.496169  \n",
       "Dasar Perencanaan Teknik Mesin K    0.360983  0.361226 -0.234128  0.360881  \n",
       "JML                                 1.000000  0.999780 -0.928341  0.999997  \n",
       "Average                             0.999780  1.000000 -0.927548  0.999750  \n",
       "Rank                               -0.928341 -0.927548  1.000000 -0.928314  \n",
       "AVE                                 0.999997  0.999750 -0.928314  1.000000  \n",
       "\n",
       "[34 rows x 34 columns]"
      ]
     },
     "execution_count": 5,
     "metadata": {},
     "output_type": "execute_result"
    }
   ],
   "source": [
    "tpmc1.corr()"
   ]
  },
  {
   "cell_type": "code",
   "execution_count": 6,
   "id": "75848e4b-69a9-494a-b37a-ad22c1f95bbc",
   "metadata": {},
   "outputs": [
    {
     "data": {
      "text/html": [
       "<div>\n",
       "<style scoped>\n",
       "    .dataframe tbody tr th:only-of-type {\n",
       "        vertical-align: middle;\n",
       "    }\n",
       "\n",
       "    .dataframe tbody tr th {\n",
       "        vertical-align: top;\n",
       "    }\n",
       "\n",
       "    .dataframe thead th {\n",
       "        text-align: right;\n",
       "    }\n",
       "</style>\n",
       "<table border=\"1\" class=\"dataframe\">\n",
       "  <thead>\n",
       "    <tr style=\"text-align: right;\">\n",
       "      <th></th>\n",
       "      <th>AGAMA P</th>\n",
       "      <th>AGAMA K</th>\n",
       "      <th>PKN P</th>\n",
       "      <th>PKN K</th>\n",
       "      <th>B. Indo P</th>\n",
       "      <th>B. Indo K</th>\n",
       "      <th>Matematika P</th>\n",
       "      <th>Matematika K</th>\n",
       "      <th>Sejarah P</th>\n",
       "      <th>Sejarah K</th>\n",
       "      <th>...</th>\n",
       "      <th>Gambar Teknik Mesin P</th>\n",
       "      <th>Gambar Teknik Mesin K</th>\n",
       "      <th>Pekerjaan Dasar Teknik Mesin P</th>\n",
       "      <th>Pekerjaan Dasar Teknik Mesin K</th>\n",
       "      <th>Dasar Perencanaan Teknik Mesin P</th>\n",
       "      <th>Dasar Perencanaan Teknik Mesin K</th>\n",
       "      <th>JML</th>\n",
       "      <th>Average</th>\n",
       "      <th>Rank</th>\n",
       "      <th>AVE</th>\n",
       "    </tr>\n",
       "  </thead>\n",
       "  <tbody>\n",
       "    <tr>\n",
       "      <th>count</th>\n",
       "      <td>36.000000</td>\n",
       "      <td>36.000000</td>\n",
       "      <td>36.000000</td>\n",
       "      <td>36.000000</td>\n",
       "      <td>36.000000</td>\n",
       "      <td>36.000000</td>\n",
       "      <td>36.000000</td>\n",
       "      <td>36.000000</td>\n",
       "      <td>36.000000</td>\n",
       "      <td>36.000000</td>\n",
       "      <td>...</td>\n",
       "      <td>36.000000</td>\n",
       "      <td>36.000000</td>\n",
       "      <td>36.000000</td>\n",
       "      <td>36.000000</td>\n",
       "      <td>36.000000</td>\n",
       "      <td>36.000000</td>\n",
       "      <td>36.000000</td>\n",
       "      <td>36.000000</td>\n",
       "      <td>36.000000</td>\n",
       "      <td>36.000000</td>\n",
       "    </tr>\n",
       "    <tr>\n",
       "      <th>mean</th>\n",
       "      <td>86.416667</td>\n",
       "      <td>84.250000</td>\n",
       "      <td>80.388889</td>\n",
       "      <td>87.833333</td>\n",
       "      <td>86.000000</td>\n",
       "      <td>86.000000</td>\n",
       "      <td>80.916667</td>\n",
       "      <td>80.527778</td>\n",
       "      <td>83.722222</td>\n",
       "      <td>83.944444</td>\n",
       "      <td>...</td>\n",
       "      <td>82.916667</td>\n",
       "      <td>82.916667</td>\n",
       "      <td>83.611111</td>\n",
       "      <td>85.944444</td>\n",
       "      <td>79.527778</td>\n",
       "      <td>82.638889</td>\n",
       "      <td>2492.916667</td>\n",
       "      <td>83.061111</td>\n",
       "      <td>18.388889</td>\n",
       "      <td>83.097500</td>\n",
       "    </tr>\n",
       "    <tr>\n",
       "      <th>std</th>\n",
       "      <td>2.578759</td>\n",
       "      <td>2.143095</td>\n",
       "      <td>1.744834</td>\n",
       "      <td>4.551295</td>\n",
       "      <td>0.676123</td>\n",
       "      <td>0.676123</td>\n",
       "      <td>1.746425</td>\n",
       "      <td>1.539687</td>\n",
       "      <td>2.763136</td>\n",
       "      <td>1.329757</td>\n",
       "      <td>...</td>\n",
       "      <td>2.979693</td>\n",
       "      <td>3.210474</td>\n",
       "      <td>1.694997</td>\n",
       "      <td>3.032627</td>\n",
       "      <td>1.443925</td>\n",
       "      <td>3.090564</td>\n",
       "      <td>32.706814</td>\n",
       "      <td>1.100202</td>\n",
       "      <td>10.494292</td>\n",
       "      <td>1.088856</td>\n",
       "    </tr>\n",
       "    <tr>\n",
       "      <th>min</th>\n",
       "      <td>80.000000</td>\n",
       "      <td>79.000000</td>\n",
       "      <td>78.000000</td>\n",
       "      <td>78.000000</td>\n",
       "      <td>84.000000</td>\n",
       "      <td>84.000000</td>\n",
       "      <td>78.000000</td>\n",
       "      <td>78.000000</td>\n",
       "      <td>79.000000</td>\n",
       "      <td>79.000000</td>\n",
       "      <td>...</td>\n",
       "      <td>78.000000</td>\n",
       "      <td>76.000000</td>\n",
       "      <td>80.000000</td>\n",
       "      <td>79.000000</td>\n",
       "      <td>78.000000</td>\n",
       "      <td>78.000000</td>\n",
       "      <td>2429.000000</td>\n",
       "      <td>80.900000</td>\n",
       "      <td>1.000000</td>\n",
       "      <td>80.970000</td>\n",
       "    </tr>\n",
       "    <tr>\n",
       "      <th>25%</th>\n",
       "      <td>85.000000</td>\n",
       "      <td>83.000000</td>\n",
       "      <td>79.000000</td>\n",
       "      <td>85.000000</td>\n",
       "      <td>86.000000</td>\n",
       "      <td>86.000000</td>\n",
       "      <td>80.000000</td>\n",
       "      <td>80.000000</td>\n",
       "      <td>82.000000</td>\n",
       "      <td>83.000000</td>\n",
       "      <td>...</td>\n",
       "      <td>81.000000</td>\n",
       "      <td>81.000000</td>\n",
       "      <td>82.000000</td>\n",
       "      <td>85.000000</td>\n",
       "      <td>78.000000</td>\n",
       "      <td>80.000000</td>\n",
       "      <td>2474.000000</td>\n",
       "      <td>82.450000</td>\n",
       "      <td>9.000000</td>\n",
       "      <td>82.467500</td>\n",
       "    </tr>\n",
       "    <tr>\n",
       "      <th>50%</th>\n",
       "      <td>86.500000</td>\n",
       "      <td>84.500000</td>\n",
       "      <td>80.000000</td>\n",
       "      <td>88.000000</td>\n",
       "      <td>86.000000</td>\n",
       "      <td>86.000000</td>\n",
       "      <td>80.500000</td>\n",
       "      <td>80.000000</td>\n",
       "      <td>83.000000</td>\n",
       "      <td>84.000000</td>\n",
       "      <td>...</td>\n",
       "      <td>83.000000</td>\n",
       "      <td>83.000000</td>\n",
       "      <td>84.000000</td>\n",
       "      <td>86.000000</td>\n",
       "      <td>79.000000</td>\n",
       "      <td>82.500000</td>\n",
       "      <td>2494.500000</td>\n",
       "      <td>83.100000</td>\n",
       "      <td>18.500000</td>\n",
       "      <td>83.150000</td>\n",
       "    </tr>\n",
       "    <tr>\n",
       "      <th>75%</th>\n",
       "      <td>88.000000</td>\n",
       "      <td>85.000000</td>\n",
       "      <td>81.000000</td>\n",
       "      <td>90.000000</td>\n",
       "      <td>86.000000</td>\n",
       "      <td>86.000000</td>\n",
       "      <td>82.000000</td>\n",
       "      <td>82.000000</td>\n",
       "      <td>86.000000</td>\n",
       "      <td>85.000000</td>\n",
       "      <td>...</td>\n",
       "      <td>85.000000</td>\n",
       "      <td>85.000000</td>\n",
       "      <td>84.000000</td>\n",
       "      <td>88.000000</td>\n",
       "      <td>80.250000</td>\n",
       "      <td>85.000000</td>\n",
       "      <td>2514.000000</td>\n",
       "      <td>83.800000</td>\n",
       "      <td>27.250000</td>\n",
       "      <td>83.800000</td>\n",
       "    </tr>\n",
       "    <tr>\n",
       "      <th>max</th>\n",
       "      <td>93.000000</td>\n",
       "      <td>88.000000</td>\n",
       "      <td>85.000000</td>\n",
       "      <td>97.000000</td>\n",
       "      <td>87.000000</td>\n",
       "      <td>87.000000</td>\n",
       "      <td>86.000000</td>\n",
       "      <td>85.000000</td>\n",
       "      <td>93.000000</td>\n",
       "      <td>86.000000</td>\n",
       "      <td>...</td>\n",
       "      <td>90.000000</td>\n",
       "      <td>90.000000</td>\n",
       "      <td>87.000000</td>\n",
       "      <td>96.000000</td>\n",
       "      <td>84.000000</td>\n",
       "      <td>88.000000</td>\n",
       "      <td>2567.000000</td>\n",
       "      <td>85.500000</td>\n",
       "      <td>35.000000</td>\n",
       "      <td>85.570000</td>\n",
       "    </tr>\n",
       "  </tbody>\n",
       "</table>\n",
       "<p>8 rows × 34 columns</p>\n",
       "</div>"
      ],
      "text/plain": [
       "        AGAMA P     AGAMA K     PKN P       PKN K  B. Indo P   B. Indo K  \\\n",
       "count  36.000000  36.000000  36.000000  36.000000   36.000000  36.000000   \n",
       "mean   86.416667  84.250000  80.388889  87.833333   86.000000  86.000000   \n",
       "std     2.578759   2.143095   1.744834   4.551295    0.676123   0.676123   \n",
       "min    80.000000  79.000000  78.000000  78.000000   84.000000  84.000000   \n",
       "25%    85.000000  83.000000  79.000000  85.000000   86.000000  86.000000   \n",
       "50%    86.500000  84.500000  80.000000  88.000000   86.000000  86.000000   \n",
       "75%    88.000000  85.000000  81.000000  90.000000   86.000000  86.000000   \n",
       "max    93.000000  88.000000  85.000000  97.000000   87.000000  87.000000   \n",
       "\n",
       "       Matematika P   Matematika K  Sejarah P   Sejarah K  ...  \\\n",
       "count      36.000000     36.000000   36.000000  36.000000  ...   \n",
       "mean       80.916667     80.527778   83.722222  83.944444  ...   \n",
       "std         1.746425      1.539687    2.763136   1.329757  ...   \n",
       "min        78.000000     78.000000   79.000000  79.000000  ...   \n",
       "25%        80.000000     80.000000   82.000000  83.000000  ...   \n",
       "50%        80.500000     80.000000   83.000000  84.000000  ...   \n",
       "75%        82.000000     82.000000   86.000000  85.000000  ...   \n",
       "max        86.000000     85.000000   93.000000  86.000000  ...   \n",
       "\n",
       "       Gambar Teknik Mesin P   Gambar Teknik Mesin K  \\\n",
       "count               36.000000              36.000000   \n",
       "mean                82.916667              82.916667   \n",
       "std                  2.979693               3.210474   \n",
       "min                 78.000000              76.000000   \n",
       "25%                 81.000000              81.000000   \n",
       "50%                 83.000000              83.000000   \n",
       "75%                 85.000000              85.000000   \n",
       "max                 90.000000              90.000000   \n",
       "\n",
       "       Pekerjaan Dasar Teknik Mesin P   Pekerjaan Dasar Teknik Mesin K  \\\n",
       "count                        36.000000                       36.000000   \n",
       "mean                         83.611111                       85.944444   \n",
       "std                           1.694997                        3.032627   \n",
       "min                          80.000000                       79.000000   \n",
       "25%                          82.000000                       85.000000   \n",
       "50%                          84.000000                       86.000000   \n",
       "75%                          84.000000                       88.000000   \n",
       "max                          87.000000                       96.000000   \n",
       "\n",
       "       Dasar Perencanaan Teknik Mesin P   Dasar Perencanaan Teknik Mesin K  \\\n",
       "count                          36.000000                         36.000000   \n",
       "mean                           79.527778                         82.638889   \n",
       "std                             1.443925                          3.090564   \n",
       "min                            78.000000                         78.000000   \n",
       "25%                            78.000000                         80.000000   \n",
       "50%                            79.000000                         82.500000   \n",
       "75%                            80.250000                         85.000000   \n",
       "max                            84.000000                         88.000000   \n",
       "\n",
       "               JML    Average       Rank        AVE  \n",
       "count    36.000000  36.000000  36.000000  36.000000  \n",
       "mean   2492.916667  83.061111  18.388889  83.097500  \n",
       "std      32.706814   1.100202  10.494292   1.088856  \n",
       "min    2429.000000  80.900000   1.000000  80.970000  \n",
       "25%    2474.000000  82.450000   9.000000  82.467500  \n",
       "50%    2494.500000  83.100000  18.500000  83.150000  \n",
       "75%    2514.000000  83.800000  27.250000  83.800000  \n",
       "max    2567.000000  85.500000  35.000000  85.570000  \n",
       "\n",
       "[8 rows x 34 columns]"
      ]
     },
     "execution_count": 6,
     "metadata": {},
     "output_type": "execute_result"
    }
   ],
   "source": [
    "tpmc2.describe()"
   ]
  },
  {
   "cell_type": "code",
   "execution_count": 7,
   "id": "f15d5d1c-3b6f-4867-bff9-28e9e5ade512",
   "metadata": {},
   "outputs": [
    {
     "data": {
      "text/html": [
       "<div>\n",
       "<style scoped>\n",
       "    .dataframe tbody tr th:only-of-type {\n",
       "        vertical-align: middle;\n",
       "    }\n",
       "\n",
       "    .dataframe tbody tr th {\n",
       "        vertical-align: top;\n",
       "    }\n",
       "\n",
       "    .dataframe thead th {\n",
       "        text-align: right;\n",
       "    }\n",
       "</style>\n",
       "<table border=\"1\" class=\"dataframe\">\n",
       "  <thead>\n",
       "    <tr style=\"text-align: right;\">\n",
       "      <th></th>\n",
       "      <th>AGAMA P</th>\n",
       "      <th>AGAMA K</th>\n",
       "      <th>PKN P</th>\n",
       "      <th>PKN K</th>\n",
       "      <th>B. Indo P</th>\n",
       "      <th>B. Indo K</th>\n",
       "      <th>Matematika P</th>\n",
       "      <th>Matematika K</th>\n",
       "      <th>Sejarah P</th>\n",
       "      <th>Sejarah K</th>\n",
       "      <th>...</th>\n",
       "      <th>Gambar Teknik Mesin P</th>\n",
       "      <th>Gambar Teknik Mesin K</th>\n",
       "      <th>Pekerjaan Dasar Teknik Mesin P</th>\n",
       "      <th>Pekerjaan Dasar Teknik Mesin K</th>\n",
       "      <th>Dasar Perencanaan Teknik Mesin P</th>\n",
       "      <th>Dasar Perencanaan Teknik Mesin K</th>\n",
       "      <th>JML</th>\n",
       "      <th>Average</th>\n",
       "      <th>Rank</th>\n",
       "      <th>AVE</th>\n",
       "    </tr>\n",
       "  </thead>\n",
       "  <tbody>\n",
       "    <tr>\n",
       "      <th>AGAMA P</th>\n",
       "      <td>1.000000</td>\n",
       "      <td>0.828472</td>\n",
       "      <td>0.337603</td>\n",
       "      <td>0.137542</td>\n",
       "      <td>0.426058</td>\n",
       "      <td>0.426058</td>\n",
       "      <td>0.540836</td>\n",
       "      <td>0.626648</td>\n",
       "      <td>0.185117</td>\n",
       "      <td>0.140255</td>\n",
       "      <td>...</td>\n",
       "      <td>0.558681</td>\n",
       "      <td>0.408087</td>\n",
       "      <td>-0.118748</td>\n",
       "      <td>0.156489</td>\n",
       "      <td>0.322914</td>\n",
       "      <td>0.381499</td>\n",
       "      <td>0.778200</td>\n",
       "      <td>0.774249</td>\n",
       "      <td>-0.747307</td>\n",
       "      <td>0.778289</td>\n",
       "    </tr>\n",
       "    <tr>\n",
       "      <th>AGAMA K</th>\n",
       "      <td>0.828472</td>\n",
       "      <td>1.000000</td>\n",
       "      <td>0.225402</td>\n",
       "      <td>0.109847</td>\n",
       "      <td>0.414080</td>\n",
       "      <td>0.414080</td>\n",
       "      <td>0.250007</td>\n",
       "      <td>0.374493</td>\n",
       "      <td>0.344980</td>\n",
       "      <td>0.185477</td>\n",
       "      <td>...</td>\n",
       "      <td>0.325501</td>\n",
       "      <td>0.219050</td>\n",
       "      <td>-0.184837</td>\n",
       "      <td>0.090121</td>\n",
       "      <td>0.140804</td>\n",
       "      <td>0.285784</td>\n",
       "      <td>0.620291</td>\n",
       "      <td>0.619817</td>\n",
       "      <td>-0.582474</td>\n",
       "      <td>0.620429</td>\n",
       "    </tr>\n",
       "    <tr>\n",
       "      <th>PKN P</th>\n",
       "      <td>0.337603</td>\n",
       "      <td>0.225402</td>\n",
       "      <td>1.000000</td>\n",
       "      <td>-0.135519</td>\n",
       "      <td>0.363281</td>\n",
       "      <td>0.363281</td>\n",
       "      <td>0.414117</td>\n",
       "      <td>0.506354</td>\n",
       "      <td>0.106013</td>\n",
       "      <td>0.157348</td>\n",
       "      <td>...</td>\n",
       "      <td>0.237222</td>\n",
       "      <td>0.204868</td>\n",
       "      <td>-0.295188</td>\n",
       "      <td>-0.092993</td>\n",
       "      <td>-0.061113</td>\n",
       "      <td>0.180438</td>\n",
       "      <td>0.350543</td>\n",
       "      <td>0.347447</td>\n",
       "      <td>-0.337731</td>\n",
       "      <td>0.350174</td>\n",
       "    </tr>\n",
       "    <tr>\n",
       "      <th>PKN K</th>\n",
       "      <td>0.137542</td>\n",
       "      <td>0.109847</td>\n",
       "      <td>-0.135519</td>\n",
       "      <td>1.000000</td>\n",
       "      <td>0.055709</td>\n",
       "      <td>0.055709</td>\n",
       "      <td>0.260606</td>\n",
       "      <td>0.122996</td>\n",
       "      <td>-0.192357</td>\n",
       "      <td>-0.199851</td>\n",
       "      <td>...</td>\n",
       "      <td>0.135889</td>\n",
       "      <td>0.096791</td>\n",
       "      <td>0.261723</td>\n",
       "      <td>0.111092</td>\n",
       "      <td>0.061591</td>\n",
       "      <td>0.265753</td>\n",
       "      <td>0.370534</td>\n",
       "      <td>0.371264</td>\n",
       "      <td>-0.382646</td>\n",
       "      <td>0.370972</td>\n",
       "    </tr>\n",
       "    <tr>\n",
       "      <th>B. Indo P</th>\n",
       "      <td>0.426058</td>\n",
       "      <td>0.414080</td>\n",
       "      <td>0.363281</td>\n",
       "      <td>0.055709</td>\n",
       "      <td>1.000000</td>\n",
       "      <td>1.000000</td>\n",
       "      <td>0.362950</td>\n",
       "      <td>0.439131</td>\n",
       "      <td>0.428215</td>\n",
       "      <td>0.476678</td>\n",
       "      <td>...</td>\n",
       "      <td>0.184365</td>\n",
       "      <td>0.210599</td>\n",
       "      <td>-0.049862</td>\n",
       "      <td>-0.153278</td>\n",
       "      <td>0.087798</td>\n",
       "      <td>0.068366</td>\n",
       "      <td>0.569779</td>\n",
       "      <td>0.572295</td>\n",
       "      <td>-0.503342</td>\n",
       "      <td>0.569332</td>\n",
       "    </tr>\n",
       "    <tr>\n",
       "      <th>B. Indo K</th>\n",
       "      <td>0.426058</td>\n",
       "      <td>0.414080</td>\n",
       "      <td>0.363281</td>\n",
       "      <td>0.055709</td>\n",
       "      <td>1.000000</td>\n",
       "      <td>1.000000</td>\n",
       "      <td>0.362950</td>\n",
       "      <td>0.439131</td>\n",
       "      <td>0.428215</td>\n",
       "      <td>0.476678</td>\n",
       "      <td>...</td>\n",
       "      <td>0.184365</td>\n",
       "      <td>0.210599</td>\n",
       "      <td>-0.049862</td>\n",
       "      <td>-0.153278</td>\n",
       "      <td>0.087798</td>\n",
       "      <td>0.068366</td>\n",
       "      <td>0.569779</td>\n",
       "      <td>0.572295</td>\n",
       "      <td>-0.503342</td>\n",
       "      <td>0.569332</td>\n",
       "    </tr>\n",
       "    <tr>\n",
       "      <th>Matematika P</th>\n",
       "      <td>0.540836</td>\n",
       "      <td>0.250007</td>\n",
       "      <td>0.414117</td>\n",
       "      <td>0.260606</td>\n",
       "      <td>0.362950</td>\n",
       "      <td>0.362950</td>\n",
       "      <td>1.000000</td>\n",
       "      <td>0.749984</td>\n",
       "      <td>-0.022696</td>\n",
       "      <td>0.022555</td>\n",
       "      <td>...</td>\n",
       "      <td>0.580618</td>\n",
       "      <td>0.426774</td>\n",
       "      <td>0.065955</td>\n",
       "      <td>0.096205</td>\n",
       "      <td>0.335185</td>\n",
       "      <td>0.497149</td>\n",
       "      <td>0.694153</td>\n",
       "      <td>0.691205</td>\n",
       "      <td>-0.680996</td>\n",
       "      <td>0.694188</td>\n",
       "    </tr>\n",
       "    <tr>\n",
       "      <th>Matematika K</th>\n",
       "      <td>0.626648</td>\n",
       "      <td>0.374493</td>\n",
       "      <td>0.506354</td>\n",
       "      <td>0.122996</td>\n",
       "      <td>0.439131</td>\n",
       "      <td>0.439131</td>\n",
       "      <td>0.749984</td>\n",
       "      <td>1.000000</td>\n",
       "      <td>-0.078724</td>\n",
       "      <td>0.126370</td>\n",
       "      <td>...</td>\n",
       "      <td>0.589037</td>\n",
       "      <td>0.575595</td>\n",
       "      <td>-0.181857</td>\n",
       "      <td>-0.005779</td>\n",
       "      <td>0.295228</td>\n",
       "      <td>0.443484</td>\n",
       "      <td>0.715776</td>\n",
       "      <td>0.710739</td>\n",
       "      <td>-0.669090</td>\n",
       "      <td>0.715735</td>\n",
       "    </tr>\n",
       "    <tr>\n",
       "      <th>Sejarah P</th>\n",
       "      <td>0.185117</td>\n",
       "      <td>0.344980</td>\n",
       "      <td>0.106013</td>\n",
       "      <td>-0.192357</td>\n",
       "      <td>0.428215</td>\n",
       "      <td>0.428215</td>\n",
       "      <td>-0.022696</td>\n",
       "      <td>-0.078724</td>\n",
       "      <td>1.000000</td>\n",
       "      <td>0.687746</td>\n",
       "      <td>...</td>\n",
       "      <td>0.090804</td>\n",
       "      <td>0.029524</td>\n",
       "      <td>-0.011523</td>\n",
       "      <td>-0.141690</td>\n",
       "      <td>0.001989</td>\n",
       "      <td>0.024721</td>\n",
       "      <td>0.240642</td>\n",
       "      <td>0.241645</td>\n",
       "      <td>-0.187320</td>\n",
       "      <td>0.240212</td>\n",
       "    </tr>\n",
       "    <tr>\n",
       "      <th>Sejarah K</th>\n",
       "      <td>0.140255</td>\n",
       "      <td>0.185477</td>\n",
       "      <td>0.157348</td>\n",
       "      <td>-0.199851</td>\n",
       "      <td>0.476678</td>\n",
       "      <td>0.476678</td>\n",
       "      <td>0.022555</td>\n",
       "      <td>0.126370</td>\n",
       "      <td>0.687746</td>\n",
       "      <td>1.000000</td>\n",
       "      <td>...</td>\n",
       "      <td>-0.037256</td>\n",
       "      <td>-0.001115</td>\n",
       "      <td>-0.174650</td>\n",
       "      <td>-0.475483</td>\n",
       "      <td>0.060348</td>\n",
       "      <td>0.008883</td>\n",
       "      <td>0.111569</td>\n",
       "      <td>0.109798</td>\n",
       "      <td>-0.043451</td>\n",
       "      <td>0.111392</td>\n",
       "    </tr>\n",
       "    <tr>\n",
       "      <th>B. Inggris P</th>\n",
       "      <td>0.292618</td>\n",
       "      <td>0.373771</td>\n",
       "      <td>0.501223</td>\n",
       "      <td>-0.071420</td>\n",
       "      <td>0.343401</td>\n",
       "      <td>0.343401</td>\n",
       "      <td>0.232657</td>\n",
       "      <td>0.133205</td>\n",
       "      <td>0.282895</td>\n",
       "      <td>0.180425</td>\n",
       "      <td>...</td>\n",
       "      <td>0.074025</td>\n",
       "      <td>0.126560</td>\n",
       "      <td>-0.228301</td>\n",
       "      <td>-0.058697</td>\n",
       "      <td>0.045560</td>\n",
       "      <td>0.294244</td>\n",
       "      <td>0.365947</td>\n",
       "      <td>0.367905</td>\n",
       "      <td>-0.370218</td>\n",
       "      <td>0.365804</td>\n",
       "    </tr>\n",
       "    <tr>\n",
       "      <th>B. Inggris K</th>\n",
       "      <td>-0.060199</td>\n",
       "      <td>-0.080061</td>\n",
       "      <td>-0.040583</td>\n",
       "      <td>-0.175928</td>\n",
       "      <td>-0.096674</td>\n",
       "      <td>-0.096674</td>\n",
       "      <td>-0.135673</td>\n",
       "      <td>-0.192804</td>\n",
       "      <td>-0.037455</td>\n",
       "      <td>-0.118790</td>\n",
       "      <td>...</td>\n",
       "      <td>-0.222105</td>\n",
       "      <td>-0.307936</td>\n",
       "      <td>0.041776</td>\n",
       "      <td>-0.030534</td>\n",
       "      <td>-0.160323</td>\n",
       "      <td>-0.395668</td>\n",
       "      <td>-0.345984</td>\n",
       "      <td>-0.350026</td>\n",
       "      <td>0.338932</td>\n",
       "      <td>-0.345994</td>\n",
       "    </tr>\n",
       "    <tr>\n",
       "      <th>Seni Budaya P</th>\n",
       "      <td>0.584074</td>\n",
       "      <td>0.405745</td>\n",
       "      <td>0.354486</td>\n",
       "      <td>0.059705</td>\n",
       "      <td>0.528212</td>\n",
       "      <td>0.528212</td>\n",
       "      <td>0.515685</td>\n",
       "      <td>0.697544</td>\n",
       "      <td>0.133934</td>\n",
       "      <td>0.072009</td>\n",
       "      <td>...</td>\n",
       "      <td>0.575834</td>\n",
       "      <td>0.539278</td>\n",
       "      <td>-0.186271</td>\n",
       "      <td>-0.091310</td>\n",
       "      <td>0.335160</td>\n",
       "      <td>0.202644</td>\n",
       "      <td>0.749162</td>\n",
       "      <td>0.748250</td>\n",
       "      <td>-0.727486</td>\n",
       "      <td>0.749392</td>\n",
       "    </tr>\n",
       "    <tr>\n",
       "      <th>Seni Budaya K</th>\n",
       "      <td>0.584782</td>\n",
       "      <td>0.394765</td>\n",
       "      <td>0.140866</td>\n",
       "      <td>0.194027</td>\n",
       "      <td>0.590805</td>\n",
       "      <td>0.590805</td>\n",
       "      <td>0.459974</td>\n",
       "      <td>0.577486</td>\n",
       "      <td>0.014396</td>\n",
       "      <td>-0.005353</td>\n",
       "      <td>...</td>\n",
       "      <td>0.509891</td>\n",
       "      <td>0.470890</td>\n",
       "      <td>-0.002717</td>\n",
       "      <td>0.017535</td>\n",
       "      <td>0.412215</td>\n",
       "      <td>0.092331</td>\n",
       "      <td>0.721178</td>\n",
       "      <td>0.722993</td>\n",
       "      <td>-0.712008</td>\n",
       "      <td>0.721242</td>\n",
       "    </tr>\n",
       "    <tr>\n",
       "      <th>PJOK P</th>\n",
       "      <td>0.511339</td>\n",
       "      <td>0.294087</td>\n",
       "      <td>0.367190</td>\n",
       "      <td>0.010803</td>\n",
       "      <td>0.317332</td>\n",
       "      <td>0.317332</td>\n",
       "      <td>0.409513</td>\n",
       "      <td>0.440307</td>\n",
       "      <td>-0.036668</td>\n",
       "      <td>0.059385</td>\n",
       "      <td>...</td>\n",
       "      <td>0.181515</td>\n",
       "      <td>0.126698</td>\n",
       "      <td>-0.148557</td>\n",
       "      <td>-0.234847</td>\n",
       "      <td>0.302343</td>\n",
       "      <td>0.007714</td>\n",
       "      <td>0.400294</td>\n",
       "      <td>0.398832</td>\n",
       "      <td>-0.423239</td>\n",
       "      <td>0.400251</td>\n",
       "    </tr>\n",
       "    <tr>\n",
       "      <th>PJOK K</th>\n",
       "      <td>0.193373</td>\n",
       "      <td>0.308117</td>\n",
       "      <td>-0.324517</td>\n",
       "      <td>0.622416</td>\n",
       "      <td>0.110354</td>\n",
       "      <td>0.110354</td>\n",
       "      <td>0.007833</td>\n",
       "      <td>0.027730</td>\n",
       "      <td>-0.035704</td>\n",
       "      <td>-0.210101</td>\n",
       "      <td>...</td>\n",
       "      <td>0.074704</td>\n",
       "      <td>0.032149</td>\n",
       "      <td>0.008315</td>\n",
       "      <td>0.203114</td>\n",
       "      <td>0.143251</td>\n",
       "      <td>0.180127</td>\n",
       "      <td>0.317057</td>\n",
       "      <td>0.320023</td>\n",
       "      <td>-0.290003</td>\n",
       "      <td>0.317369</td>\n",
       "    </tr>\n",
       "    <tr>\n",
       "      <th>B. Jawa P</th>\n",
       "      <td>0.287300</td>\n",
       "      <td>0.233983</td>\n",
       "      <td>0.415981</td>\n",
       "      <td>0.120103</td>\n",
       "      <td>0.461026</td>\n",
       "      <td>0.461026</td>\n",
       "      <td>0.338862</td>\n",
       "      <td>0.353066</td>\n",
       "      <td>0.082837</td>\n",
       "      <td>-0.063416</td>\n",
       "      <td>...</td>\n",
       "      <td>0.298673</td>\n",
       "      <td>0.112570</td>\n",
       "      <td>-0.220325</td>\n",
       "      <td>-0.045682</td>\n",
       "      <td>0.235692</td>\n",
       "      <td>0.283086</td>\n",
       "      <td>0.547655</td>\n",
       "      <td>0.552407</td>\n",
       "      <td>-0.505522</td>\n",
       "      <td>0.547528</td>\n",
       "    </tr>\n",
       "    <tr>\n",
       "      <th>B. Jawa K</th>\n",
       "      <td>0.290567</td>\n",
       "      <td>0.212795</td>\n",
       "      <td>0.200971</td>\n",
       "      <td>0.070347</td>\n",
       "      <td>0.334261</td>\n",
       "      <td>0.334261</td>\n",
       "      <td>0.202585</td>\n",
       "      <td>0.264153</td>\n",
       "      <td>0.152224</td>\n",
       "      <td>0.019559</td>\n",
       "      <td>...</td>\n",
       "      <td>0.389620</td>\n",
       "      <td>0.411895</td>\n",
       "      <td>0.031217</td>\n",
       "      <td>0.141654</td>\n",
       "      <td>0.192233</td>\n",
       "      <td>0.182671</td>\n",
       "      <td>0.543375</td>\n",
       "      <td>0.546234</td>\n",
       "      <td>-0.548049</td>\n",
       "      <td>0.543174</td>\n",
       "    </tr>\n",
       "    <tr>\n",
       "      <th>Simulasi dan Komunikasi Digital P</th>\n",
       "      <td>0.149474</td>\n",
       "      <td>0.251222</td>\n",
       "      <td>0.162182</td>\n",
       "      <td>0.245504</td>\n",
       "      <td>0.373912</td>\n",
       "      <td>0.373912</td>\n",
       "      <td>0.247520</td>\n",
       "      <td>0.248997</td>\n",
       "      <td>0.347527</td>\n",
       "      <td>0.085279</td>\n",
       "      <td>...</td>\n",
       "      <td>0.236203</td>\n",
       "      <td>0.102564</td>\n",
       "      <td>0.208689</td>\n",
       "      <td>0.185595</td>\n",
       "      <td>0.181210</td>\n",
       "      <td>0.314243</td>\n",
       "      <td>0.505334</td>\n",
       "      <td>0.507041</td>\n",
       "      <td>-0.456625</td>\n",
       "      <td>0.505249</td>\n",
       "    </tr>\n",
       "    <tr>\n",
       "      <th>Simulasi dan Komunikasi Digital K</th>\n",
       "      <td>NaN</td>\n",
       "      <td>NaN</td>\n",
       "      <td>NaN</td>\n",
       "      <td>NaN</td>\n",
       "      <td>NaN</td>\n",
       "      <td>NaN</td>\n",
       "      <td>NaN</td>\n",
       "      <td>NaN</td>\n",
       "      <td>NaN</td>\n",
       "      <td>NaN</td>\n",
       "      <td>...</td>\n",
       "      <td>NaN</td>\n",
       "      <td>NaN</td>\n",
       "      <td>NaN</td>\n",
       "      <td>NaN</td>\n",
       "      <td>NaN</td>\n",
       "      <td>NaN</td>\n",
       "      <td>NaN</td>\n",
       "      <td>NaN</td>\n",
       "      <td>NaN</td>\n",
       "      <td>NaN</td>\n",
       "    </tr>\n",
       "    <tr>\n",
       "      <th>Fisika P</th>\n",
       "      <td>0.665807</td>\n",
       "      <td>0.487456</td>\n",
       "      <td>0.174578</td>\n",
       "      <td>0.223782</td>\n",
       "      <td>0.375106</td>\n",
       "      <td>0.375106</td>\n",
       "      <td>0.588953</td>\n",
       "      <td>0.525102</td>\n",
       "      <td>0.159776</td>\n",
       "      <td>0.064584</td>\n",
       "      <td>...</td>\n",
       "      <td>0.555953</td>\n",
       "      <td>0.538560</td>\n",
       "      <td>0.240671</td>\n",
       "      <td>0.231420</td>\n",
       "      <td>0.342461</td>\n",
       "      <td>0.522549</td>\n",
       "      <td>0.796907</td>\n",
       "      <td>0.798891</td>\n",
       "      <td>-0.836391</td>\n",
       "      <td>0.796869</td>\n",
       "    </tr>\n",
       "    <tr>\n",
       "      <th>Fisika K</th>\n",
       "      <td>0.717704</td>\n",
       "      <td>0.555277</td>\n",
       "      <td>0.202212</td>\n",
       "      <td>0.193426</td>\n",
       "      <td>0.404398</td>\n",
       "      <td>0.404398</td>\n",
       "      <td>0.593630</td>\n",
       "      <td>0.532975</td>\n",
       "      <td>0.214650</td>\n",
       "      <td>0.130329</td>\n",
       "      <td>...</td>\n",
       "      <td>0.560653</td>\n",
       "      <td>0.531965</td>\n",
       "      <td>0.151128</td>\n",
       "      <td>0.180093</td>\n",
       "      <td>0.378961</td>\n",
       "      <td>0.515295</td>\n",
       "      <td>0.825881</td>\n",
       "      <td>0.826458</td>\n",
       "      <td>-0.859337</td>\n",
       "      <td>0.825954</td>\n",
       "    </tr>\n",
       "    <tr>\n",
       "      <th>Kimia P</th>\n",
       "      <td>0.385409</td>\n",
       "      <td>0.419953</td>\n",
       "      <td>0.158290</td>\n",
       "      <td>0.372175</td>\n",
       "      <td>0.144884</td>\n",
       "      <td>0.144884</td>\n",
       "      <td>0.309671</td>\n",
       "      <td>0.410455</td>\n",
       "      <td>0.034960</td>\n",
       "      <td>0.172913</td>\n",
       "      <td>...</td>\n",
       "      <td>0.345879</td>\n",
       "      <td>0.389668</td>\n",
       "      <td>-0.278531</td>\n",
       "      <td>-0.045312</td>\n",
       "      <td>0.013663</td>\n",
       "      <td>0.333030</td>\n",
       "      <td>0.463549</td>\n",
       "      <td>0.460151</td>\n",
       "      <td>-0.447409</td>\n",
       "      <td>0.464052</td>\n",
       "    </tr>\n",
       "    <tr>\n",
       "      <th>Kimia K</th>\n",
       "      <td>0.359163</td>\n",
       "      <td>0.400023</td>\n",
       "      <td>0.054979</td>\n",
       "      <td>0.358911</td>\n",
       "      <td>0.143880</td>\n",
       "      <td>0.143880</td>\n",
       "      <td>0.286638</td>\n",
       "      <td>0.357594</td>\n",
       "      <td>0.102197</td>\n",
       "      <td>0.214390</td>\n",
       "      <td>...</td>\n",
       "      <td>0.388375</td>\n",
       "      <td>0.368032</td>\n",
       "      <td>-0.128337</td>\n",
       "      <td>0.029850</td>\n",
       "      <td>0.179192</td>\n",
       "      <td>0.489419</td>\n",
       "      <td>0.516480</td>\n",
       "      <td>0.515175</td>\n",
       "      <td>-0.498385</td>\n",
       "      <td>0.517012</td>\n",
       "    </tr>\n",
       "    <tr>\n",
       "      <th>Gambar Teknik Mesin P</th>\n",
       "      <td>0.558681</td>\n",
       "      <td>0.325501</td>\n",
       "      <td>0.237222</td>\n",
       "      <td>0.135889</td>\n",
       "      <td>0.184365</td>\n",
       "      <td>0.184365</td>\n",
       "      <td>0.580618</td>\n",
       "      <td>0.589037</td>\n",
       "      <td>0.090804</td>\n",
       "      <td>-0.037256</td>\n",
       "      <td>...</td>\n",
       "      <td>1.000000</td>\n",
       "      <td>0.805662</td>\n",
       "      <td>0.129170</td>\n",
       "      <td>0.407352</td>\n",
       "      <td>0.309347</td>\n",
       "      <td>0.468231</td>\n",
       "      <td>0.747222</td>\n",
       "      <td>0.745023</td>\n",
       "      <td>-0.717108</td>\n",
       "      <td>0.747054</td>\n",
       "    </tr>\n",
       "    <tr>\n",
       "      <th>Gambar Teknik Mesin K</th>\n",
       "      <td>0.408087</td>\n",
       "      <td>0.219050</td>\n",
       "      <td>0.204868</td>\n",
       "      <td>0.096791</td>\n",
       "      <td>0.210599</td>\n",
       "      <td>0.210599</td>\n",
       "      <td>0.426774</td>\n",
       "      <td>0.575595</td>\n",
       "      <td>0.029524</td>\n",
       "      <td>-0.001115</td>\n",
       "      <td>...</td>\n",
       "      <td>0.805662</td>\n",
       "      <td>1.000000</td>\n",
       "      <td>0.209142</td>\n",
       "      <td>0.295902</td>\n",
       "      <td>0.219313</td>\n",
       "      <td>0.316511</td>\n",
       "      <td>0.645891</td>\n",
       "      <td>0.642934</td>\n",
       "      <td>-0.656232</td>\n",
       "      <td>0.645622</td>\n",
       "    </tr>\n",
       "    <tr>\n",
       "      <th>Pekerjaan Dasar Teknik Mesin P</th>\n",
       "      <td>-0.118748</td>\n",
       "      <td>-0.184837</td>\n",
       "      <td>-0.295188</td>\n",
       "      <td>0.261723</td>\n",
       "      <td>-0.049862</td>\n",
       "      <td>-0.049862</td>\n",
       "      <td>0.065955</td>\n",
       "      <td>-0.181857</td>\n",
       "      <td>-0.011523</td>\n",
       "      <td>-0.174650</td>\n",
       "      <td>...</td>\n",
       "      <td>0.129170</td>\n",
       "      <td>0.209142</td>\n",
       "      <td>1.000000</td>\n",
       "      <td>0.534834</td>\n",
       "      <td>-0.018808</td>\n",
       "      <td>0.016059</td>\n",
       "      <td>0.100928</td>\n",
       "      <td>0.108099</td>\n",
       "      <td>-0.156697</td>\n",
       "      <td>0.100548</td>\n",
       "    </tr>\n",
       "    <tr>\n",
       "      <th>Pekerjaan Dasar Teknik Mesin K</th>\n",
       "      <td>0.156489</td>\n",
       "      <td>0.090121</td>\n",
       "      <td>-0.092993</td>\n",
       "      <td>0.111092</td>\n",
       "      <td>-0.153278</td>\n",
       "      <td>-0.153278</td>\n",
       "      <td>0.096205</td>\n",
       "      <td>-0.005779</td>\n",
       "      <td>-0.141690</td>\n",
       "      <td>-0.475483</td>\n",
       "      <td>...</td>\n",
       "      <td>0.407352</td>\n",
       "      <td>0.295902</td>\n",
       "      <td>0.534834</td>\n",
       "      <td>1.000000</td>\n",
       "      <td>-0.090985</td>\n",
       "      <td>0.189849</td>\n",
       "      <td>0.232700</td>\n",
       "      <td>0.233968</td>\n",
       "      <td>-0.206684</td>\n",
       "      <td>0.232623</td>\n",
       "    </tr>\n",
       "    <tr>\n",
       "      <th>Dasar Perencanaan Teknik Mesin P</th>\n",
       "      <td>0.322914</td>\n",
       "      <td>0.140804</td>\n",
       "      <td>-0.061113</td>\n",
       "      <td>0.061591</td>\n",
       "      <td>0.087798</td>\n",
       "      <td>0.087798</td>\n",
       "      <td>0.335185</td>\n",
       "      <td>0.295228</td>\n",
       "      <td>0.001989</td>\n",
       "      <td>0.060348</td>\n",
       "      <td>...</td>\n",
       "      <td>0.309347</td>\n",
       "      <td>0.219313</td>\n",
       "      <td>-0.018808</td>\n",
       "      <td>-0.090985</td>\n",
       "      <td>1.000000</td>\n",
       "      <td>0.357651</td>\n",
       "      <td>0.408117</td>\n",
       "      <td>0.401769</td>\n",
       "      <td>-0.430635</td>\n",
       "      <td>0.408838</td>\n",
       "    </tr>\n",
       "    <tr>\n",
       "      <th>Dasar Perencanaan Teknik Mesin K</th>\n",
       "      <td>0.381499</td>\n",
       "      <td>0.285784</td>\n",
       "      <td>0.180438</td>\n",
       "      <td>0.265753</td>\n",
       "      <td>0.068366</td>\n",
       "      <td>0.068366</td>\n",
       "      <td>0.497149</td>\n",
       "      <td>0.443484</td>\n",
       "      <td>0.024721</td>\n",
       "      <td>0.008883</td>\n",
       "      <td>...</td>\n",
       "      <td>0.468231</td>\n",
       "      <td>0.316511</td>\n",
       "      <td>0.016059</td>\n",
       "      <td>0.189849</td>\n",
       "      <td>0.357651</td>\n",
       "      <td>1.000000</td>\n",
       "      <td>0.556523</td>\n",
       "      <td>0.555375</td>\n",
       "      <td>-0.543484</td>\n",
       "      <td>0.556349</td>\n",
       "    </tr>\n",
       "    <tr>\n",
       "      <th>JML</th>\n",
       "      <td>0.778200</td>\n",
       "      <td>0.620291</td>\n",
       "      <td>0.350543</td>\n",
       "      <td>0.370534</td>\n",
       "      <td>0.569779</td>\n",
       "      <td>0.569779</td>\n",
       "      <td>0.694153</td>\n",
       "      <td>0.715776</td>\n",
       "      <td>0.240642</td>\n",
       "      <td>0.111569</td>\n",
       "      <td>...</td>\n",
       "      <td>0.747222</td>\n",
       "      <td>0.645891</td>\n",
       "      <td>0.100928</td>\n",
       "      <td>0.232700</td>\n",
       "      <td>0.408117</td>\n",
       "      <td>0.556523</td>\n",
       "      <td>1.000000</td>\n",
       "      <td>0.999714</td>\n",
       "      <td>-0.975412</td>\n",
       "      <td>0.999997</td>\n",
       "    </tr>\n",
       "    <tr>\n",
       "      <th>Average</th>\n",
       "      <td>0.774249</td>\n",
       "      <td>0.619817</td>\n",
       "      <td>0.347447</td>\n",
       "      <td>0.371264</td>\n",
       "      <td>0.572295</td>\n",
       "      <td>0.572295</td>\n",
       "      <td>0.691205</td>\n",
       "      <td>0.710739</td>\n",
       "      <td>0.241645</td>\n",
       "      <td>0.109798</td>\n",
       "      <td>...</td>\n",
       "      <td>0.745023</td>\n",
       "      <td>0.642934</td>\n",
       "      <td>0.108099</td>\n",
       "      <td>0.233968</td>\n",
       "      <td>0.401769</td>\n",
       "      <td>0.555375</td>\n",
       "      <td>0.999714</td>\n",
       "      <td>1.000000</td>\n",
       "      <td>-0.976123</td>\n",
       "      <td>0.999686</td>\n",
       "    </tr>\n",
       "    <tr>\n",
       "      <th>Rank</th>\n",
       "      <td>-0.747307</td>\n",
       "      <td>-0.582474</td>\n",
       "      <td>-0.337731</td>\n",
       "      <td>-0.382646</td>\n",
       "      <td>-0.503342</td>\n",
       "      <td>-0.503342</td>\n",
       "      <td>-0.680996</td>\n",
       "      <td>-0.669090</td>\n",
       "      <td>-0.187320</td>\n",
       "      <td>-0.043451</td>\n",
       "      <td>...</td>\n",
       "      <td>-0.717108</td>\n",
       "      <td>-0.656232</td>\n",
       "      <td>-0.156697</td>\n",
       "      <td>-0.206684</td>\n",
       "      <td>-0.430635</td>\n",
       "      <td>-0.543484</td>\n",
       "      <td>-0.975412</td>\n",
       "      <td>-0.976123</td>\n",
       "      <td>1.000000</td>\n",
       "      <td>-0.975341</td>\n",
       "    </tr>\n",
       "    <tr>\n",
       "      <th>AVE</th>\n",
       "      <td>0.778289</td>\n",
       "      <td>0.620429</td>\n",
       "      <td>0.350174</td>\n",
       "      <td>0.370972</td>\n",
       "      <td>0.569332</td>\n",
       "      <td>0.569332</td>\n",
       "      <td>0.694188</td>\n",
       "      <td>0.715735</td>\n",
       "      <td>0.240212</td>\n",
       "      <td>0.111392</td>\n",
       "      <td>...</td>\n",
       "      <td>0.747054</td>\n",
       "      <td>0.645622</td>\n",
       "      <td>0.100548</td>\n",
       "      <td>0.232623</td>\n",
       "      <td>0.408838</td>\n",
       "      <td>0.556349</td>\n",
       "      <td>0.999997</td>\n",
       "      <td>0.999686</td>\n",
       "      <td>-0.975341</td>\n",
       "      <td>1.000000</td>\n",
       "    </tr>\n",
       "  </tbody>\n",
       "</table>\n",
       "<p>34 rows × 34 columns</p>\n",
       "</div>"
      ],
      "text/plain": [
       "                                    AGAMA P    AGAMA K    PKN P      PKN K  \\\n",
       "AGAMA P                             1.000000  0.828472  0.337603  0.137542   \n",
       "AGAMA K                             0.828472  1.000000  0.225402  0.109847   \n",
       "PKN P                               0.337603  0.225402  1.000000 -0.135519   \n",
       "PKN K                               0.137542  0.109847 -0.135519  1.000000   \n",
       "B. Indo P                           0.426058  0.414080  0.363281  0.055709   \n",
       "B. Indo K                           0.426058  0.414080  0.363281  0.055709   \n",
       "Matematika P                        0.540836  0.250007  0.414117  0.260606   \n",
       "Matematika K                        0.626648  0.374493  0.506354  0.122996   \n",
       "Sejarah P                           0.185117  0.344980  0.106013 -0.192357   \n",
       "Sejarah K                           0.140255  0.185477  0.157348 -0.199851   \n",
       "B. Inggris P                        0.292618  0.373771  0.501223 -0.071420   \n",
       "B. Inggris K                       -0.060199 -0.080061 -0.040583 -0.175928   \n",
       "Seni Budaya P                       0.584074  0.405745  0.354486  0.059705   \n",
       "Seni Budaya K                       0.584782  0.394765  0.140866  0.194027   \n",
       "PJOK P                              0.511339  0.294087  0.367190  0.010803   \n",
       "PJOK K                              0.193373  0.308117 -0.324517  0.622416   \n",
       "B. Jawa P                           0.287300  0.233983  0.415981  0.120103   \n",
       "B. Jawa K                           0.290567  0.212795  0.200971  0.070347   \n",
       "Simulasi dan Komunikasi Digital P   0.149474  0.251222  0.162182  0.245504   \n",
       "Simulasi dan Komunikasi Digital K        NaN       NaN       NaN       NaN   \n",
       "Fisika P                            0.665807  0.487456  0.174578  0.223782   \n",
       "Fisika K                            0.717704  0.555277  0.202212  0.193426   \n",
       "Kimia P                             0.385409  0.419953  0.158290  0.372175   \n",
       "Kimia K                             0.359163  0.400023  0.054979  0.358911   \n",
       "Gambar Teknik Mesin P               0.558681  0.325501  0.237222  0.135889   \n",
       "Gambar Teknik Mesin K               0.408087  0.219050  0.204868  0.096791   \n",
       "Pekerjaan Dasar Teknik Mesin P     -0.118748 -0.184837 -0.295188  0.261723   \n",
       "Pekerjaan Dasar Teknik Mesin K      0.156489  0.090121 -0.092993  0.111092   \n",
       "Dasar Perencanaan Teknik Mesin P    0.322914  0.140804 -0.061113  0.061591   \n",
       "Dasar Perencanaan Teknik Mesin K    0.381499  0.285784  0.180438  0.265753   \n",
       "JML                                 0.778200  0.620291  0.350543  0.370534   \n",
       "Average                             0.774249  0.619817  0.347447  0.371264   \n",
       "Rank                               -0.747307 -0.582474 -0.337731 -0.382646   \n",
       "AVE                                 0.778289  0.620429  0.350174  0.370972   \n",
       "\n",
       "                                    B. Indo P   B. Indo K  Matematika P   \\\n",
       "AGAMA P                               0.426058   0.426058       0.540836   \n",
       "AGAMA K                               0.414080   0.414080       0.250007   \n",
       "PKN P                                 0.363281   0.363281       0.414117   \n",
       "PKN K                                 0.055709   0.055709       0.260606   \n",
       "B. Indo P                             1.000000   1.000000       0.362950   \n",
       "B. Indo K                             1.000000   1.000000       0.362950   \n",
       "Matematika P                          0.362950   0.362950       1.000000   \n",
       "Matematika K                          0.439131   0.439131       0.749984   \n",
       "Sejarah P                             0.428215   0.428215      -0.022696   \n",
       "Sejarah K                             0.476678   0.476678       0.022555   \n",
       "B. Inggris P                          0.343401   0.343401       0.232657   \n",
       "B. Inggris K                         -0.096674  -0.096674      -0.135673   \n",
       "Seni Budaya P                         0.528212   0.528212       0.515685   \n",
       "Seni Budaya K                         0.590805   0.590805       0.459974   \n",
       "PJOK P                                0.317332   0.317332       0.409513   \n",
       "PJOK K                                0.110354   0.110354       0.007833   \n",
       "B. Jawa P                             0.461026   0.461026       0.338862   \n",
       "B. Jawa K                             0.334261   0.334261       0.202585   \n",
       "Simulasi dan Komunikasi Digital P     0.373912   0.373912       0.247520   \n",
       "Simulasi dan Komunikasi Digital K          NaN        NaN            NaN   \n",
       "Fisika P                              0.375106   0.375106       0.588953   \n",
       "Fisika K                              0.404398   0.404398       0.593630   \n",
       "Kimia P                               0.144884   0.144884       0.309671   \n",
       "Kimia K                               0.143880   0.143880       0.286638   \n",
       "Gambar Teknik Mesin P                 0.184365   0.184365       0.580618   \n",
       "Gambar Teknik Mesin K                 0.210599   0.210599       0.426774   \n",
       "Pekerjaan Dasar Teknik Mesin P       -0.049862  -0.049862       0.065955   \n",
       "Pekerjaan Dasar Teknik Mesin K       -0.153278  -0.153278       0.096205   \n",
       "Dasar Perencanaan Teknik Mesin P      0.087798   0.087798       0.335185   \n",
       "Dasar Perencanaan Teknik Mesin K      0.068366   0.068366       0.497149   \n",
       "JML                                   0.569779   0.569779       0.694153   \n",
       "Average                               0.572295   0.572295       0.691205   \n",
       "Rank                                 -0.503342  -0.503342      -0.680996   \n",
       "AVE                                   0.569332   0.569332       0.694188   \n",
       "\n",
       "                                    Matematika K  Sejarah P   Sejarah K  ...  \\\n",
       "AGAMA P                                 0.626648    0.185117   0.140255  ...   \n",
       "AGAMA K                                 0.374493    0.344980   0.185477  ...   \n",
       "PKN P                                   0.506354    0.106013   0.157348  ...   \n",
       "PKN K                                   0.122996   -0.192357  -0.199851  ...   \n",
       "B. Indo P                               0.439131    0.428215   0.476678  ...   \n",
       "B. Indo K                               0.439131    0.428215   0.476678  ...   \n",
       "Matematika P                            0.749984   -0.022696   0.022555  ...   \n",
       "Matematika K                            1.000000   -0.078724   0.126370  ...   \n",
       "Sejarah P                              -0.078724    1.000000   0.687746  ...   \n",
       "Sejarah K                               0.126370    0.687746   1.000000  ...   \n",
       "B. Inggris P                            0.133205    0.282895   0.180425  ...   \n",
       "B. Inggris K                           -0.192804   -0.037455  -0.118790  ...   \n",
       "Seni Budaya P                           0.697544    0.133934   0.072009  ...   \n",
       "Seni Budaya K                           0.577486    0.014396  -0.005353  ...   \n",
       "PJOK P                                  0.440307   -0.036668   0.059385  ...   \n",
       "PJOK K                                  0.027730   -0.035704  -0.210101  ...   \n",
       "B. Jawa P                               0.353066    0.082837  -0.063416  ...   \n",
       "B. Jawa K                               0.264153    0.152224   0.019559  ...   \n",
       "Simulasi dan Komunikasi Digital P       0.248997    0.347527   0.085279  ...   \n",
       "Simulasi dan Komunikasi Digital K            NaN         NaN        NaN  ...   \n",
       "Fisika P                                0.525102    0.159776   0.064584  ...   \n",
       "Fisika K                                0.532975    0.214650   0.130329  ...   \n",
       "Kimia P                                 0.410455    0.034960   0.172913  ...   \n",
       "Kimia K                                 0.357594    0.102197   0.214390  ...   \n",
       "Gambar Teknik Mesin P                   0.589037    0.090804  -0.037256  ...   \n",
       "Gambar Teknik Mesin K                   0.575595    0.029524  -0.001115  ...   \n",
       "Pekerjaan Dasar Teknik Mesin P         -0.181857   -0.011523  -0.174650  ...   \n",
       "Pekerjaan Dasar Teknik Mesin K         -0.005779   -0.141690  -0.475483  ...   \n",
       "Dasar Perencanaan Teknik Mesin P        0.295228    0.001989   0.060348  ...   \n",
       "Dasar Perencanaan Teknik Mesin K        0.443484    0.024721   0.008883  ...   \n",
       "JML                                     0.715776    0.240642   0.111569  ...   \n",
       "Average                                 0.710739    0.241645   0.109798  ...   \n",
       "Rank                                   -0.669090   -0.187320  -0.043451  ...   \n",
       "AVE                                     0.715735    0.240212   0.111392  ...   \n",
       "\n",
       "                                    Gambar Teknik Mesin P   \\\n",
       "AGAMA P                                           0.558681   \n",
       "AGAMA K                                           0.325501   \n",
       "PKN P                                             0.237222   \n",
       "PKN K                                             0.135889   \n",
       "B. Indo P                                         0.184365   \n",
       "B. Indo K                                         0.184365   \n",
       "Matematika P                                      0.580618   \n",
       "Matematika K                                      0.589037   \n",
       "Sejarah P                                         0.090804   \n",
       "Sejarah K                                        -0.037256   \n",
       "B. Inggris P                                      0.074025   \n",
       "B. Inggris K                                     -0.222105   \n",
       "Seni Budaya P                                     0.575834   \n",
       "Seni Budaya K                                     0.509891   \n",
       "PJOK P                                            0.181515   \n",
       "PJOK K                                            0.074704   \n",
       "B. Jawa P                                         0.298673   \n",
       "B. Jawa K                                         0.389620   \n",
       "Simulasi dan Komunikasi Digital P                 0.236203   \n",
       "Simulasi dan Komunikasi Digital K                      NaN   \n",
       "Fisika P                                          0.555953   \n",
       "Fisika K                                          0.560653   \n",
       "Kimia P                                           0.345879   \n",
       "Kimia K                                           0.388375   \n",
       "Gambar Teknik Mesin P                             1.000000   \n",
       "Gambar Teknik Mesin K                             0.805662   \n",
       "Pekerjaan Dasar Teknik Mesin P                    0.129170   \n",
       "Pekerjaan Dasar Teknik Mesin K                    0.407352   \n",
       "Dasar Perencanaan Teknik Mesin P                  0.309347   \n",
       "Dasar Perencanaan Teknik Mesin K                  0.468231   \n",
       "JML                                               0.747222   \n",
       "Average                                           0.745023   \n",
       "Rank                                             -0.717108   \n",
       "AVE                                               0.747054   \n",
       "\n",
       "                                    Gambar Teknik Mesin K  \\\n",
       "AGAMA P                                          0.408087   \n",
       "AGAMA K                                          0.219050   \n",
       "PKN P                                            0.204868   \n",
       "PKN K                                            0.096791   \n",
       "B. Indo P                                        0.210599   \n",
       "B. Indo K                                        0.210599   \n",
       "Matematika P                                     0.426774   \n",
       "Matematika K                                     0.575595   \n",
       "Sejarah P                                        0.029524   \n",
       "Sejarah K                                       -0.001115   \n",
       "B. Inggris P                                     0.126560   \n",
       "B. Inggris K                                    -0.307936   \n",
       "Seni Budaya P                                    0.539278   \n",
       "Seni Budaya K                                    0.470890   \n",
       "PJOK P                                           0.126698   \n",
       "PJOK K                                           0.032149   \n",
       "B. Jawa P                                        0.112570   \n",
       "B. Jawa K                                        0.411895   \n",
       "Simulasi dan Komunikasi Digital P                0.102564   \n",
       "Simulasi dan Komunikasi Digital K                     NaN   \n",
       "Fisika P                                         0.538560   \n",
       "Fisika K                                         0.531965   \n",
       "Kimia P                                          0.389668   \n",
       "Kimia K                                          0.368032   \n",
       "Gambar Teknik Mesin P                            0.805662   \n",
       "Gambar Teknik Mesin K                            1.000000   \n",
       "Pekerjaan Dasar Teknik Mesin P                   0.209142   \n",
       "Pekerjaan Dasar Teknik Mesin K                   0.295902   \n",
       "Dasar Perencanaan Teknik Mesin P                 0.219313   \n",
       "Dasar Perencanaan Teknik Mesin K                 0.316511   \n",
       "JML                                              0.645891   \n",
       "Average                                          0.642934   \n",
       "Rank                                            -0.656232   \n",
       "AVE                                              0.645622   \n",
       "\n",
       "                                    Pekerjaan Dasar Teknik Mesin P   \\\n",
       "AGAMA P                                                   -0.118748   \n",
       "AGAMA K                                                   -0.184837   \n",
       "PKN P                                                     -0.295188   \n",
       "PKN K                                                      0.261723   \n",
       "B. Indo P                                                 -0.049862   \n",
       "B. Indo K                                                 -0.049862   \n",
       "Matematika P                                               0.065955   \n",
       "Matematika K                                              -0.181857   \n",
       "Sejarah P                                                 -0.011523   \n",
       "Sejarah K                                                 -0.174650   \n",
       "B. Inggris P                                              -0.228301   \n",
       "B. Inggris K                                               0.041776   \n",
       "Seni Budaya P                                             -0.186271   \n",
       "Seni Budaya K                                             -0.002717   \n",
       "PJOK P                                                    -0.148557   \n",
       "PJOK K                                                     0.008315   \n",
       "B. Jawa P                                                 -0.220325   \n",
       "B. Jawa K                                                  0.031217   \n",
       "Simulasi dan Komunikasi Digital P                          0.208689   \n",
       "Simulasi dan Komunikasi Digital K                               NaN   \n",
       "Fisika P                                                   0.240671   \n",
       "Fisika K                                                   0.151128   \n",
       "Kimia P                                                   -0.278531   \n",
       "Kimia K                                                   -0.128337   \n",
       "Gambar Teknik Mesin P                                      0.129170   \n",
       "Gambar Teknik Mesin K                                      0.209142   \n",
       "Pekerjaan Dasar Teknik Mesin P                             1.000000   \n",
       "Pekerjaan Dasar Teknik Mesin K                             0.534834   \n",
       "Dasar Perencanaan Teknik Mesin P                          -0.018808   \n",
       "Dasar Perencanaan Teknik Mesin K                           0.016059   \n",
       "JML                                                        0.100928   \n",
       "Average                                                    0.108099   \n",
       "Rank                                                      -0.156697   \n",
       "AVE                                                        0.100548   \n",
       "\n",
       "                                    Pekerjaan Dasar Teknik Mesin K  \\\n",
       "AGAMA P                                                   0.156489   \n",
       "AGAMA K                                                   0.090121   \n",
       "PKN P                                                    -0.092993   \n",
       "PKN K                                                     0.111092   \n",
       "B. Indo P                                                -0.153278   \n",
       "B. Indo K                                                -0.153278   \n",
       "Matematika P                                              0.096205   \n",
       "Matematika K                                             -0.005779   \n",
       "Sejarah P                                                -0.141690   \n",
       "Sejarah K                                                -0.475483   \n",
       "B. Inggris P                                             -0.058697   \n",
       "B. Inggris K                                             -0.030534   \n",
       "Seni Budaya P                                            -0.091310   \n",
       "Seni Budaya K                                             0.017535   \n",
       "PJOK P                                                   -0.234847   \n",
       "PJOK K                                                    0.203114   \n",
       "B. Jawa P                                                -0.045682   \n",
       "B. Jawa K                                                 0.141654   \n",
       "Simulasi dan Komunikasi Digital P                         0.185595   \n",
       "Simulasi dan Komunikasi Digital K                              NaN   \n",
       "Fisika P                                                  0.231420   \n",
       "Fisika K                                                  0.180093   \n",
       "Kimia P                                                  -0.045312   \n",
       "Kimia K                                                   0.029850   \n",
       "Gambar Teknik Mesin P                                     0.407352   \n",
       "Gambar Teknik Mesin K                                     0.295902   \n",
       "Pekerjaan Dasar Teknik Mesin P                            0.534834   \n",
       "Pekerjaan Dasar Teknik Mesin K                            1.000000   \n",
       "Dasar Perencanaan Teknik Mesin P                         -0.090985   \n",
       "Dasar Perencanaan Teknik Mesin K                          0.189849   \n",
       "JML                                                       0.232700   \n",
       "Average                                                   0.233968   \n",
       "Rank                                                     -0.206684   \n",
       "AVE                                                       0.232623   \n",
       "\n",
       "                                    Dasar Perencanaan Teknik Mesin P   \\\n",
       "AGAMA P                                                      0.322914   \n",
       "AGAMA K                                                      0.140804   \n",
       "PKN P                                                       -0.061113   \n",
       "PKN K                                                        0.061591   \n",
       "B. Indo P                                                    0.087798   \n",
       "B. Indo K                                                    0.087798   \n",
       "Matematika P                                                 0.335185   \n",
       "Matematika K                                                 0.295228   \n",
       "Sejarah P                                                    0.001989   \n",
       "Sejarah K                                                    0.060348   \n",
       "B. Inggris P                                                 0.045560   \n",
       "B. Inggris K                                                -0.160323   \n",
       "Seni Budaya P                                                0.335160   \n",
       "Seni Budaya K                                                0.412215   \n",
       "PJOK P                                                       0.302343   \n",
       "PJOK K                                                       0.143251   \n",
       "B. Jawa P                                                    0.235692   \n",
       "B. Jawa K                                                    0.192233   \n",
       "Simulasi dan Komunikasi Digital P                            0.181210   \n",
       "Simulasi dan Komunikasi Digital K                                 NaN   \n",
       "Fisika P                                                     0.342461   \n",
       "Fisika K                                                     0.378961   \n",
       "Kimia P                                                      0.013663   \n",
       "Kimia K                                                      0.179192   \n",
       "Gambar Teknik Mesin P                                        0.309347   \n",
       "Gambar Teknik Mesin K                                        0.219313   \n",
       "Pekerjaan Dasar Teknik Mesin P                              -0.018808   \n",
       "Pekerjaan Dasar Teknik Mesin K                              -0.090985   \n",
       "Dasar Perencanaan Teknik Mesin P                             1.000000   \n",
       "Dasar Perencanaan Teknik Mesin K                             0.357651   \n",
       "JML                                                          0.408117   \n",
       "Average                                                      0.401769   \n",
       "Rank                                                        -0.430635   \n",
       "AVE                                                          0.408838   \n",
       "\n",
       "                                    Dasar Perencanaan Teknik Mesin K  \\\n",
       "AGAMA P                                                     0.381499   \n",
       "AGAMA K                                                     0.285784   \n",
       "PKN P                                                       0.180438   \n",
       "PKN K                                                       0.265753   \n",
       "B. Indo P                                                   0.068366   \n",
       "B. Indo K                                                   0.068366   \n",
       "Matematika P                                                0.497149   \n",
       "Matematika K                                                0.443484   \n",
       "Sejarah P                                                   0.024721   \n",
       "Sejarah K                                                   0.008883   \n",
       "B. Inggris P                                                0.294244   \n",
       "B. Inggris K                                               -0.395668   \n",
       "Seni Budaya P                                               0.202644   \n",
       "Seni Budaya K                                               0.092331   \n",
       "PJOK P                                                      0.007714   \n",
       "PJOK K                                                      0.180127   \n",
       "B. Jawa P                                                   0.283086   \n",
       "B. Jawa K                                                   0.182671   \n",
       "Simulasi dan Komunikasi Digital P                           0.314243   \n",
       "Simulasi dan Komunikasi Digital K                                NaN   \n",
       "Fisika P                                                    0.522549   \n",
       "Fisika K                                                    0.515295   \n",
       "Kimia P                                                     0.333030   \n",
       "Kimia K                                                     0.489419   \n",
       "Gambar Teknik Mesin P                                       0.468231   \n",
       "Gambar Teknik Mesin K                                       0.316511   \n",
       "Pekerjaan Dasar Teknik Mesin P                              0.016059   \n",
       "Pekerjaan Dasar Teknik Mesin K                              0.189849   \n",
       "Dasar Perencanaan Teknik Mesin P                            0.357651   \n",
       "Dasar Perencanaan Teknik Mesin K                            1.000000   \n",
       "JML                                                         0.556523   \n",
       "Average                                                     0.555375   \n",
       "Rank                                                       -0.543484   \n",
       "AVE                                                         0.556349   \n",
       "\n",
       "                                         JML   Average      Rank       AVE  \n",
       "AGAMA P                             0.778200  0.774249 -0.747307  0.778289  \n",
       "AGAMA K                             0.620291  0.619817 -0.582474  0.620429  \n",
       "PKN P                               0.350543  0.347447 -0.337731  0.350174  \n",
       "PKN K                               0.370534  0.371264 -0.382646  0.370972  \n",
       "B. Indo P                           0.569779  0.572295 -0.503342  0.569332  \n",
       "B. Indo K                           0.569779  0.572295 -0.503342  0.569332  \n",
       "Matematika P                        0.694153  0.691205 -0.680996  0.694188  \n",
       "Matematika K                        0.715776  0.710739 -0.669090  0.715735  \n",
       "Sejarah P                           0.240642  0.241645 -0.187320  0.240212  \n",
       "Sejarah K                           0.111569  0.109798 -0.043451  0.111392  \n",
       "B. Inggris P                        0.365947  0.367905 -0.370218  0.365804  \n",
       "B. Inggris K                       -0.345984 -0.350026  0.338932 -0.345994  \n",
       "Seni Budaya P                       0.749162  0.748250 -0.727486  0.749392  \n",
       "Seni Budaya K                       0.721178  0.722993 -0.712008  0.721242  \n",
       "PJOK P                              0.400294  0.398832 -0.423239  0.400251  \n",
       "PJOK K                              0.317057  0.320023 -0.290003  0.317369  \n",
       "B. Jawa P                           0.547655  0.552407 -0.505522  0.547528  \n",
       "B. Jawa K                           0.543375  0.546234 -0.548049  0.543174  \n",
       "Simulasi dan Komunikasi Digital P   0.505334  0.507041 -0.456625  0.505249  \n",
       "Simulasi dan Komunikasi Digital K        NaN       NaN       NaN       NaN  \n",
       "Fisika P                            0.796907  0.798891 -0.836391  0.796869  \n",
       "Fisika K                            0.825881  0.826458 -0.859337  0.825954  \n",
       "Kimia P                             0.463549  0.460151 -0.447409  0.464052  \n",
       "Kimia K                             0.516480  0.515175 -0.498385  0.517012  \n",
       "Gambar Teknik Mesin P               0.747222  0.745023 -0.717108  0.747054  \n",
       "Gambar Teknik Mesin K               0.645891  0.642934 -0.656232  0.645622  \n",
       "Pekerjaan Dasar Teknik Mesin P      0.100928  0.108099 -0.156697  0.100548  \n",
       "Pekerjaan Dasar Teknik Mesin K      0.232700  0.233968 -0.206684  0.232623  \n",
       "Dasar Perencanaan Teknik Mesin P    0.408117  0.401769 -0.430635  0.408838  \n",
       "Dasar Perencanaan Teknik Mesin K    0.556523  0.555375 -0.543484  0.556349  \n",
       "JML                                 1.000000  0.999714 -0.975412  0.999997  \n",
       "Average                             0.999714  1.000000 -0.976123  0.999686  \n",
       "Rank                               -0.975412 -0.976123  1.000000 -0.975341  \n",
       "AVE                                 0.999997  0.999686 -0.975341  1.000000  \n",
       "\n",
       "[34 rows x 34 columns]"
      ]
     },
     "execution_count": 7,
     "metadata": {},
     "output_type": "execute_result"
    }
   ],
   "source": [
    "tpmc2.corr()"
   ]
  },
  {
   "cell_type": "markdown",
   "id": "d10bbf53-e93a-4e46-b357-570db612cb2c",
   "metadata": {},
   "source": [
    "## Visualisasi Data"
   ]
  },
  {
   "cell_type": "code",
   "execution_count": 8,
   "id": "ddceb8de-134c-4190-bd8b-b24a804e7946",
   "metadata": {},
   "outputs": [
    {
     "data": {
      "image/png": "[encoded data removed]",
      "text/plain": [
       "<Figure size 432x288 with 1 Axes>"
      ]
     },
     "metadata": {
      "needs_background": "light"
     },
     "output_type": "display_data"
    }
   ],
   "source": [
    "tpmc1[\"PKN K\"].value_counts().plot.bar()\n",
    "plt.title(\"Countplot of 'PKN K S1' type\")\n",
    "plt.show()"
   ]
  },
  {
   "cell_type": "code",
   "execution_count": 9,
   "id": "d9bc5f23-8c07-45ed-9466-9768d865ebf2",
   "metadata": {},
   "outputs": [
    {
     "data": {
      "image/png": "[encoded data removed]",
      "text/plain": [
       "<Figure size 432x288 with 1 Axes>"
      ]
     },
     "metadata": {
      "needs_background": "light"
     },
     "output_type": "display_data"
    }
   ],
   "source": [
    "tpmc2[\"PKN K\"].value_counts().plot.bar()\n",
    "plt.title(\"Countplot of 'PKN K S2' type\")\n",
    "plt.show()"
   ]
  },
  {
   "cell_type": "markdown",
   "id": "1b9c7384-2534-476a-a817-fbaa1e6af469",
   "metadata": {},
   "source": [
    "**bisa disimpulkan bahwa nilai PKN Ketrampilan Semester 2 lebih banyak daripada Semester 1**"
   ]
  },
  {
   "cell_type": "code",
   "execution_count": 4,
   "id": "98de9d43-f084-49f3-9db5-5d103ebdd640",
   "metadata": {},
   "outputs": [
    {
     "data": {
      "application/vnd.plotly.v1+json": {
       "config": {
        "plotlyServerURL": "https://plot.ly"
       },
       "data": [
        {
         "mode": "lines+markers",
         "name": "Semester 1",
         "type": "scatter",
         "x": [
          " JAYADI DWI HANDOYO ",
          " JOVAN HENDI WIJAYA ",
          " KHABIB ",
          " KHOIRUL MUCHLISIN ",
          " KRISNA AJI PERMADI ",
          " KRISNA FAIZALDHI HIDAYAT ",
          " MICO DWI SAPUTRO ",
          " MOCH FATJAR SUBKHAN ",
          " MOCH. ALIH AFRIL ARDIYANSYAH ",
          " MOH CHOIRUL FALAH ",
          " MOH. ARYA FAHTUREZI ",
          " MOHAMMAD DHARONI ",
          " MOHAMMAD DZULFIKRI YAZID ",
          " MOHAMMAD ILHAM RAFIKI ",
          " MOHAMMAD MUFTI FIRMANSYAH ",
          " MUHAMAD ADAM ZAMZAMI ",
          " MUHAMMAD ARI PUTRA ANANDA ",
          " MUHAMMAD RAFID FADHILAH ",
          " MUHAMMAD RIDHO PRASETYO ",
          " MUHAMMAD SYAIFUDIN MARUF ",
          " MUHAMMAD TAUFIK HIDAYAT ",
          " MUHAMMAD YUSRON IRHAMNI ",
          " MUHAMMAD ZUHDA MUSYAFFA ",
          " MUHAMMAD ZUKHRUF ARIYAFANNI ",
          " NAMIRA LANGIT DHIYA'ULHIKMA NASHRULLAH ",
          " NANDA PRAYOGA ",
          " NUR ROSYIID HENDRA SAPUTRA ",
          " PRADIKA ALANSYAH ",
          " PRAYOGO BUDI LAKSONO ",
          " RADITYA FAJAR ABIMANYU ",
          " RAHMAT AZIS NUGROHO ",
          " RAMADHAN ADI SATRIA ",
          " RAMANIDITYO MUSTOFA ",
          " REGA ALVINO CAHYA ",
          " REHAN BAGAS ARDEVA ",
          " REHAN PUTRA PEMBAJENG "
         ],
         "xaxis": "x",
         "y": [
          179,
          150,
          169,
          161,
          160,
          177,
          168,
          160,
          156,
          168,
          171,
          169,
          170,
          163,
          170,
          175,
          161,
          156,
          167,
          160,
          160,
          172,
          167,
          159,
          167,
          167,
          172,
          169,
          156,
          165,
          175,
          170,
          165,
          173,
          167,
          160
         ],
         "yaxis": "y"
        },
        {
         "name": "Semester 2",
         "type": "scatter",
         "x": [
          " JAYADI DWI HANDOYO ",
          " JOVAN HENDI WIJAYA ",
          " KHABIB ",
          " KHOIRUL MUCHLISIN ",
          " KRISNA AJI PERMADI ",
          " KRISNA FAIZALDHI HIDAYAT ",
          " MICO DWI SAPUTRO ",
          " MOCH FATJAR SUBKHAN ",
          " MOCH. ALIH AFRIL ARDIYANSYAH ",
          " MOH CHOIRUL FALAH ",
          " MOH. ARYA FAHTUREZI ",
          " MOHAMMAD DHARONI ",
          " MOHAMMAD DZULFIKRI YAZID ",
          " MOHAMMAD ILHAM RAFIKI ",
          " MOHAMMAD MUFTI FIRMANSYAH ",
          " MUHAMAD ADAM ZAMZAMI ",
          " MUHAMMAD ARI PUTRA ANANDA ",
          " MUHAMMAD RAFID FADHILAH ",
          " MUHAMMAD RIDHO PRASETYO ",
          " MUHAMMAD SYAIFUDIN MARUF ",
          " MUHAMMAD TAUFIK HIDAYAT ",
          " MUHAMMAD YUSRON IRHAMNI ",
          " MUHAMMAD ZUHDA MUSYAFFA ",
          " MUHAMMAD ZUKHRUF ARIYAFANNI ",
          " NAMIRA LANGIT DHIYA'ULHIKMA NASHRULLAH ",
          " NANDA PRAYOGA ",
          " NUR ROSYIID HENDRA SAPUTRA ",
          " PRADIKA ALANSYAH ",
          " PRAYOGO BUDI LAKSONO ",
          " RADITYA FAJAR ABIMANYU ",
          " RAHMAT AZIS NUGROHO ",
          " RAMADHAN ADI SATRIA ",
          " RAMANIDITYO MUSTOFA ",
          " REGA ALVINO CAHYA ",
          " REHAN BAGAS ARDEVA ",
          " REHAN PUTRA PEMBAJENG "
         ],
         "xaxis": "x",
         "y": [
          178,
          166,
          168,
          169,
          165,
          177,
          170,
          163,
          166,
          171,
          176,
          168,
          166,
          164,
          165,
          175,
          170,
          159,
          165,
          169,
          166,
          175,
          168,
          164,
          167,
          166,
          177,
          165,
          166,
          161,
          173,
          163,
          167,
          172,
          168,
          168
         ],
         "yaxis": "y2"
        }
       ],
       "layout": {
        "height": 650,
        "template": {
         "data": {
          "bar": [
           {
            "error_x": {
             "color": "#2a3f5f"
            },
            "error_y": {
             "color": "#2a3f5f"
            },
            "marker": {
             "line": {
              "color": "#E5ECF6",
              "width": 0.5
             },
             "pattern": {
              "fillmode": "overlay",
              "size": 10,
              "solidity": 0.2
             }
            },
            "type": "bar"
           }
          ],
          "barpolar": [
           {
            "marker": {
             "line": {
              "color": "#E5ECF6",
              "width": 0.5
             },
             "pattern": {
              "fillmode": "overlay",
              "size": 10,
              "solidity": 0.2
             }
            },
            "type": "barpolar"
           }
          ],
          "carpet": [
           {
            "aaxis": {
             "endlinecolor": "#2a3f5f",
             "gridcolor": "white",
             "linecolor": "white",
             "minorgridcolor": "white",
             "startlinecolor": "#2a3f5f"
            },
            "baxis": {
             "endlinecolor": "#2a3f5f",
             "gridcolor": "white",
             "linecolor": "white",
             "minorgridcolor": "white",
             "startlinecolor": "#2a3f5f"
            },
            "type": "carpet"
           }
          ],
          "choropleth": [
           {
            "colorbar": {
             "outlinewidth": 0,
             "ticks": ""
            },
            "type": "choropleth"
           }
          ],
          "contour": [
           {
            "colorbar": {
             "outlinewidth": 0,
             "ticks": ""
            },
            "colorscale": [
             [
              0,
              "#0d0887"
             ],
             [
              0.1111111111111111,
              "#46039f"
             ],
             [
              0.2222222222222222,
              "#7201a8"
             ],
             [
              0.3333333333333333,
              "#9c179e"
             ],
             [
              0.4444444444444444,
              "#bd3786"
             ],
             [
              0.5555555555555556,
              "#d8576b"
             ],
             [
              0.6666666666666666,
              "#ed7953"
             ],
             [
              0.7777777777777778,
              "#fb9f3a"
             ],
             [
              0.8888888888888888,
              "#fdca26"
             ],
             [
              1,
              "#f0f921"
             ]
            ],
            "type": "contour"
           }
          ],
          "contourcarpet": [
           {
            "colorbar": {
             "outlinewidth": 0,
             "ticks": ""
            },
            "type": "contourcarpet"
           }
          ],
          "heatmap": [
           {
            "colorbar": {
             "outlinewidth": 0,
             "ticks": ""
            },
            "colorscale": [
             [
              0,
              "#0d0887"
             ],
             [
              0.1111111111111111,
              "#46039f"
             ],
             [
              0.2222222222222222,
              "#7201a8"
             ],
             [
              0.3333333333333333,
              "#9c179e"
             ],
             [
              0.4444444444444444,
              "#bd3786"
             ],
             [
              0.5555555555555556,
              "#d8576b"
             ],
             [
              0.6666666666666666,
              "#ed7953"
             ],
             [
              0.7777777777777778,
              "#fb9f3a"
             ],
             [
              0.8888888888888888,
              "#fdca26"
             ],
             [
              1,
              "#f0f921"
             ]
            ],
            "type": "heatmap"
           }
          ],
          "heatmapgl": [
           {
            "colorbar": {
             "outlinewidth": 0,
             "ticks": ""
            },
            "colorscale": [
             [
              0,
              "#0d0887"
             ],
             [
              0.1111111111111111,
              "#46039f"
             ],
             [
              0.2222222222222222,
              "#7201a8"
             ],
             [
              0.3333333333333333,
              "#9c179e"
             ],
             [
              0.4444444444444444,
              "#bd3786"
             ],
             [
              0.5555555555555556,
              "#d8576b"
             ],
             [
              0.6666666666666666,
              "#ed7953"
             ],
             [
              0.7777777777777778,
              "#fb9f3a"
             ],
             [
              0.8888888888888888,
              "#fdca26"
             ],
             [
              1,
              "#f0f921"
             ]
            ],
            "type": "heatmapgl"
           }
          ],
          "histogram": [
           {
            "marker": {
             "pattern": {
              "fillmode": "overlay",
              "size": 10,
              "solidity": 0.2
             }
            },
            "type": "histogram"
           }
          ],
          "histogram2d": [
           {
            "colorbar": {
             "outlinewidth": 0,
             "ticks": ""
            },
            "colorscale": [
             [
              0,
              "#0d0887"
             ],
             [
              0.1111111111111111,
              "#46039f"
             ],
             [
              0.2222222222222222,
              "#7201a8"
             ],
             [
              0.3333333333333333,
              "#9c179e"
             ],
             [
              0.4444444444444444,
              "#bd3786"
             ],
             [
              0.5555555555555556,
              "#d8576b"
             ],
             [
              0.6666666666666666,
              "#ed7953"
             ],
             [
              0.7777777777777778,
              "#fb9f3a"
             ],
             [
              0.8888888888888888,
              "#fdca26"
             ],
             [
              1,
              "#f0f921"
             ]
            ],
            "type": "histogram2d"
           }
          ],
          "histogram2dcontour": [
           {
            "colorbar": {
             "outlinewidth": 0,
             "ticks": ""
            },
            "colorscale": [
             [
              0,
              "#0d0887"
             ],
             [
              0.1111111111111111,
              "#46039f"
             ],
             [
              0.2222222222222222,
              "#7201a8"
             ],
             [
              0.3333333333333333,
              "#9c179e"
             ],
             [
              0.4444444444444444,
              "#bd3786"
             ],
             [
              0.5555555555555556,
              "#d8576b"
             ],
             [
              0.6666666666666666,
              "#ed7953"
             ],
             [
              0.7777777777777778,
              "#fb9f3a"
             ],
             [
              0.8888888888888888,
              "#fdca26"
             ],
             [
              1,
              "#f0f921"
             ]
            ],
            "type": "histogram2dcontour"
           }
          ],
          "mesh3d": [
           {
            "colorbar": {
             "outlinewidth": 0,
             "ticks": ""
            },
            "type": "mesh3d"
           }
          ],
          "parcoords": [
           {
            "line": {
             "colorbar": {
              "outlinewidth": 0,
              "ticks": ""
             }
            },
            "type": "parcoords"
           }
          ],
          "pie": [
           {
            "automargin": true,
            "type": "pie"
           }
          ],
          "scatter": [
           {
            "marker": {
             "colorbar": {
              "outlinewidth": 0,
              "ticks": ""
             }
            },
            "type": "scatter"
           }
          ],
          "scatter3d": [
           {
            "line": {
             "colorbar": {
              "outlinewidth": 0,
              "ticks": ""
             }
            },
            "marker": {
             "colorbar": {
              "outlinewidth": 0,
              "ticks": ""
             }
            },
            "type": "scatter3d"
           }
          ],
          "scattercarpet": [
           {
            "marker": {
             "colorbar": {
              "outlinewidth": 0,
              "ticks": ""
             }
            },
            "type": "scattercarpet"
           }
          ],
          "scattergeo": [
           {
            "marker": {
             "colorbar": {
              "outlinewidth": 0,
              "ticks": ""
             }
            },
            "type": "scattergeo"
           }
          ],
          "scattergl": [
           {
            "marker": {
             "colorbar": {
              "outlinewidth": 0,
              "ticks": ""
             }
            },
            "type": "scattergl"
           }
          ],
          "scattermapbox": [
           {
            "marker": {
             "colorbar": {
              "outlinewidth": 0,
              "ticks": ""
             }
            },
            "type": "scattermapbox"
           }
          ],
          "scatterpolar": [
           {
            "marker": {
             "colorbar": {
              "outlinewidth": 0,
              "ticks": ""
             }
            },
            "type": "scatterpolar"
           }
          ],
          "scatterpolargl": [
           {
            "marker": {
             "colorbar": {
              "outlinewidth": 0,
              "ticks": ""
             }
            },
            "type": "scatterpolargl"
           }
          ],
          "scatterternary": [
           {
            "marker": {
             "colorbar": {
              "outlinewidth": 0,
              "ticks": ""
             }
            },
            "type": "scatterternary"
           }
          ],
          "surface": [
           {
            "colorbar": {
             "outlinewidth": 0,
             "ticks": ""
            },
            "colorscale": [
             [
              0,
              "#0d0887"
             ],
             [
              0.1111111111111111,
              "#46039f"
             ],
             [
              0.2222222222222222,
              "#7201a8"
             ],
             [
              0.3333333333333333,
              "#9c179e"
             ],
             [
              0.4444444444444444,
              "#bd3786"
             ],
             [
              0.5555555555555556,
              "#d8576b"
             ],
             [
              0.6666666666666666,
              "#ed7953"
             ],
             [
              0.7777777777777778,
              "#fb9f3a"
             ],
             [
              0.8888888888888888,
              "#fdca26"
             ],
             [
              1,
              "#f0f921"
             ]
            ],
            "type": "surface"
           }
          ],
          "table": [
           {
            "cells": {
             "fill": {
              "color": "#EBF0F8"
             },
             "line": {
              "color": "white"
             }
            },
            "header": {
             "fill": {
              "color": "#C8D4E3"
             },
             "line": {
              "color": "white"
             }
            },
            "type": "table"
           }
          ]
         },
         "layout": {
          "annotationdefaults": {
           "arrowcolor": "#2a3f5f",
           "arrowhead": 0,
           "arrowwidth": 1
          },
          "autotypenumbers": "strict",
          "coloraxis": {
           "colorbar": {
            "outlinewidth": 0,
            "ticks": ""
           }
          },
          "colorscale": {
           "diverging": [
            [
             0,
             "#8e0152"
            ],
            [
             0.1,
             "#c51b7d"
            ],
            [
             0.2,
             "#de77ae"
            ],
            [
             0.3,
             "#f1b6da"
            ],
            [
             0.4,
             "#fde0ef"
            ],
            [
             0.5,
             "#f7f7f7"
            ],
            [
             0.6,
             "#e6f5d0"
            ],
            [
             0.7,
             "#b8e186"
            ],
            [
             0.8,
             "#7fbc41"
            ],
            [
             0.9,
             "#4d9221"
            ],
            [
             1,
             "#276419"
            ]
           ],
           "sequential": [
            [
             0,
             "#0d0887"
            ],
            [
             0.1111111111111111,
             "#46039f"
            ],
            [
             0.2222222222222222,
             "#7201a8"
            ],
            [
             0.3333333333333333,
             "#9c179e"
            ],
            [
             0.4444444444444444,
             "#bd3786"
            ],
            [
             0.5555555555555556,
             "#d8576b"
            ],
            [
             0.6666666666666666,
             "#ed7953"
            ],
            [
             0.7777777777777778,
             "#fb9f3a"
            ],
            [
             0.8888888888888888,
             "#fdca26"
            ],
            [
             1,
             "#f0f921"
            ]
           ],
           "sequentialminus": [
            [
             0,
             "#0d0887"
            ],
            [
             0.1111111111111111,
             "#46039f"
            ],
            [
             0.2222222222222222,
             "#7201a8"
            ],
            [
             0.3333333333333333,
             "#9c179e"
            ],
            [
             0.4444444444444444,
             "#bd3786"
            ],
            [
             0.5555555555555556,
             "#d8576b"
            ],
            [
             0.6666666666666666,
             "#ed7953"
            ],
            [
             0.7777777777777778,
             "#fb9f3a"
            ],
            [
             0.8888888888888888,
             "#fdca26"
            ],
            [
             1,
             "#f0f921"
            ]
           ]
          },
          "colorway": [
           "#636efa",
           "#EF553B",
           "#00cc96",
           "#ab63fa",
           "#FFA15A",
           "#19d3f3",
           "#FF6692",
           "#B6E880",
           "#FF97FF",
           "#FECB52"
          ],
          "font": {
           "color": "#2a3f5f"
          },
          "geo": {
           "bgcolor": "white",
           "lakecolor": "white",
           "landcolor": "#E5ECF6",
           "showlakes": true,
           "showland": true,
           "subunitcolor": "white"
          },
          "hoverlabel": {
           "align": "left"
          },
          "hovermode": "closest",
          "mapbox": {
           "style": "light"
          },
          "paper_bgcolor": "white",
          "plot_bgcolor": "#E5ECF6",
          "polar": {
           "angularaxis": {
            "gridcolor": "white",
            "linecolor": "white",
            "ticks": ""
           },
           "bgcolor": "#E5ECF6",
           "radialaxis": {
            "gridcolor": "white",
            "linecolor": "white",
            "ticks": ""
           }
          },
          "scene": {
           "xaxis": {
            "backgroundcolor": "#E5ECF6",
            "gridcolor": "white",
            "gridwidth": 2,
            "linecolor": "white",
            "showbackground": true,
            "ticks": "",
            "zerolinecolor": "white"
           },
           "yaxis": {
            "backgroundcolor": "#E5ECF6",
            "gridcolor": "white",
            "gridwidth": 2,
            "linecolor": "white",
            "showbackground": true,
            "ticks": "",
            "zerolinecolor": "white"
           },
           "zaxis": {
            "backgroundcolor": "#E5ECF6",
            "gridcolor": "white",
            "gridwidth": 2,
            "linecolor": "white",
            "showbackground": true,
            "ticks": "",
            "zerolinecolor": "white"
           }
          },
          "shapedefaults": {
           "line": {
            "color": "#2a3f5f"
           }
          },
          "ternary": {
           "aaxis": {
            "gridcolor": "white",
            "linecolor": "white",
            "ticks": ""
           },
           "baxis": {
            "gridcolor": "white",
            "linecolor": "white",
            "ticks": ""
           },
           "bgcolor": "#E5ECF6",
           "caxis": {
            "gridcolor": "white",
            "linecolor": "white",
            "ticks": ""
           }
          },
          "title": {
           "x": 0.05
          },
          "xaxis": {
           "automargin": true,
           "gridcolor": "white",
           "linecolor": "white",
           "ticks": "",
           "title": {
            "standoff": 15
           },
           "zerolinecolor": "white",
           "zerolinewidth": 2
          },
          "yaxis": {
           "automargin": true,
           "gridcolor": "white",
           "linecolor": "white",
           "ticks": "",
           "title": {
            "standoff": 15
           },
           "zerolinecolor": "white",
           "zerolinewidth": 2
          }
         }
        },
        "title": {
         "text": "Jumlah Nilai PKN Keterampilan dan Penilaian TPM Semester 1"
        },
        "xaxis": {
         "anchor": "y",
         "domain": [
          0,
          0.94
         ]
        },
        "yaxis": {
         "anchor": "x",
         "domain": [
          0,
          1
         ],
         "title": {
          "text": "Nilai Semester 1"
         }
        },
        "yaxis2": {
         "anchor": "x",
         "overlaying": "y",
         "side": "right",
         "title": {
          "text": "Nilai Semester 2"
         }
        }
       }
      },
      "text/html": [
       "<div>                            <div id=\"0d8faa0f-87bf-4b15-8786-72661a9ae2d9\" class=\"plotly-graph-div\" style=\"height:650px; width:100%;\"></div>            <script type=\"text/javascript\">                require([\"plotly\"], function(Plotly) {                    window.PLOTLYENV=window.PLOTLYENV || {};                                    if (document.getElementById(\"0d8faa0f-87bf-4b15-8786-72661a9ae2d9\")) {                    Plotly.newPlot(                        \"0d8faa0f-87bf-4b15-8786-72661a9ae2d9\",                        [{\"mode\":\"lines+markers\",\"name\":\"Semester 1\",\"x\":[\" JAYADI DWI HANDOYO \",\" JOVAN HENDI WIJAYA \",\" KHABIB \",\" KHOIRUL MUCHLISIN \",\" KRISNA AJI PERMADI \",\" KRISNA FAIZALDHI HIDAYAT \",\" MICO DWI SAPUTRO \",\" MOCH FATJAR SUBKHAN \",\" MOCH. ALIH AFRIL ARDIYANSYAH \",\" MOH CHOIRUL FALAH \",\" MOH. ARYA FAHTUREZI \",\" MOHAMMAD DHARONI \",\" MOHAMMAD DZULFIKRI YAZID \",\" MOHAMMAD ILHAM RAFIKI \",\" MOHAMMAD MUFTI FIRMANSYAH \",\" MUHAMAD ADAM ZAMZAMI \",\" MUHAMMAD ARI PUTRA ANANDA \",\" MUHAMMAD RAFID FADHILAH \",\" MUHAMMAD RIDHO PRASETYO \",\" MUHAMMAD SYAIFUDIN MARUF \",\" MUHAMMAD TAUFIK HIDAYAT \",\" MUHAMMAD YUSRON IRHAMNI \",\" MUHAMMAD ZUHDA MUSYAFFA \",\" MUHAMMAD ZUKHRUF ARIYAFANNI \",\" NAMIRA LANGIT DHIYA'ULHIKMA NASHRULLAH \",\" NANDA PRAYOGA \",\" NUR ROSYIID HENDRA SAPUTRA \",\" PRADIKA ALANSYAH \",\" PRAYOGO BUDI LAKSONO \",\" RADITYA FAJAR ABIMANYU \",\" RAHMAT AZIS NUGROHO \",\" RAMADHAN ADI SATRIA \",\" RAMANIDITYO MUSTOFA \",\" REGA ALVINO CAHYA \",\" REHAN BAGAS ARDEVA \",\" REHAN PUTRA PEMBAJENG \"],\"y\":[179,150,169,161,160,177,168,160,156,168,171,169,170,163,170,175,161,156,167,160,160,172,167,159,167,167,172,169,156,165,175,170,165,173,167,160],\"type\":\"scatter\",\"xaxis\":\"x\",\"yaxis\":\"y\"},{\"name\":\"Semester 2\",\"x\":[\" JAYADI DWI HANDOYO \",\" JOVAN HENDI WIJAYA \",\" KHABIB \",\" KHOIRUL MUCHLISIN \",\" KRISNA AJI PERMADI \",\" KRISNA FAIZALDHI HIDAYAT \",\" MICO DWI SAPUTRO \",\" MOCH FATJAR SUBKHAN \",\" MOCH. ALIH AFRIL ARDIYANSYAH \",\" MOH CHOIRUL FALAH \",\" MOH. ARYA FAHTUREZI \",\" MOHAMMAD DHARONI \",\" MOHAMMAD DZULFIKRI YAZID \",\" MOHAMMAD ILHAM RAFIKI \",\" MOHAMMAD MUFTI FIRMANSYAH \",\" MUHAMAD ADAM ZAMZAMI \",\" MUHAMMAD ARI PUTRA ANANDA \",\" MUHAMMAD RAFID FADHILAH \",\" MUHAMMAD RIDHO PRASETYO \",\" MUHAMMAD SYAIFUDIN MARUF \",\" MUHAMMAD TAUFIK HIDAYAT \",\" MUHAMMAD YUSRON IRHAMNI \",\" MUHAMMAD ZUHDA MUSYAFFA \",\" MUHAMMAD ZUKHRUF ARIYAFANNI \",\" NAMIRA LANGIT DHIYA'ULHIKMA NASHRULLAH \",\" NANDA PRAYOGA \",\" NUR ROSYIID HENDRA SAPUTRA \",\" PRADIKA ALANSYAH \",\" PRAYOGO BUDI LAKSONO \",\" RADITYA FAJAR ABIMANYU \",\" RAHMAT AZIS NUGROHO \",\" RAMADHAN ADI SATRIA \",\" RAMANIDITYO MUSTOFA \",\" REGA ALVINO CAHYA \",\" REHAN BAGAS ARDEVA \",\" REHAN PUTRA PEMBAJENG \"],\"y\":[178,166,168,169,165,177,170,163,166,171,176,168,166,164,165,175,170,159,165,169,166,175,168,164,167,166,177,165,166,161,173,163,167,172,168,168],\"type\":\"scatter\",\"xaxis\":\"x\",\"yaxis\":\"y2\"}],                        {\"template\":{\"data\":{\"bar\":[{\"error_x\":{\"color\":\"#2a3f5f\"},\"error_y\":{\"color\":\"#2a3f5f\"},\"marker\":{\"line\":{\"color\":\"#E5ECF6\",\"width\":0.5},\"pattern\":{\"fillmode\":\"overlay\",\"size\":10,\"solidity\":0.2}},\"type\":\"bar\"}],\"barpolar\":[{\"marker\":{\"line\":{\"color\":\"#E5ECF6\",\"width\":0.5},\"pattern\":{\"fillmode\":\"overlay\",\"size\":10,\"solidity\":0.2}},\"type\":\"barpolar\"}],\"carpet\":[{\"aaxis\":{\"endlinecolor\":\"#2a3f5f\",\"gridcolor\":\"white\",\"linecolor\":\"white\",\"minorgridcolor\":\"white\",\"startlinecolor\":\"#2a3f5f\"},\"baxis\":{\"endlinecolor\":\"#2a3f5f\",\"gridcolor\":\"white\",\"linecolor\":\"white\",\"minorgridcolor\":\"white\",\"startlinecolor\":\"#2a3f5f\"},\"type\":\"carpet\"}],\"choropleth\":[{\"colorbar\":{\"outlinewidth\":0,\"ticks\":\"\"},\"type\":\"choropleth\"}],\"contour\":[{\"colorbar\":{\"outlinewidth\":0,\"ticks\":\"\"},\"colorscale\":[[0.0,\"#0d0887\"],[0.1111111111111111,\"#46039f\"],[0.2222222222222222,\"#7201a8\"],[0.3333333333333333,\"#9c179e\"],[0.4444444444444444,\"#bd3786\"],[0.5555555555555556,\"#d8576b\"],[0.6666666666666666,\"#ed7953\"],[0.7777777777777778,\"#fb9f3a\"],[0.8888888888888888,\"#fdca26\"],[1.0,\"#f0f921\"]],\"type\":\"contour\"}],\"contourcarpet\":[{\"colorbar\":{\"outlinewidth\":0,\"ticks\":\"\"},\"type\":\"contourcarpet\"}],\"heatmap\":[{\"colorbar\":{\"outlinewidth\":0,\"ticks\":\"\"},\"colorscale\":[[0.0,\"#0d0887\"],[0.1111111111111111,\"#46039f\"],[0.2222222222222222,\"#7201a8\"],[0.3333333333333333,\"#9c179e\"],[0.4444444444444444,\"#bd3786\"],[0.5555555555555556,\"#d8576b\"],[0.6666666666666666,\"#ed7953\"],[0.7777777777777778,\"#fb9f3a\"],[0.8888888888888888,\"#fdca26\"],[1.0,\"#f0f921\"]],\"type\":\"heatmap\"}],\"heatmapgl\":[{\"colorbar\":{\"outlinewidth\":0,\"ticks\":\"\"},\"colorscale\":[[0.0,\"#0d0887\"],[0.1111111111111111,\"#46039f\"],[0.2222222222222222,\"#7201a8\"],[0.3333333333333333,\"#9c179e\"],[0.4444444444444444,\"#bd3786\"],[0.5555555555555556,\"#d8576b\"],[0.6666666666666666,\"#ed7953\"],[0.7777777777777778,\"#fb9f3a\"],[0.8888888888888888,\"#fdca26\"],[1.0,\"#f0f921\"]],\"type\":\"heatmapgl\"}],\"histogram\":[{\"marker\":{\"pattern\":{\"fillmode\":\"overlay\",\"size\":10,\"solidity\":0.2}},\"type\":\"histogram\"}],\"histogram2d\":[{\"colorbar\":{\"outlinewidth\":0,\"ticks\":\"\"},\"colorscale\":[[0.0,\"#0d0887\"],[0.1111111111111111,\"#46039f\"],[0.2222222222222222,\"#7201a8\"],[0.3333333333333333,\"#9c179e\"],[0.4444444444444444,\"#bd3786\"],[0.5555555555555556,\"#d8576b\"],[0.6666666666666666,\"#ed7953\"],[0.7777777777777778,\"#fb9f3a\"],[0.8888888888888888,\"#fdca26\"],[1.0,\"#f0f921\"]],\"type\":\"histogram2d\"}],\"histogram2dcontour\":[{\"colorbar\":{\"outlinewidth\":0,\"ticks\":\"\"},\"colorscale\":[[0.0,\"#0d0887\"],[0.1111111111111111,\"#46039f\"],[0.2222222222222222,\"#7201a8\"],[0.3333333333333333,\"#9c179e\"],[0.4444444444444444,\"#bd3786\"],[0.5555555555555556,\"#d8576b\"],[0.6666666666666666,\"#ed7953\"],[0.7777777777777778,\"#fb9f3a\"],[0.8888888888888888,\"#fdca26\"],[1.0,\"#f0f921\"]],\"type\":\"histogram2dcontour\"}],\"mesh3d\":[{\"colorbar\":{\"outlinewidth\":0,\"ticks\":\"\"},\"type\":\"mesh3d\"}],\"parcoords\":[{\"line\":{\"colorbar\":{\"outlinewidth\":0,\"ticks\":\"\"}},\"type\":\"parcoords\"}],\"pie\":[{\"automargin\":true,\"type\":\"pie\"}],\"scatter\":[{\"marker\":{\"colorbar\":{\"outlinewidth\":0,\"ticks\":\"\"}},\"type\":\"scatter\"}],\"scatter3d\":[{\"line\":{\"colorbar\":{\"outlinewidth\":0,\"ticks\":\"\"}},\"marker\":{\"colorbar\":{\"outlinewidth\":0,\"ticks\":\"\"}},\"type\":\"scatter3d\"}],\"scattercarpet\":[{\"marker\":{\"colorbar\":{\"outlinewidth\":0,\"ticks\":\"\"}},\"type\":\"scattercarpet\"}],\"scattergeo\":[{\"marker\":{\"colorbar\":{\"outlinewidth\":0,\"ticks\":\"\"}},\"type\":\"scattergeo\"}],\"scattergl\":[{\"marker\":{\"colorbar\":{\"outlinewidth\":0,\"ticks\":\"\"}},\"type\":\"scattergl\"}],\"scattermapbox\":[{\"marker\":{\"colorbar\":{\"outlinewidth\":0,\"ticks\":\"\"}},\"type\":\"scattermapbox\"}],\"scatterpolar\":[{\"marker\":{\"colorbar\":{\"outlinewidth\":0,\"ticks\":\"\"}},\"type\":\"scatterpolar\"}],\"scatterpolargl\":[{\"marker\":{\"colorbar\":{\"outlinewidth\":0,\"ticks\":\"\"}},\"type\":\"scatterpolargl\"}],\"scatterternary\":[{\"marker\":{\"colorbar\":{\"outlinewidth\":0,\"ticks\":\"\"}},\"type\":\"scatterternary\"}],\"surface\":[{\"colorbar\":{\"outlinewidth\":0,\"ticks\":\"\"},\"colorscale\":[[0.0,\"#0d0887\"],[0.1111111111111111,\"#46039f\"],[0.2222222222222222,\"#7201a8\"],[0.3333333333333333,\"#9c179e\"],[0.4444444444444444,\"#bd3786\"],[0.5555555555555556,\"#d8576b\"],[0.6666666666666666,\"#ed7953\"],[0.7777777777777778,\"#fb9f3a\"],[0.8888888888888888,\"#fdca26\"],[1.0,\"#f0f921\"]],\"type\":\"surface\"}],\"table\":[{\"cells\":{\"fill\":{\"color\":\"#EBF0F8\"},\"line\":{\"color\":\"white\"}},\"header\":{\"fill\":{\"color\":\"#C8D4E3\"},\"line\":{\"color\":\"white\"}},\"type\":\"table\"}]},\"layout\":{\"annotationdefaults\":{\"arrowcolor\":\"#2a3f5f\",\"arrowhead\":0,\"arrowwidth\":1},\"autotypenumbers\":\"strict\",\"coloraxis\":{\"colorbar\":{\"outlinewidth\":0,\"ticks\":\"\"}},\"colorscale\":{\"diverging\":[[0,\"#8e0152\"],[0.1,\"#c51b7d\"],[0.2,\"#de77ae\"],[0.3,\"#f1b6da\"],[0.4,\"#fde0ef\"],[0.5,\"#f7f7f7\"],[0.6,\"#e6f5d0\"],[0.7,\"#b8e186\"],[0.8,\"#7fbc41\"],[0.9,\"#4d9221\"],[1,\"#276419\"]],\"sequential\":[[0.0,\"#0d0887\"],[0.1111111111111111,\"#46039f\"],[0.2222222222222222,\"#7201a8\"],[0.3333333333333333,\"#9c179e\"],[0.4444444444444444,\"#bd3786\"],[0.5555555555555556,\"#d8576b\"],[0.6666666666666666,\"#ed7953\"],[0.7777777777777778,\"#fb9f3a\"],[0.8888888888888888,\"#fdca26\"],[1.0,\"#f0f921\"]],\"sequentialminus\":[[0.0,\"#0d0887\"],[0.1111111111111111,\"#46039f\"],[0.2222222222222222,\"#7201a8\"],[0.3333333333333333,\"#9c179e\"],[0.4444444444444444,\"#bd3786\"],[0.5555555555555556,\"#d8576b\"],[0.6666666666666666,\"#ed7953\"],[0.7777777777777778,\"#fb9f3a\"],[0.8888888888888888,\"#fdca26\"],[1.0,\"#f0f921\"]]},\"colorway\":[\"#636efa\",\"#EF553B\",\"#00cc96\",\"#ab63fa\",\"#FFA15A\",\"#19d3f3\",\"#FF6692\",\"#B6E880\",\"#FF97FF\",\"#FECB52\"],\"font\":{\"color\":\"#2a3f5f\"},\"geo\":{\"bgcolor\":\"white\",\"lakecolor\":\"white\",\"landcolor\":\"#E5ECF6\",\"showlakes\":true,\"showland\":true,\"subunitcolor\":\"white\"},\"hoverlabel\":{\"align\":\"left\"},\"hovermode\":\"closest\",\"mapbox\":{\"style\":\"light\"},\"paper_bgcolor\":\"white\",\"plot_bgcolor\":\"#E5ECF6\",\"polar\":{\"angularaxis\":{\"gridcolor\":\"white\",\"linecolor\":\"white\",\"ticks\":\"\"},\"bgcolor\":\"#E5ECF6\",\"radialaxis\":{\"gridcolor\":\"white\",\"linecolor\":\"white\",\"ticks\":\"\"}},\"scene\":{\"xaxis\":{\"backgroundcolor\":\"#E5ECF6\",\"gridcolor\":\"white\",\"gridwidth\":2,\"linecolor\":\"white\",\"showbackground\":true,\"ticks\":\"\",\"zerolinecolor\":\"white\"},\"yaxis\":{\"backgroundcolor\":\"#E5ECF6\",\"gridcolor\":\"white\",\"gridwidth\":2,\"linecolor\":\"white\",\"showbackground\":true,\"ticks\":\"\",\"zerolinecolor\":\"white\"},\"zaxis\":{\"backgroundcolor\":\"#E5ECF6\",\"gridcolor\":\"white\",\"gridwidth\":2,\"linecolor\":\"white\",\"showbackground\":true,\"ticks\":\"\",\"zerolinecolor\":\"white\"}},\"shapedefaults\":{\"line\":{\"color\":\"#2a3f5f\"}},\"ternary\":{\"aaxis\":{\"gridcolor\":\"white\",\"linecolor\":\"white\",\"ticks\":\"\"},\"baxis\":{\"gridcolor\":\"white\",\"linecolor\":\"white\",\"ticks\":\"\"},\"bgcolor\":\"#E5ECF6\",\"caxis\":{\"gridcolor\":\"white\",\"linecolor\":\"white\",\"ticks\":\"\"}},\"title\":{\"x\":0.05},\"xaxis\":{\"automargin\":true,\"gridcolor\":\"white\",\"linecolor\":\"white\",\"ticks\":\"\",\"title\":{\"standoff\":15},\"zerolinecolor\":\"white\",\"zerolinewidth\":2},\"yaxis\":{\"automargin\":true,\"gridcolor\":\"white\",\"linecolor\":\"white\",\"ticks\":\"\",\"title\":{\"standoff\":15},\"zerolinecolor\":\"white\",\"zerolinewidth\":2}}},\"xaxis\":{\"anchor\":\"y\",\"domain\":[0.0,0.94]},\"yaxis\":{\"anchor\":\"x\",\"domain\":[0.0,1.0],\"title\":{\"text\":\"Nilai Semester 1\"}},\"yaxis2\":{\"anchor\":\"x\",\"overlaying\":\"y\",\"side\":\"right\",\"title\":{\"text\":\"Nilai Semester 2\"}},\"title\":{\"text\":\"Jumlah Nilai PKN Keterampilan dan Penilaian TPM Semester 1\"},\"height\":650},                        {\"responsive\": true}                    ).then(function(){\n",
       "                            \n",
       "var gd = document.getElementById('0d8faa0f-87bf-4b15-8786-72661a9ae2d9');\n",
       "var x = new MutationObserver(function (mutations, observer) {{\n",
       "        var display = window.getComputedStyle(gd).display;\n",
       "        if (!display || display === 'none') {{\n",
       "            console.log([gd, 'removed!']);\n",
       "            Plotly.purge(gd);\n",
       "            observer.disconnect();\n",
       "        }}\n",
       "}});\n",
       "\n",
       "// Listen for the removal of the full notebook cells\n",
       "var notebookContainer = gd.closest('#notebook-container');\n",
       "if (notebookContainer) {{\n",
       "    x.observe(notebookContainer, {childList: true});\n",
       "}}\n",
       "\n",
       "// Listen for the clearing of the current output cell\n",
       "var outputEl = gd.closest('.output');\n",
       "if (outputEl) {{\n",
       "    x.observe(outputEl, {childList: true});\n",
       "}}\n",
       "\n",
       "                        })                };                });            </script>        </div>"
      ]
     },
     "metadata": {},
     "output_type": "display_data"
    }
   ],
   "source": [
    "import plotly.graph_objects as go\n",
    "from plotly.subplots import make_subplots\n",
    "# Create figure with secondary y-axis\n",
    "fig = make_subplots(specs=[[{\"secondary_y\": True}]])\n",
    "\n",
    "# Add traces\n",
    "fig.add_trace(\n",
    "    go.Scatter(x=tpmc1['Nama'], y=tpmc1[\"PKN K\"]+tpmc1[\"PKN P \"], name=\"Semester 1\",mode=\"lines+markers\"),\n",
    "    secondary_y=False\n",
    ")\n",
    "\n",
    "fig.add_trace(\n",
    "    go.Scatter(x=tpmc1['Nama'], y=tpmc2[\"PKN K\"]+tpmc2[\"PKN P \"], name=\"Semester 2\"),\n",
    "    secondary_y=True,\n",
    ")\n",
    "\n",
    "# Add figure title\n",
    "fig.update_layout(\n",
    "    title_text=\"Jumlah Nilai PKN Keterampilan dan Penilaian TPM Semester 1\"\n",
    ")\n",
    "\n",
    "\n",
    "# Set y-axes titles\n",
    "fig.update_yaxes(title_text=\"Nilai Semester 1\", secondary_y=False)\n",
    "fig.update_yaxes(title_text=\"Nilai Semester 2\", secondary_y=True)\n",
    "fig.update_layout(height=650)\n",
    "\n",
    "fig.show()"
   ]
  },
  {
   "cell_type": "markdown",
   "id": "46a9faeb-6b13-496e-a558-d8810b9677bf",
   "metadata": {},
   "source": [
    "**Dari grafik diatas bisa disimpulkan bahwa siswa bernama Jayadi selama 2 semester mendapatkan nilai paling tertinggi, \n",
    "Sedangkan nilai yang paling rendah yaitu Jovan dan Rafid dari semester 1 mendapatkan nilai paling rendah \n",
    "pada semester 2 meningkat tidak terlalu pesat**"
   ]
  },
  {
   "cell_type": "markdown",
   "id": "f67ab747-8b23-47ec-9e8c-be707583044e",
   "metadata": {},
   "source": [
    "## EDA\n",
    "**Menjumlahkan Nilai Ketrampilan dan Penilaian perMapel dalam satu variabel lalu mengambil Rata-Rata dari jumlah tersebut**\n",
    "- Semester 1"
   ]
  },
  {
   "cell_type": "code",
   "execution_count": 13,
   "id": "6a0d3c73-973b-4489-8571-fdab902db8c1",
   "metadata": {},
   "outputs": [],
   "source": [
    "agama = tpmc1[\"AGAMA K\"] + tpmc1[\"AGAMA P \"]\n",
    "pkn = tpmc1[\"PKN K\"] + tpmc1[\"PKN P \"]\n",
    "b_indo = tpmc1[\"B. Indo K\"] + tpmc1[\"B. Indo P \"]\n",
    "mtk = tpmc1[\"Matematika K\"] + tpmc1[\"Matematika P \"]\n",
    "sejarah = tpmc1[\"Sejarah K\"] + tpmc1[\"Sejarah P \"]\n",
    "bing = tpmc1[\"B. Inggris K\"] + tpmc1[\"B. Inggris P \"]\n",
    "seni = tpmc1[\"Seni Budaya K\"] + tpmc1[\"Seni Budaya P \"]\n",
    "pjok = tpmc1[\"PJOK K\"] + tpmc1[\"PJOK P \"]\n",
    "b_jawa = tpmc1[\"B. Jawa K\"] + tpmc1[\"B. Jawa P \"]\n",
    "simdig = tpmc1[\"Simulasi dan Komunikasi Digital K\"] + tpmc1[\"Simulasi dan Komunikasi Digital P \"]\n",
    "fisika = tpmc1[\"Fisika K\"] + tpmc1[\"Fisika P \"]\n",
    "kimia = tpmc1[\"Kimia K\"] + tpmc1[\"Kimia P \"]\n",
    "gtm = tpmc1[\"Gambar Teknik Mesin K\"] + tpmc1[\"Gambar Teknik Mesin P \"]\n",
    "pdkm= tpmc1[\"Pekerjaan Dasar Teknik Mesin K\"] + tpmc1[\"Pekerjaan Dasar Teknik Mesin P \"]\n",
    "dptm = tpmc1[\"Dasar Perencanaan Teknik Mesin K\"] + tpmc1[\"Dasar Perencanaan Teknik Mesin P \"]\n",
    "\n",
    "agama =agama.mean()\n",
    "pkn =pkn.mean()\n",
    "b_indo =b_indo.mean()\n",
    "mtk =mtk.mean()\n",
    "sejarah =sejarah.mean()\n",
    "bing =bing.mean()\n",
    "seni =seni.mean()\n",
    "pjok =pjok.mean()\n",
    "b_jawa =b_jawa.mean()\n",
    "simdig =simdig.mean()\n",
    "fisika =fisika.mean()\n",
    "kimia =kimia.mean()\n",
    "gtm =gtm.mean()\n",
    "pdkm =pdkm.mean()\n",
    "dptm =dptm.mean()\n"
   ]
  },
  {
   "cell_type": "markdown",
   "id": "4755cf76-5a65-40a4-8ac2-96abc39e7cc9",
   "metadata": {},
   "source": [
    "- Semester 2"
   ]
  },
  {
   "cell_type": "code",
   "execution_count": 6,
   "id": "c6711317-b7aa-419e-bcb1-788c048c50fc",
   "metadata": {},
   "outputs": [],
   "source": [
    "agama_2 = tpmc2[\"AGAMA K\"] + tpmc2[\"AGAMA P \"]\n",
    "pkn_2 = tpmc2[\"PKN K\"] + tpmc2[\"PKN P \"]\n",
    "b_indo_2 = tpmc2[\"B. Indo K\"] + tpmc2[\"B. Indo P \"]\n",
    "mtk_2 = tpmc2[\"Matematika K\"] + tpmc2[\"Matematika P \"]\n",
    "sejarah_2 = tpmc2[\"Sejarah K\"] + tpmc2[\"Sejarah P \"]\n",
    "bing_2 = tpmc2[\"B. Inggris K\"] + tpmc2[\"B. Inggris P \"]\n",
    "seni_2 = tpmc2[\"Seni Budaya K\"] + tpmc2[\"Seni Budaya P \"]\n",
    "pjok_2 = tpmc2[\"PJOK K\"] + tpmc2[\"PJOK P \"]\n",
    "b_jawa_2 = tpmc2[\"B. Jawa K\"] + tpmc2[\"B. Jawa P \"]\n",
    "simdig_2 = tpmc2[\"Simulasi dan Komunikasi Digital K\"] + tpmc2[\"Simulasi dan Komunikasi Digital P \"]\n",
    "fisika_2 = tpmc2[\"Fisika K\"] + tpmc2[\"Fisika P \"]\n",
    "kimia_2 = tpmc2[\"Kimia K\"] + tpmc2[\"Kimia P \"]\n",
    "gtm_2 = tpmc2[\"Gambar Teknik Mesin K\"] + tpmc2[\"Gambar Teknik Mesin P \"]\n",
    "pdkm_2= tpmc2[\"Pekerjaan Dasar Teknik Mesin K\"] + tpmc2[\"Pekerjaan Dasar Teknik Mesin P \"]\n",
    "dptm_2 = tpmc2[\"Dasar Perencanaan Teknik Mesin K\"] + tpmc2[\"Dasar Perencanaan Teknik Mesin P \"]\n",
    "\n",
    "agama_2 =agama_2.mean()\n",
    "pkn_2 =pkn_2.mean()\n",
    "b_indo_2 =b_indo_2.mean()\n",
    "mtk_2 =mtk_2.mean()\n",
    "sejarah_2 =sejarah_2.mean()\n",
    "bing_2 =bing_2.mean()\n",
    "seni_2 =seni_2.mean()\n",
    "pjok_2 =pjok_2.mean()\n",
    "b_jawa_2 =b_jawa_2.mean()\n",
    "simdig_2 =simdig_2.mean()\n",
    "fisika_2 =fisika_2.mean()\n",
    "kimia_2 =kimia_2.mean()\n",
    "gtm_2 =gtm_2.mean()\n",
    "pdkm_2 =pdkm_2.mean()\n",
    "dptm_2 =dptm_2.mean()\n"
   ]
  },
  {
   "cell_type": "markdown",
   "id": "f3220cb3-780d-4aac-8902-8ff7eb48ad74",
   "metadata": {},
   "source": [
    "**Membuat Dataframe dari Nilai Rata-Rata yang sudah dijumlahkan**\n",
    "- Semester 1"
   ]
  },
  {
   "cell_type": "code",
   "execution_count": 16,
   "id": "026ca389-74f4-441a-9cf3-22dc47a65b2f",
   "metadata": {},
   "outputs": [
    {
     "data": {
      "text/html": [
       "<div>\n",
       "<style scoped>\n",
       "    .dataframe tbody tr th:only-of-type {\n",
       "        vertical-align: middle;\n",
       "    }\n",
       "\n",
       "    .dataframe tbody tr th {\n",
       "        vertical-align: top;\n",
       "    }\n",
       "\n",
       "    .dataframe thead th {\n",
       "        text-align: right;\n",
       "    }\n",
       "</style>\n",
       "<table border=\"1\" class=\"dataframe\">\n",
       "  <thead>\n",
       "    <tr style=\"text-align: right;\">\n",
       "      <th></th>\n",
       "      <th>Mapel</th>\n",
       "      <th>Nilai Rata-Rata</th>\n",
       "    </tr>\n",
       "  </thead>\n",
       "  <tbody>\n",
       "    <tr>\n",
       "      <th>0</th>\n",
       "      <td>Agama</td>\n",
       "      <td>171.03</td>\n",
       "    </tr>\n",
       "    <tr>\n",
       "      <th>1</th>\n",
       "      <td>PKN</td>\n",
       "      <td>165.94</td>\n",
       "    </tr>\n",
       "    <tr>\n",
       "      <th>2</th>\n",
       "      <td>B. Indo</td>\n",
       "      <td>167.94</td>\n",
       "    </tr>\n",
       "    <tr>\n",
       "      <th>3</th>\n",
       "      <td>Matematika</td>\n",
       "      <td>157.50</td>\n",
       "    </tr>\n",
       "    <tr>\n",
       "      <th>4</th>\n",
       "      <td>Sejarah</td>\n",
       "      <td>161.86</td>\n",
       "    </tr>\n",
       "    <tr>\n",
       "      <th>5</th>\n",
       "      <td>B. Inggris</td>\n",
       "      <td>147.92</td>\n",
       "    </tr>\n",
       "    <tr>\n",
       "      <th>6</th>\n",
       "      <td>Kesenian</td>\n",
       "      <td>166.47</td>\n",
       "    </tr>\n",
       "    <tr>\n",
       "      <th>7</th>\n",
       "      <td>PJOK</td>\n",
       "      <td>164.33</td>\n",
       "    </tr>\n",
       "    <tr>\n",
       "      <th>8</th>\n",
       "      <td>B. Daerah</td>\n",
       "      <td>161.83</td>\n",
       "    </tr>\n",
       "    <tr>\n",
       "      <th>9</th>\n",
       "      <td>Simdig</td>\n",
       "      <td>162.58</td>\n",
       "    </tr>\n",
       "    <tr>\n",
       "      <th>10</th>\n",
       "      <td>Fisika</td>\n",
       "      <td>154.56</td>\n",
       "    </tr>\n",
       "    <tr>\n",
       "      <th>11</th>\n",
       "      <td>Kimia</td>\n",
       "      <td>153.58</td>\n",
       "    </tr>\n",
       "    <tr>\n",
       "      <th>12</th>\n",
       "      <td>Gambar TM</td>\n",
       "      <td>148.89</td>\n",
       "    </tr>\n",
       "    <tr>\n",
       "      <th>13</th>\n",
       "      <td>Pekerjaan Dasar TM</td>\n",
       "      <td>152.83</td>\n",
       "    </tr>\n",
       "    <tr>\n",
       "      <th>14</th>\n",
       "      <td>Dasar Perencanaan TM</td>\n",
       "      <td>157.08</td>\n",
       "    </tr>\n",
       "  </tbody>\n",
       "</table>\n",
       "</div>"
      ],
      "text/plain": [
       "                   Mapel  Nilai Rata-Rata\n",
       "0                  Agama           171.03\n",
       "1                    PKN           165.94\n",
       "2                B. Indo           167.94\n",
       "3             Matematika           157.50\n",
       "4                Sejarah           161.86\n",
       "5             B. Inggris           147.92\n",
       "6               Kesenian           166.47\n",
       "7                   PJOK           164.33\n",
       "8              B. Daerah           161.83\n",
       "9                 Simdig           162.58\n",
       "10                Fisika           154.56\n",
       "11                 Kimia           153.58\n",
       "12             Gambar TM           148.89\n",
       "13    Pekerjaan Dasar TM           152.83\n",
       "14  Dasar Perencanaan TM           157.08"
      ]
     },
     "execution_count": 16,
     "metadata": {},
     "output_type": "execute_result"
    }
   ],
   "source": [
    "r_tpmc1 = pd.DataFrame(\n",
    "    {\n",
    "        \"Mapel\": [\"Agama\", \"PKN\",\"B. Indo\",\"Matematika\",\"Sejarah\",\"B. Inggris\",\"Kesenian\",\"PJOK\",\"B. Daerah\",\"Simdig\",\"Fisika\",\"Kimia\",\"Gambar TM\",\"Pekerjaan Dasar TM\",\"Dasar Perencanaan TM\"],\n",
    "        \"Nilai Rata-Rata\": [agama,pkn,b_indo,mtk,sejarah,bing,seni,pjok,b_jawa,simdig,fisika,kimia,gtm,pdkm,dptm],\n",
    "    },\n",
    "    index=[0,1,2,3,4,5,6,7,8,9,10,11,12,13,14],\n",
    ")\n",
    "r_tpmc1\n",
    "r_tpmc1.round(2)"
   ]
  },
  {
   "cell_type": "markdown",
   "id": "c2c915a8-66f3-43cb-8cde-25ce8e1e9a46",
   "metadata": {},
   "source": [
    "- Semester 2"
   ]
  },
  {
   "cell_type": "code",
   "execution_count": 8,
   "id": "f687718e-ac36-4518-8570-33f2b1f3d775",
   "metadata": {},
   "outputs": [
    {
     "data": {
      "text/html": [
       "<div>\n",
       "<style scoped>\n",
       "    .dataframe tbody tr th:only-of-type {\n",
       "        vertical-align: middle;\n",
       "    }\n",
       "\n",
       "    .dataframe tbody tr th {\n",
       "        vertical-align: top;\n",
       "    }\n",
       "\n",
       "    .dataframe thead th {\n",
       "        text-align: right;\n",
       "    }\n",
       "</style>\n",
       "<table border=\"1\" class=\"dataframe\">\n",
       "  <thead>\n",
       "    <tr style=\"text-align: right;\">\n",
       "      <th></th>\n",
       "      <th>Mapel</th>\n",
       "      <th>Nilai Rata-Rata</th>\n",
       "    </tr>\n",
       "  </thead>\n",
       "  <tbody>\n",
       "    <tr>\n",
       "      <th>0</th>\n",
       "      <td>Agama</td>\n",
       "      <td>170.67</td>\n",
       "    </tr>\n",
       "    <tr>\n",
       "      <th>1</th>\n",
       "      <td>PKN</td>\n",
       "      <td>168.22</td>\n",
       "    </tr>\n",
       "    <tr>\n",
       "      <th>2</th>\n",
       "      <td>B. Indo</td>\n",
       "      <td>172.00</td>\n",
       "    </tr>\n",
       "    <tr>\n",
       "      <th>3</th>\n",
       "      <td>Matematika</td>\n",
       "      <td>161.44</td>\n",
       "    </tr>\n",
       "    <tr>\n",
       "      <th>4</th>\n",
       "      <td>Sejarah</td>\n",
       "      <td>167.67</td>\n",
       "    </tr>\n",
       "    <tr>\n",
       "      <th>5</th>\n",
       "      <td>B. Inggris</td>\n",
       "      <td>160.75</td>\n",
       "    </tr>\n",
       "    <tr>\n",
       "      <th>6</th>\n",
       "      <td>Kesenian</td>\n",
       "      <td>173.19</td>\n",
       "    </tr>\n",
       "    <tr>\n",
       "      <th>7</th>\n",
       "      <td>PJOK</td>\n",
       "      <td>167.08</td>\n",
       "    </tr>\n",
       "    <tr>\n",
       "      <th>8</th>\n",
       "      <td>B. Daerah</td>\n",
       "      <td>165.19</td>\n",
       "    </tr>\n",
       "    <tr>\n",
       "      <th>9</th>\n",
       "      <td>Simdig</td>\n",
       "      <td>169.06</td>\n",
       "    </tr>\n",
       "    <tr>\n",
       "      <th>10</th>\n",
       "      <td>Fisika</td>\n",
       "      <td>162.53</td>\n",
       "    </tr>\n",
       "    <tr>\n",
       "      <th>11</th>\n",
       "      <td>Kimia</td>\n",
       "      <td>157.56</td>\n",
       "    </tr>\n",
       "    <tr>\n",
       "      <th>12</th>\n",
       "      <td>Gambar TM</td>\n",
       "      <td>165.83</td>\n",
       "    </tr>\n",
       "    <tr>\n",
       "      <th>13</th>\n",
       "      <td>Pekerjaan Dasar TM</td>\n",
       "      <td>169.56</td>\n",
       "    </tr>\n",
       "    <tr>\n",
       "      <th>14</th>\n",
       "      <td>Dasar Perencanaan TM</td>\n",
       "      <td>162.17</td>\n",
       "    </tr>\n",
       "  </tbody>\n",
       "</table>\n",
       "</div>"
      ],
      "text/plain": [
       "                   Mapel  Nilai Rata-Rata\n",
       "0                  Agama           170.67\n",
       "1                    PKN           168.22\n",
       "2                B. Indo           172.00\n",
       "3             Matematika           161.44\n",
       "4                Sejarah           167.67\n",
       "5             B. Inggris           160.75\n",
       "6               Kesenian           173.19\n",
       "7                   PJOK           167.08\n",
       "8              B. Daerah           165.19\n",
       "9                 Simdig           169.06\n",
       "10                Fisika           162.53\n",
       "11                 Kimia           157.56\n",
       "12             Gambar TM           165.83\n",
       "13    Pekerjaan Dasar TM           169.56\n",
       "14  Dasar Perencanaan TM           162.17"
      ]
     },
     "execution_count": 8,
     "metadata": {},
     "output_type": "execute_result"
    }
   ],
   "source": [
    "r_tpmc2 = pd.DataFrame(\n",
    "    {\n",
    "        \"Mapel\": [\"Agama\", \"PKN\",\"B. Indo\",\"Matematika\",\"Sejarah\",\"B. Inggris\",\"Kesenian\",\"PJOK\",\"B. Daerah\",\"Simdig\",\"Fisika\",\"Kimia\",\"Gambar TM\",\"Pekerjaan Dasar TM\",\"Dasar Perencanaan TM\"],\n",
    "        \"Nilai Rata-Rata\": [agama_2,pkn_2,b_indo_2,mtk_2,sejarah_2,bing_2,seni_2,pjok_2,b_jawa_2,simdig_2,fisika_2,kimia_2,gtm_2,pdkm_2,dptm_2],\n",
    "    },\n",
    "    index=[0,1,2,3,4,5,6,7,8,9,10,11,12,13,14],\n",
    ")\n",
    "r_tpmc2.round(2)"
   ]
  },
  {
   "cell_type": "code",
   "execution_count": 9,
   "id": "406497bd-34f7-43b3-bd9c-7eb3f1cccb22",
   "metadata": {},
   "outputs": [
    {
     "data": {
      "application/vnd.plotly.v1+json": {
       "config": {
        "plotlyServerURL": "https://plot.ly"
       },
       "data": [
        {
         "marker": {
          "color": "rgba(246, 78, 139, 0.6)",
          "line": {
           "color": "rgba(246, 78, 139, 1.0)",
           "width": 2
          }
         },
         "mode": "lines+markers",
         "name": "Semester 1",
         "type": "scatter",
         "x": [
          "Agama",
          "PKN",
          "B. Indo",
          "Matematika",
          "Sejarah",
          "B. Inggris",
          "Kesenian",
          "PJOK",
          "B. Daerah",
          "Simdig",
          "Fisika",
          "Kimia",
          "Gambar TM",
          "Pekerjaan Dasar TM",
          "Dasar Perencanaan TM"
         ],
         "y": [
          171.03,
          165.94,
          167.94,
          157.5,
          161.86,
          147.92,
          166.47,
          164.33,
          161.83,
          162.58,
          154.56,
          153.58,
          148.89,
          152.83,
          157.08
         ]
        },
        {
         "marker": {
          "color": "rgba(58, 71, 80, 0.6)",
          "line": {
           "color": "rgba(58, 71, 80, 1.0)",
           "width": 2
          }
         },
         "mode": "lines",
         "name": "Semester 2",
         "type": "scatter",
         "x": [
          "Agama",
          "PKN",
          "B. Indo",
          "Matematika",
          "Sejarah",
          "B. Inggris",
          "Kesenian",
          "PJOK",
          "B. Daerah",
          "Simdig",
          "Fisika",
          "Kimia",
          "Gambar TM",
          "Pekerjaan Dasar TM",
          "Dasar Perencanaan TM"
         ],
         "y": [
          170.67,
          168.22,
          172,
          161.44,
          167.67,
          160.75,
          173.19,
          167.08,
          165.19,
          169.06,
          162.53,
          157.56,
          165.83,
          169.56,
          162.17
         ]
        }
       ],
       "layout": {
        "height": 500,
        "legend": {
         "title": {
          "text": "Semester"
         }
        },
        "template": {
         "data": {
          "bar": [
           {
            "error_x": {
             "color": "#2a3f5f"
            },
            "error_y": {
             "color": "#2a3f5f"
            },
            "marker": {
             "line": {
              "color": "#E5ECF6",
              "width": 0.5
             },
             "pattern": {
              "fillmode": "overlay",
              "size": 10,
              "solidity": 0.2
             }
            },
            "type": "bar"
           }
          ],
          "barpolar": [
           {
            "marker": {
             "line": {
              "color": "#E5ECF6",
              "width": 0.5
             },
             "pattern": {
              "fillmode": "overlay",
              "size": 10,
              "solidity": 0.2
             }
            },
            "type": "barpolar"
           }
          ],
          "carpet": [
           {
            "aaxis": {
             "endlinecolor": "#2a3f5f",
             "gridcolor": "white",
             "linecolor": "white",
             "minorgridcolor": "white",
             "startlinecolor": "#2a3f5f"
            },
            "baxis": {
             "endlinecolor": "#2a3f5f",
             "gridcolor": "white",
             "linecolor": "white",
             "minorgridcolor": "white",
             "startlinecolor": "#2a3f5f"
            },
            "type": "carpet"
           }
          ],
          "choropleth": [
           {
            "colorbar": {
             "outlinewidth": 0,
             "ticks": ""
            },
            "type": "choropleth"
           }
          ],
          "contour": [
           {
            "colorbar": {
             "outlinewidth": 0,
             "ticks": ""
            },
            "colorscale": [
             [
              0,
              "#0d0887"
             ],
             [
              0.1111111111111111,
              "#46039f"
             ],
             [
              0.2222222222222222,
              "#7201a8"
             ],
             [
              0.3333333333333333,
              "#9c179e"
             ],
             [
              0.4444444444444444,
              "#bd3786"
             ],
             [
              0.5555555555555556,
              "#d8576b"
             ],
             [
              0.6666666666666666,
              "#ed7953"
             ],
             [
              0.7777777777777778,
              "#fb9f3a"
             ],
             [
              0.8888888888888888,
              "#fdca26"
             ],
             [
              1,
              "#f0f921"
             ]
            ],
            "type": "contour"
           }
          ],
          "contourcarpet": [
           {
            "colorbar": {
             "outlinewidth": 0,
             "ticks": ""
            },
            "type": "contourcarpet"
           }
          ],
          "heatmap": [
           {
            "colorbar": {
             "outlinewidth": 0,
             "ticks": ""
            },
            "colorscale": [
             [
              0,
              "#0d0887"
             ],
             [
              0.1111111111111111,
              "#46039f"
             ],
             [
              0.2222222222222222,
              "#7201a8"
             ],
             [
              0.3333333333333333,
              "#9c179e"
             ],
             [
              0.4444444444444444,
              "#bd3786"
             ],
             [
              0.5555555555555556,
              "#d8576b"
             ],
             [
              0.6666666666666666,
              "#ed7953"
             ],
             [
              0.7777777777777778,
              "#fb9f3a"
             ],
             [
              0.8888888888888888,
              "#fdca26"
             ],
             [
              1,
              "#f0f921"
             ]
            ],
            "type": "heatmap"
           }
          ],
          "heatmapgl": [
           {
            "colorbar": {
             "outlinewidth": 0,
             "ticks": ""
            },
            "colorscale": [
             [
              0,
              "#0d0887"
             ],
             [
              0.1111111111111111,
              "#46039f"
             ],
             [
              0.2222222222222222,
              "#7201a8"
             ],
             [
              0.3333333333333333,
              "#9c179e"
             ],
             [
              0.4444444444444444,
              "#bd3786"
             ],
             [
              0.5555555555555556,
              "#d8576b"
             ],
             [
              0.6666666666666666,
              "#ed7953"
             ],
             [
              0.7777777777777778,
              "#fb9f3a"
             ],
             [
              0.8888888888888888,
              "#fdca26"
             ],
             [
              1,
              "#f0f921"
             ]
            ],
            "type": "heatmapgl"
           }
          ],
          "histogram": [
           {
            "marker": {
             "pattern": {
              "fillmode": "overlay",
              "size": 10,
              "solidity": 0.2
             }
            },
            "type": "histogram"
           }
          ],
          "histogram2d": [
           {
            "colorbar": {
             "outlinewidth": 0,
             "ticks": ""
            },
            "colorscale": [
             [
              0,
              "#0d0887"
             ],
             [
              0.1111111111111111,
              "#46039f"
             ],
             [
              0.2222222222222222,
              "#7201a8"
             ],
             [
              0.3333333333333333,
              "#9c179e"
             ],
             [
              0.4444444444444444,
              "#bd3786"
             ],
             [
              0.5555555555555556,
              "#d8576b"
             ],
             [
              0.6666666666666666,
              "#ed7953"
             ],
             [
              0.7777777777777778,
              "#fb9f3a"
             ],
             [
              0.8888888888888888,
              "#fdca26"
             ],
             [
              1,
              "#f0f921"
             ]
            ],
            "type": "histogram2d"
           }
          ],
          "histogram2dcontour": [
           {
            "colorbar": {
             "outlinewidth": 0,
             "ticks": ""
            },
            "colorscale": [
             [
              0,
              "#0d0887"
             ],
             [
              0.1111111111111111,
              "#46039f"
             ],
             [
              0.2222222222222222,
              "#7201a8"
             ],
             [
              0.3333333333333333,
              "#9c179e"
             ],
             [
              0.4444444444444444,
              "#bd3786"
             ],
             [
              0.5555555555555556,
              "#d8576b"
             ],
             [
              0.6666666666666666,
              "#ed7953"
             ],
             [
              0.7777777777777778,
              "#fb9f3a"
             ],
             [
              0.8888888888888888,
              "#fdca26"
             ],
             [
              1,
              "#f0f921"
             ]
            ],
            "type": "histogram2dcontour"
           }
          ],
          "mesh3d": [
           {
            "colorbar": {
             "outlinewidth": 0,
             "ticks": ""
            },
            "type": "mesh3d"
           }
          ],
          "parcoords": [
           {
            "line": {
             "colorbar": {
              "outlinewidth": 0,
              "ticks": ""
             }
            },
            "type": "parcoords"
           }
          ],
          "pie": [
           {
            "automargin": true,
            "type": "pie"
           }
          ],
          "scatter": [
           {
            "marker": {
             "colorbar": {
              "outlinewidth": 0,
              "ticks": ""
             }
            },
            "type": "scatter"
           }
          ],
          "scatter3d": [
           {
            "line": {
             "colorbar": {
              "outlinewidth": 0,
              "ticks": ""
             }
            },
            "marker": {
             "colorbar": {
              "outlinewidth": 0,
              "ticks": ""
             }
            },
            "type": "scatter3d"
           }
          ],
          "scattercarpet": [
           {
            "marker": {
             "colorbar": {
              "outlinewidth": 0,
              "ticks": ""
             }
            },
            "type": "scattercarpet"
           }
          ],
          "scattergeo": [
           {
            "marker": {
             "colorbar": {
              "outlinewidth": 0,
              "ticks": ""
             }
            },
            "type": "scattergeo"
           }
          ],
          "scattergl": [
           {
            "marker": {
             "colorbar": {
              "outlinewidth": 0,
              "ticks": ""
             }
            },
            "type": "scattergl"
           }
          ],
          "scattermapbox": [
           {
            "marker": {
             "colorbar": {
              "outlinewidth": 0,
              "ticks": ""
             }
            },
            "type": "scattermapbox"
           }
          ],
          "scatterpolar": [
           {
            "marker": {
             "colorbar": {
              "outlinewidth": 0,
              "ticks": ""
             }
            },
            "type": "scatterpolar"
           }
          ],
          "scatterpolargl": [
           {
            "marker": {
             "colorbar": {
              "outlinewidth": 0,
              "ticks": ""
             }
            },
            "type": "scatterpolargl"
           }
          ],
          "scatterternary": [
           {
            "marker": {
             "colorbar": {
              "outlinewidth": 0,
              "ticks": ""
             }
            },
            "type": "scatterternary"
           }
          ],
          "surface": [
           {
            "colorbar": {
             "outlinewidth": 0,
             "ticks": ""
            },
            "colorscale": [
             [
              0,
              "#0d0887"
             ],
             [
              0.1111111111111111,
              "#46039f"
             ],
             [
              0.2222222222222222,
              "#7201a8"
             ],
             [
              0.3333333333333333,
              "#9c179e"
             ],
             [
              0.4444444444444444,
              "#bd3786"
             ],
             [
              0.5555555555555556,
              "#d8576b"
             ],
             [
              0.6666666666666666,
              "#ed7953"
             ],
             [
              0.7777777777777778,
              "#fb9f3a"
             ],
             [
              0.8888888888888888,
              "#fdca26"
             ],
             [
              1,
              "#f0f921"
             ]
            ],
            "type": "surface"
           }
          ],
          "table": [
           {
            "cells": {
             "fill": {
              "color": "#EBF0F8"
             },
             "line": {
              "color": "white"
             }
            },
            "header": {
             "fill": {
              "color": "#C8D4E3"
             },
             "line": {
              "color": "white"
             }
            },
            "type": "table"
           }
          ]
         },
         "layout": {
          "annotationdefaults": {
           "arrowcolor": "#2a3f5f",
           "arrowhead": 0,
           "arrowwidth": 1
          },
          "autotypenumbers": "strict",
          "coloraxis": {
           "colorbar": {
            "outlinewidth": 0,
            "ticks": ""
           }
          },
          "colorscale": {
           "diverging": [
            [
             0,
             "#8e0152"
            ],
            [
             0.1,
             "#c51b7d"
            ],
            [
             0.2,
             "#de77ae"
            ],
            [
             0.3,
             "#f1b6da"
            ],
            [
             0.4,
             "#fde0ef"
            ],
            [
             0.5,
             "#f7f7f7"
            ],
            [
             0.6,
             "#e6f5d0"
            ],
            [
             0.7,
             "#b8e186"
            ],
            [
             0.8,
             "#7fbc41"
            ],
            [
             0.9,
             "#4d9221"
            ],
            [
             1,
             "#276419"
            ]
           ],
           "sequential": [
            [
             0,
             "#0d0887"
            ],
            [
             0.1111111111111111,
             "#46039f"
            ],
            [
             0.2222222222222222,
             "#7201a8"
            ],
            [
             0.3333333333333333,
             "#9c179e"
            ],
            [
             0.4444444444444444,
             "#bd3786"
            ],
            [
             0.5555555555555556,
             "#d8576b"
            ],
            [
             0.6666666666666666,
             "#ed7953"
            ],
            [
             0.7777777777777778,
             "#fb9f3a"
            ],
            [
             0.8888888888888888,
             "#fdca26"
            ],
            [
             1,
             "#f0f921"
            ]
           ],
           "sequentialminus": [
            [
             0,
             "#0d0887"
            ],
            [
             0.1111111111111111,
             "#46039f"
            ],
            [
             0.2222222222222222,
             "#7201a8"
            ],
            [
             0.3333333333333333,
             "#9c179e"
            ],
            [
             0.4444444444444444,
             "#bd3786"
            ],
            [
             0.5555555555555556,
             "#d8576b"
            ],
            [
             0.6666666666666666,
             "#ed7953"
            ],
            [
             0.7777777777777778,
             "#fb9f3a"
            ],
            [
             0.8888888888888888,
             "#fdca26"
            ],
            [
             1,
             "#f0f921"
            ]
           ]
          },
          "colorway": [
           "#636efa",
           "#EF553B",
           "#00cc96",
           "#ab63fa",
           "#FFA15A",
           "#19d3f3",
           "#FF6692",
           "#B6E880",
           "#FF97FF",
           "#FECB52"
          ],
          "font": {
           "color": "#2a3f5f"
          },
          "geo": {
           "bgcolor": "white",
           "lakecolor": "white",
           "landcolor": "#E5ECF6",
           "showlakes": true,
           "showland": true,
           "subunitcolor": "white"
          },
          "hoverlabel": {
           "align": "left"
          },
          "hovermode": "closest",
          "mapbox": {
           "style": "light"
          },
          "paper_bgcolor": "white",
          "plot_bgcolor": "#E5ECF6",
          "polar": {
           "angularaxis": {
            "gridcolor": "white",
            "linecolor": "white",
            "ticks": ""
           },
           "bgcolor": "#E5ECF6",
           "radialaxis": {
            "gridcolor": "white",
            "linecolor": "white",
            "ticks": ""
           }
          },
          "scene": {
           "xaxis": {
            "backgroundcolor": "#E5ECF6",
            "gridcolor": "white",
            "gridwidth": 2,
            "linecolor": "white",
            "showbackground": true,
            "ticks": "",
            "zerolinecolor": "white"
           },
           "yaxis": {
            "backgroundcolor": "#E5ECF6",
            "gridcolor": "white",
            "gridwidth": 2,
            "linecolor": "white",
            "showbackground": true,
            "ticks": "",
            "zerolinecolor": "white"
           },
           "zaxis": {
            "backgroundcolor": "#E5ECF6",
            "gridcolor": "white",
            "gridwidth": 2,
            "linecolor": "white",
            "showbackground": true,
            "ticks": "",
            "zerolinecolor": "white"
           }
          },
          "shapedefaults": {
           "line": {
            "color": "#2a3f5f"
           }
          },
          "ternary": {
           "aaxis": {
            "gridcolor": "white",
            "linecolor": "white",
            "ticks": ""
           },
           "baxis": {
            "gridcolor": "white",
            "linecolor": "white",
            "ticks": ""
           },
           "bgcolor": "#E5ECF6",
           "caxis": {
            "gridcolor": "white",
            "linecolor": "white",
            "ticks": ""
           }
          },
          "title": {
           "x": 0.05
          },
          "xaxis": {
           "automargin": true,
           "gridcolor": "white",
           "linecolor": "white",
           "ticks": "",
           "title": {
            "standoff": 15
           },
           "zerolinecolor": "white",
           "zerolinewidth": 2
          },
          "yaxis": {
           "automargin": true,
           "gridcolor": "white",
           "linecolor": "white",
           "ticks": "",
           "title": {
            "standoff": 15
           },
           "zerolinecolor": "white",
           "zerolinewidth": 2
          }
         }
        },
        "title": {
         "text": "Perbandingan Jumlah Nilai Rata-Rata PerMapel TPM Semester 1 dan 2",
         "x": 0.45,
         "xanchor": "center",
         "y": 0.9,
         "yanchor": "top"
        },
        "width": 900,
        "xaxis": {
         "title": {
          "text": "Mata Pelajaran"
         }
        },
        "yaxis": {
         "title": {
          "text": "Nilai Rata Rata"
         }
        }
       }
      },
      "text/html": [
       "<div>                            <div id=\"91b6401f-b9f9-4bf0-aa9f-38db2a81b4aa\" class=\"plotly-graph-div\" style=\"height:500px; width:900px;\"></div>            <script type=\"text/javascript\">                require([\"plotly\"], function(Plotly) {                    window.PLOTLYENV=window.PLOTLYENV || {};                                    if (document.getElementById(\"91b6401f-b9f9-4bf0-aa9f-38db2a81b4aa\")) {                    Plotly.newPlot(                        \"91b6401f-b9f9-4bf0-aa9f-38db2a81b4aa\",                        [{\"marker\":{\"color\":\"rgba(246, 78, 139, 0.6)\",\"line\":{\"color\":\"rgba(246, 78, 139, 1.0)\",\"width\":2}},\"mode\":\"lines+markers\",\"name\":\"Semester 1\",\"x\":[\"Agama\",\"PKN\",\"B. Indo\",\"Matematika\",\"Sejarah\",\"B. Inggris\",\"Kesenian\",\"PJOK\",\"B. Daerah\",\"Simdig\",\"Fisika\",\"Kimia\",\"Gambar TM\",\"Pekerjaan Dasar TM\",\"Dasar Perencanaan TM\"],\"y\":[171.03,165.94,167.94,157.5,161.86,147.92,166.47,164.33,161.83,162.58,154.56,153.58,148.89,152.83,157.08],\"type\":\"scatter\"},{\"marker\":{\"color\":\"rgba(58, 71, 80, 0.6)\",\"line\":{\"color\":\"rgba(58, 71, 80, 1.0)\",\"width\":2}},\"mode\":\"lines\",\"name\":\"Semester 2\",\"x\":[\"Agama\",\"PKN\",\"B. Indo\",\"Matematika\",\"Sejarah\",\"B. Inggris\",\"Kesenian\",\"PJOK\",\"B. Daerah\",\"Simdig\",\"Fisika\",\"Kimia\",\"Gambar TM\",\"Pekerjaan Dasar TM\",\"Dasar Perencanaan TM\"],\"y\":[170.67,168.22,172.0,161.44,167.67,160.75,173.19,167.08,165.19,169.06,162.53,157.56,165.83,169.56,162.17],\"type\":\"scatter\"}],                        {\"template\":{\"data\":{\"bar\":[{\"error_x\":{\"color\":\"#2a3f5f\"},\"error_y\":{\"color\":\"#2a3f5f\"},\"marker\":{\"line\":{\"color\":\"#E5ECF6\",\"width\":0.5},\"pattern\":{\"fillmode\":\"overlay\",\"size\":10,\"solidity\":0.2}},\"type\":\"bar\"}],\"barpolar\":[{\"marker\":{\"line\":{\"color\":\"#E5ECF6\",\"width\":0.5},\"pattern\":{\"fillmode\":\"overlay\",\"size\":10,\"solidity\":0.2}},\"type\":\"barpolar\"}],\"carpet\":[{\"aaxis\":{\"endlinecolor\":\"#2a3f5f\",\"gridcolor\":\"white\",\"linecolor\":\"white\",\"minorgridcolor\":\"white\",\"startlinecolor\":\"#2a3f5f\"},\"baxis\":{\"endlinecolor\":\"#2a3f5f\",\"gridcolor\":\"white\",\"linecolor\":\"white\",\"minorgridcolor\":\"white\",\"startlinecolor\":\"#2a3f5f\"},\"type\":\"carpet\"}],\"choropleth\":[{\"colorbar\":{\"outlinewidth\":0,\"ticks\":\"\"},\"type\":\"choropleth\"}],\"contour\":[{\"colorbar\":{\"outlinewidth\":0,\"ticks\":\"\"},\"colorscale\":[[0.0,\"#0d0887\"],[0.1111111111111111,\"#46039f\"],[0.2222222222222222,\"#7201a8\"],[0.3333333333333333,\"#9c179e\"],[0.4444444444444444,\"#bd3786\"],[0.5555555555555556,\"#d8576b\"],[0.6666666666666666,\"#ed7953\"],[0.7777777777777778,\"#fb9f3a\"],[0.8888888888888888,\"#fdca26\"],[1.0,\"#f0f921\"]],\"type\":\"contour\"}],\"contourcarpet\":[{\"colorbar\":{\"outlinewidth\":0,\"ticks\":\"\"},\"type\":\"contourcarpet\"}],\"heatmap\":[{\"colorbar\":{\"outlinewidth\":0,\"ticks\":\"\"},\"colorscale\":[[0.0,\"#0d0887\"],[0.1111111111111111,\"#46039f\"],[0.2222222222222222,\"#7201a8\"],[0.3333333333333333,\"#9c179e\"],[0.4444444444444444,\"#bd3786\"],[0.5555555555555556,\"#d8576b\"],[0.6666666666666666,\"#ed7953\"],[0.7777777777777778,\"#fb9f3a\"],[0.8888888888888888,\"#fdca26\"],[1.0,\"#f0f921\"]],\"type\":\"heatmap\"}],\"heatmapgl\":[{\"colorbar\":{\"outlinewidth\":0,\"ticks\":\"\"},\"colorscale\":[[0.0,\"#0d0887\"],[0.1111111111111111,\"#46039f\"],[0.2222222222222222,\"#7201a8\"],[0.3333333333333333,\"#9c179e\"],[0.4444444444444444,\"#bd3786\"],[0.5555555555555556,\"#d8576b\"],[0.6666666666666666,\"#ed7953\"],[0.7777777777777778,\"#fb9f3a\"],[0.8888888888888888,\"#fdca26\"],[1.0,\"#f0f921\"]],\"type\":\"heatmapgl\"}],\"histogram\":[{\"marker\":{\"pattern\":{\"fillmode\":\"overlay\",\"size\":10,\"solidity\":0.2}},\"type\":\"histogram\"}],\"histogram2d\":[{\"colorbar\":{\"outlinewidth\":0,\"ticks\":\"\"},\"colorscale\":[[0.0,\"#0d0887\"],[0.1111111111111111,\"#46039f\"],[0.2222222222222222,\"#7201a8\"],[0.3333333333333333,\"#9c179e\"],[0.4444444444444444,\"#bd3786\"],[0.5555555555555556,\"#d8576b\"],[0.6666666666666666,\"#ed7953\"],[0.7777777777777778,\"#fb9f3a\"],[0.8888888888888888,\"#fdca26\"],[1.0,\"#f0f921\"]],\"type\":\"histogram2d\"}],\"histogram2dcontour\":[{\"colorbar\":{\"outlinewidth\":0,\"ticks\":\"\"},\"colorscale\":[[0.0,\"#0d0887\"],[0.1111111111111111,\"#46039f\"],[0.2222222222222222,\"#7201a8\"],[0.3333333333333333,\"#9c179e\"],[0.4444444444444444,\"#bd3786\"],[0.5555555555555556,\"#d8576b\"],[0.6666666666666666,\"#ed7953\"],[0.7777777777777778,\"#fb9f3a\"],[0.8888888888888888,\"#fdca26\"],[1.0,\"#f0f921\"]],\"type\":\"histogram2dcontour\"}],\"mesh3d\":[{\"colorbar\":{\"outlinewidth\":0,\"ticks\":\"\"},\"type\":\"mesh3d\"}],\"parcoords\":[{\"line\":{\"colorbar\":{\"outlinewidth\":0,\"ticks\":\"\"}},\"type\":\"parcoords\"}],\"pie\":[{\"automargin\":true,\"type\":\"pie\"}],\"scatter\":[{\"marker\":{\"colorbar\":{\"outlinewidth\":0,\"ticks\":\"\"}},\"type\":\"scatter\"}],\"scatter3d\":[{\"line\":{\"colorbar\":{\"outlinewidth\":0,\"ticks\":\"\"}},\"marker\":{\"colorbar\":{\"outlinewidth\":0,\"ticks\":\"\"}},\"type\":\"scatter3d\"}],\"scattercarpet\":[{\"marker\":{\"colorbar\":{\"outlinewidth\":0,\"ticks\":\"\"}},\"type\":\"scattercarpet\"}],\"scattergeo\":[{\"marker\":{\"colorbar\":{\"outlinewidth\":0,\"ticks\":\"\"}},\"type\":\"scattergeo\"}],\"scattergl\":[{\"marker\":{\"colorbar\":{\"outlinewidth\":0,\"ticks\":\"\"}},\"type\":\"scattergl\"}],\"scattermapbox\":[{\"marker\":{\"colorbar\":{\"outlinewidth\":0,\"ticks\":\"\"}},\"type\":\"scattermapbox\"}],\"scatterpolar\":[{\"marker\":{\"colorbar\":{\"outlinewidth\":0,\"ticks\":\"\"}},\"type\":\"scatterpolar\"}],\"scatterpolargl\":[{\"marker\":{\"colorbar\":{\"outlinewidth\":0,\"ticks\":\"\"}},\"type\":\"scatterpolargl\"}],\"scatterternary\":[{\"marker\":{\"colorbar\":{\"outlinewidth\":0,\"ticks\":\"\"}},\"type\":\"scatterternary\"}],\"surface\":[{\"colorbar\":{\"outlinewidth\":0,\"ticks\":\"\"},\"colorscale\":[[0.0,\"#0d0887\"],[0.1111111111111111,\"#46039f\"],[0.2222222222222222,\"#7201a8\"],[0.3333333333333333,\"#9c179e\"],[0.4444444444444444,\"#bd3786\"],[0.5555555555555556,\"#d8576b\"],[0.6666666666666666,\"#ed7953\"],[0.7777777777777778,\"#fb9f3a\"],[0.8888888888888888,\"#fdca26\"],[1.0,\"#f0f921\"]],\"type\":\"surface\"}],\"table\":[{\"cells\":{\"fill\":{\"color\":\"#EBF0F8\"},\"line\":{\"color\":\"white\"}},\"header\":{\"fill\":{\"color\":\"#C8D4E3\"},\"line\":{\"color\":\"white\"}},\"type\":\"table\"}]},\"layout\":{\"annotationdefaults\":{\"arrowcolor\":\"#2a3f5f\",\"arrowhead\":0,\"arrowwidth\":1},\"autotypenumbers\":\"strict\",\"coloraxis\":{\"colorbar\":{\"outlinewidth\":0,\"ticks\":\"\"}},\"colorscale\":{\"diverging\":[[0,\"#8e0152\"],[0.1,\"#c51b7d\"],[0.2,\"#de77ae\"],[0.3,\"#f1b6da\"],[0.4,\"#fde0ef\"],[0.5,\"#f7f7f7\"],[0.6,\"#e6f5d0\"],[0.7,\"#b8e186\"],[0.8,\"#7fbc41\"],[0.9,\"#4d9221\"],[1,\"#276419\"]],\"sequential\":[[0.0,\"#0d0887\"],[0.1111111111111111,\"#46039f\"],[0.2222222222222222,\"#7201a8\"],[0.3333333333333333,\"#9c179e\"],[0.4444444444444444,\"#bd3786\"],[0.5555555555555556,\"#d8576b\"],[0.6666666666666666,\"#ed7953\"],[0.7777777777777778,\"#fb9f3a\"],[0.8888888888888888,\"#fdca26\"],[1.0,\"#f0f921\"]],\"sequentialminus\":[[0.0,\"#0d0887\"],[0.1111111111111111,\"#46039f\"],[0.2222222222222222,\"#7201a8\"],[0.3333333333333333,\"#9c179e\"],[0.4444444444444444,\"#bd3786\"],[0.5555555555555556,\"#d8576b\"],[0.6666666666666666,\"#ed7953\"],[0.7777777777777778,\"#fb9f3a\"],[0.8888888888888888,\"#fdca26\"],[1.0,\"#f0f921\"]]},\"colorway\":[\"#636efa\",\"#EF553B\",\"#00cc96\",\"#ab63fa\",\"#FFA15A\",\"#19d3f3\",\"#FF6692\",\"#B6E880\",\"#FF97FF\",\"#FECB52\"],\"font\":{\"color\":\"#2a3f5f\"},\"geo\":{\"bgcolor\":\"white\",\"lakecolor\":\"white\",\"landcolor\":\"#E5ECF6\",\"showlakes\":true,\"showland\":true,\"subunitcolor\":\"white\"},\"hoverlabel\":{\"align\":\"left\"},\"hovermode\":\"closest\",\"mapbox\":{\"style\":\"light\"},\"paper_bgcolor\":\"white\",\"plot_bgcolor\":\"#E5ECF6\",\"polar\":{\"angularaxis\":{\"gridcolor\":\"white\",\"linecolor\":\"white\",\"ticks\":\"\"},\"bgcolor\":\"#E5ECF6\",\"radialaxis\":{\"gridcolor\":\"white\",\"linecolor\":\"white\",\"ticks\":\"\"}},\"scene\":{\"xaxis\":{\"backgroundcolor\":\"#E5ECF6\",\"gridcolor\":\"white\",\"gridwidth\":2,\"linecolor\":\"white\",\"showbackground\":true,\"ticks\":\"\",\"zerolinecolor\":\"white\"},\"yaxis\":{\"backgroundcolor\":\"#E5ECF6\",\"gridcolor\":\"white\",\"gridwidth\":2,\"linecolor\":\"white\",\"showbackground\":true,\"ticks\":\"\",\"zerolinecolor\":\"white\"},\"zaxis\":{\"backgroundcolor\":\"#E5ECF6\",\"gridcolor\":\"white\",\"gridwidth\":2,\"linecolor\":\"white\",\"showbackground\":true,\"ticks\":\"\",\"zerolinecolor\":\"white\"}},\"shapedefaults\":{\"line\":{\"color\":\"#2a3f5f\"}},\"ternary\":{\"aaxis\":{\"gridcolor\":\"white\",\"linecolor\":\"white\",\"ticks\":\"\"},\"baxis\":{\"gridcolor\":\"white\",\"linecolor\":\"white\",\"ticks\":\"\"},\"bgcolor\":\"#E5ECF6\",\"caxis\":{\"gridcolor\":\"white\",\"linecolor\":\"white\",\"ticks\":\"\"}},\"title\":{\"x\":0.05},\"xaxis\":{\"automargin\":true,\"gridcolor\":\"white\",\"linecolor\":\"white\",\"ticks\":\"\",\"title\":{\"standoff\":15},\"zerolinecolor\":\"white\",\"zerolinewidth\":2},\"yaxis\":{\"automargin\":true,\"gridcolor\":\"white\",\"linecolor\":\"white\",\"ticks\":\"\",\"title\":{\"standoff\":15},\"zerolinecolor\":\"white\",\"zerolinewidth\":2}}},\"title\":{\"text\":\"Perbandingan Jumlah Nilai Rata-Rata PerMapel TPM Semester 1 dan 2\",\"y\":0.9,\"x\":0.45,\"xanchor\":\"center\",\"yanchor\":\"top\"},\"xaxis\":{\"title\":{\"text\":\"Mata Pelajaran\"}},\"yaxis\":{\"title\":{\"text\":\"Nilai Rata Rata\"}},\"legend\":{\"title\":{\"text\":\"Semester\"}},\"width\":900,\"height\":500},                        {\"responsive\": true}                    ).then(function(){\n",
       "                            \n",
       "var gd = document.getElementById('91b6401f-b9f9-4bf0-aa9f-38db2a81b4aa');\n",
       "var x = new MutationObserver(function (mutations, observer) {{\n",
       "        var display = window.getComputedStyle(gd).display;\n",
       "        if (!display || display === 'none') {{\n",
       "            console.log([gd, 'removed!']);\n",
       "            Plotly.purge(gd);\n",
       "            observer.disconnect();\n",
       "        }}\n",
       "}});\n",
       "\n",
       "// Listen for the removal of the full notebook cells\n",
       "var notebookContainer = gd.closest('#notebook-container');\n",
       "if (notebookContainer) {{\n",
       "    x.observe(notebookContainer, {childList: true});\n",
       "}}\n",
       "\n",
       "// Listen for the clearing of the current output cell\n",
       "var outputEl = gd.closest('.output');\n",
       "if (outputEl) {{\n",
       "    x.observe(outputEl, {childList: true});\n",
       "}}\n",
       "\n",
       "                        })                };                });            </script>        </div>"
      ]
     },
     "metadata": {},
     "output_type": "display_data"
    }
   ],
   "source": [
    "import plotly.graph_objects as go\n",
    "\n",
    "X = r_tpmc1[\"Mapel\"]\n",
    "Y_C1 = r_tpmc1[\"Nilai Rata-Rata\"].round(2)\n",
    "Y_C2 = r_tpmc2[\"Nilai Rata-Rata\"].round(2)\n",
    "\n",
    "fig = go.Figure()\n",
    "\n",
    "\n",
    "fig.add_trace(go.Scatter(\n",
    "    x=X,\n",
    "    y=Y_C1,\n",
    "    name='Semester 1',\n",
    "    marker=dict(\n",
    "        color='rgba(246, 78, 139, 0.6)',\n",
    "        line=dict(color='rgba(246, 78, 139, 1.0)', width=2)\n",
    "    ),\n",
    "    mode='lines+markers',\n",
    "    \n",
    "))\n",
    "\n",
    "fig.add_trace(go.Scatter(\n",
    "    x=X,\n",
    "    y=Y_C2,\n",
    "    name='Semester 2',\n",
    "    marker=dict(\n",
    "        color='rgba(58, 71, 80, 0.6)',\n",
    "        line=dict(color='rgba(58, 71, 80, 1.0)', width=2)\n",
    "    ),\n",
    "    mode=\"lines\",\n",
    "))\n",
    "\n",
    "fig.update_layout(title={'text': \"Perbandingan Jumlah Nilai Rata-Rata PerMapel TPM Semester 1 dan 2\",\n",
    "                    'y':0.9,\n",
    "                    'x':0.45,\n",
    "                    'xanchor': 'center',\n",
    "                    'yanchor': 'top'},\n",
    "                xaxis={'title':{'text':'Mata Pelajaran'}}, \n",
    "                yaxis={'title':{'text':'Nilai Rata Rata'}}, \n",
    "                legend={'title':{'text':'Semester'}},\n",
    "                 width=900, height=500,)\n",
    "                \n",
    "fig.show()"
   ]
  },
  {
   "cell_type": "markdown",
   "id": "c167cca0-f3df-4ab4-8383-8bbb8c09d9f1",
   "metadata": {},
   "source": [
    "**Dari grafik diatas terlihat bahwa Jumlah nilai rata-rata semester 2 lebih meningkat pesat\n",
    "bahkan hampir tidak ada nilai yang menyamai, Nilai Bahasa Inggris menduduki nilai terendah pada semester 1 juga meningkat pada \n",
    "semester 2, Mata pelajaran dengan nilai rata-rata yang hampir sama yaitu Agama dengan nilai rata-rata semester 1 : 171.03 \n",
    "dan semester 2 : 170:67, dan mata pelajaran dengan nilai rata-rata tertinggi yaitu : Kesenian dengan nilai 173.19**"
   ]
  },
  {
   "cell_type": "code",
   "execution_count": 16,
   "id": "9db6e7d3-6f45-416b-8fb6-95b164034e0b",
   "metadata": {},
   "outputs": [
    {
     "data": {
      "application/vnd.plotly.v1+json": {
       "config": {
        "linkText": "Export to plot.ly",
        "plotlyServerURL": "https://plot.ly",
        "showLink": false
       },
       "data": [
        {
         "domain": {
          "x": [
           0.5846153846153848,
           1
          ],
          "y": [
           0.54,
           1
          ]
         },
         "hole": 0.7,
         "hoverinfo": "label+percent+value",
         "labels": [
          " RAHMAT AZIS NUGROHO ",
          " MUHAMAD ADAM ZAMZAMI ",
          " JAYADI DWI HANDOYO ",
          " PRADIKA ALANSYAH ",
          " NANDA PRAYOGA "
         ],
         "legendgroup": "group2",
         "legendgrouptitle": {
          "text": "Semester 1"
         },
         "marker": {
          "colors": [
           "#334668",
           "#496595",
           "#6D83AA",
           "#91A2BF",
           "#C8D0DF"
          ]
         },
         "name": "Quarter",
         "textinfo": "percent",
         "type": "pie",
         "values": [
          2458,
          2452,
          2449,
          2422,
          2422
         ]
        },
        {
         "domain": {
          "x": [
           0,
           0.4846153846153847
          ],
          "y": [
           0.54,
           1
          ]
         },
         "hole": 0.7,
         "hoverinfo": "label+percent+value",
         "labels": [
          " JAYADI DWI HANDOYO ",
          " KHOIRUL MUCHLISIN ",
          " MOH. ARYA FAHTUREZI ",
          " RAHMAT AZIS NUGROHO ",
          " MUHAMAD ADAM ZAMZAMI "
         ],
         "legendgroup": "group1",
         "legendgrouptitle": {
          "text": "Semester 2"
         },
         "marker": {
          "colors": [
           "#684033",
           "#955849 ",
           "#AA7D6D ",
           "#BF9A91 ",
           "#DFCCC8"
          ]
         },
         "name": "Quarter",
         "textinfo": "percent",
         "type": "pie",
         "values": [
          2567,
          2554,
          2539,
          2533,
          2530
         ]
        },
        {
         "fillcolor": "#c6ccd8",
         "hoverinfo": "text",
         "legendgroup": "group3",
         "legendgrouptitle": {
          "text": "Ranking"
         },
         "marker": {
          "color": "#496595"
         },
         "mode": "lines+markers",
         "name": "Semester 1",
         "text": [
          "Nama :  JAYADI DWI HANDOYO <br>Rank : 3",
          "Nama :  JOVAN HENDI WIJAYA <br>Rank : 36",
          "Nama :  KHABIB <br>Rank : 15",
          "Nama :  KHOIRUL MUCHLISIN <br>Rank : 9",
          "Nama :  KRISNA AJI PERMADI <br>Rank : 28",
          "Nama :  KRISNA FAIZALDHI HIDAYAT <br>Rank : 14",
          "Nama :  MICO DWI SAPUTRO <br>Rank : 17",
          "Nama :  MOCH FATJAR SUBKHAN <br>Rank : 22",
          "Nama :  MOCH. ALIH AFRIL ARDIYANSYAH <br>Rank : 35",
          "Nama :  MOH CHOIRUL FALAH <br>Rank : 4",
          "Nama :  MOH. ARYA FAHTUREZI <br>Rank : 7",
          "Nama :  MOHAMMAD DHARONI <br>Rank : 17",
          "Nama :  MOHAMMAD DZULFIKRI YAZID <br>Rank : 16",
          "Nama :  MOHAMMAD ILHAM RAFIKI <br>Rank : 7",
          "Nama :  MOHAMMAD MUFTI FIRMANSYAH <br>Rank : 13",
          "Nama :  MUHAMAD ADAM ZAMZAMI <br>Rank : 2",
          "Nama :  MUHAMMAD ARI PUTRA ANANDA <br>Rank : 26",
          "Nama :  MUHAMMAD RAFID FADHILAH <br>Rank : 30",
          "Nama :  MUHAMMAD RIDHO PRASETYO <br>Rank : 34",
          "Nama :  MUHAMMAD SYAIFUDIN MARUF <br>Rank : 32",
          "Nama :  MUHAMMAD TAUFIK HIDAYAT <br>Rank : 29",
          "Nama :  MUHAMMAD YUSRON IRHAMNI <br>Rank : 27",
          "Nama :  MUHAMMAD ZUHDA MUSYAFFA <br>Rank : 33",
          "Nama :  MUHAMMAD ZUKHRUF ARIYAFANNI <br>Rank : 24",
          "Nama :  NAMIRA LANGIT DHIYA'ULHIKMA NASHRULLAH <br>Rank : 23",
          "Nama :  NANDA PRAYOGA <br>Rank : 4",
          "Nama :  NUR ROSYIID HENDRA SAPUTRA <br>Rank : 10",
          "Nama :  PRADIKA ALANSYAH <br>Rank : 4",
          "Nama :  PRAYOGO BUDI LAKSONO <br>Rank : 21",
          "Nama :  RADITYA FAJAR ABIMANYU <br>Rank : 31",
          "Nama :  RAHMAT AZIS NUGROHO <br>Rank : 1",
          "Nama :  RAMADHAN ADI SATRIA <br>Rank : 25",
          "Nama :  RAMANIDITYO MUSTOFA <br>Rank : 11",
          "Nama :  REGA ALVINO CAHYA <br>Rank : 20",
          "Nama :  REHAN BAGAS ARDEVA <br>Rank : 12",
          "Nama :  REHAN PUTRA PEMBAJENG <br>Rank : 19"
         ],
         "type": "scatter",
         "visible": true,
         "x": [
          " JAYADI DWI HANDOYO ",
          " JOVAN HENDI WIJAYA ",
          " KHABIB ",
          " KHOIRUL MUCHLISIN ",
          " KRISNA AJI PERMADI ",
          " KRISNA FAIZALDHI HIDAYAT ",
          " MICO DWI SAPUTRO ",
          " MOCH FATJAR SUBKHAN ",
          " MOCH. ALIH AFRIL ARDIYANSYAH ",
          " MOH CHOIRUL FALAH ",
          " MOH. ARYA FAHTUREZI ",
          " MOHAMMAD DHARONI ",
          " MOHAMMAD DZULFIKRI YAZID ",
          " MOHAMMAD ILHAM RAFIKI ",
          " MOHAMMAD MUFTI FIRMANSYAH ",
          " MUHAMAD ADAM ZAMZAMI ",
          " MUHAMMAD ARI PUTRA ANANDA ",
          " MUHAMMAD RAFID FADHILAH ",
          " MUHAMMAD RIDHO PRASETYO ",
          " MUHAMMAD SYAIFUDIN MARUF ",
          " MUHAMMAD TAUFIK HIDAYAT ",
          " MUHAMMAD YUSRON IRHAMNI ",
          " MUHAMMAD ZUHDA MUSYAFFA ",
          " MUHAMMAD ZUKHRUF ARIYAFANNI ",
          " NAMIRA LANGIT DHIYA'ULHIKMA NASHRULLAH ",
          " NANDA PRAYOGA ",
          " NUR ROSYIID HENDRA SAPUTRA ",
          " PRADIKA ALANSYAH ",
          " PRAYOGO BUDI LAKSONO ",
          " RADITYA FAJAR ABIMANYU ",
          " RAHMAT AZIS NUGROHO ",
          " RAMADHAN ADI SATRIA ",
          " RAMANIDITYO MUSTOFA ",
          " REGA ALVINO CAHYA ",
          " REHAN BAGAS ARDEVA ",
          " REHAN PUTRA PEMBAJENG "
         ],
         "xaxis": "x",
         "y": [
          3,
          36,
          15,
          9,
          28,
          14,
          17,
          22,
          35,
          4,
          7,
          17,
          16,
          7,
          13,
          2,
          26,
          30,
          34,
          32,
          29,
          27,
          33,
          24,
          23,
          4,
          10,
          4,
          21,
          31,
          1,
          25,
          11,
          20,
          12,
          19
         ],
         "yaxis": "y"
        },
        {
         "fillcolor": "#c6ccd8",
         "hoverinfo": "text",
         "legendgroup": "group3",
         "legendgrouptitle": {
          "text": "Ranking"
         },
         "marker": {
          "color": "#FF6246"
         },
         "mode": "lines",
         "name": "Semester 2",
         "text": [
          "Nama :  JAYADI DWI HANDOYO <br>Rank : 1",
          "Nama :  JOVAN HENDI WIJAYA <br>Rank : 34",
          "Nama :  KHABIB <br>Rank : 13",
          "Nama :  KHOIRUL MUCHLISIN <br>Rank : 2",
          "Nama :  KRISNA AJI PERMADI <br>Rank : 19",
          "Nama :  KRISNA FAIZALDHI HIDAYAT <br>Rank : 9",
          "Nama :  MICO DWI SAPUTRO <br>Rank : 6",
          "Nama :  MOCH FATJAR SUBKHAN <br>Rank : 12",
          "Nama :  MOCH. ALIH AFRIL ARDIYANSYAH <br>Rank : 35",
          "Nama :  MOH CHOIRUL FALAH <br>Rank : 11",
          "Nama :  MOH. ARYA FAHTUREZI <br>Rank : 3",
          "Nama :  MOHAMMAD DHARONI <br>Rank : 31",
          "Nama :  MOHAMMAD DZULFIKRI YAZID <br>Rank : 24",
          "Nama :  MOHAMMAD ILHAM RAFIKI <br>Rank : 19",
          "Nama :  MOHAMMAD MUFTI FIRMANSYAH <br>Rank : 16",
          "Nama :  MUHAMAD ADAM ZAMZAMI <br>Rank : 5",
          "Nama :  MUHAMMAD ARI PUTRA ANANDA <br>Rank : 30",
          "Nama :  MUHAMMAD RAFID FADHILAH <br>Rank : 27",
          "Nama :  MUHAMMAD RIDHO PRASETYO <br>Rank : 29",
          "Nama :  MUHAMMAD SYAIFUDIN MARUF <br>Rank : 33",
          "Nama :  MUHAMMAD TAUFIK HIDAYAT <br>Rank : 35",
          "Nama :  MUHAMMAD YUSRON IRHAMNI <br>Rank : 24",
          "Nama :  MUHAMMAD ZUHDA MUSYAFFA <br>Rank : 28",
          "Nama :  MUHAMMAD ZUKHRUF ARIYAFANNI <br>Rank : 18",
          "Nama :  NAMIRA LANGIT DHIYA'ULHIKMA NASHRULLAH <br>Rank : 17",
          "Nama :  NANDA PRAYOGA <br>Rank : 14",
          "Nama :  NUR ROSYIID HENDRA SAPUTRA <br>Rank : 9",
          "Nama :  PRADIKA ALANSYAH <br>Rank : 8",
          "Nama :  PRAYOGO BUDI LAKSONO <br>Rank : 26",
          "Nama :  RADITYA FAJAR ABIMANYU <br>Rank : 32",
          "Nama :  RAHMAT AZIS NUGROHO <br>Rank : 4",
          "Nama :  RAMADHAN ADI SATRIA <br>Rank : 21",
          "Nama :  RAMANIDITYO MUSTOFA <br>Rank : 7",
          "Nama :  REGA ALVINO CAHYA <br>Rank : 22",
          "Nama :  REHAN BAGAS ARDEVA <br>Rank : 23",
          "Nama :  REHAN PUTRA PEMBAJENG <br>Rank : 15"
         ],
         "type": "scatter",
         "visible": true,
         "x": [
          " JAYADI DWI HANDOYO ",
          " JOVAN HENDI WIJAYA ",
          " KHABIB ",
          " KHOIRUL MUCHLISIN ",
          " KRISNA AJI PERMADI ",
          " KRISNA FAIZALDHI HIDAYAT ",
          " MICO DWI SAPUTRO ",
          " MOCH FATJAR SUBKHAN ",
          " MOCH. ALIH AFRIL ARDIYANSYAH ",
          " MOH CHOIRUL FALAH ",
          " MOH. ARYA FAHTUREZI ",
          " MOHAMMAD DHARONI ",
          " MOHAMMAD DZULFIKRI YAZID ",
          " MOHAMMAD ILHAM RAFIKI ",
          " MOHAMMAD MUFTI FIRMANSYAH ",
          " MUHAMAD ADAM ZAMZAMI ",
          " MUHAMMAD ARI PUTRA ANANDA ",
          " MUHAMMAD RAFID FADHILAH ",
          " MUHAMMAD RIDHO PRASETYO ",
          " MUHAMMAD SYAIFUDIN MARUF ",
          " MUHAMMAD TAUFIK HIDAYAT ",
          " MUHAMMAD YUSRON IRHAMNI ",
          " MUHAMMAD ZUHDA MUSYAFFA ",
          " MUHAMMAD ZUKHRUF ARIYAFANNI ",
          " NAMIRA LANGIT DHIYA'ULHIKMA NASHRULLAH ",
          " NANDA PRAYOGA ",
          " NUR ROSYIID HENDRA SAPUTRA ",
          " PRADIKA ALANSYAH ",
          " PRAYOGO BUDI LAKSONO ",
          " RADITYA FAJAR ABIMANYU ",
          " RAHMAT AZIS NUGROHO ",
          " RAMADHAN ADI SATRIA ",
          " RAMANIDITYO MUSTOFA ",
          " REGA ALVINO CAHYA ",
          " REHAN BAGAS ARDEVA ",
          " REHAN PUTRA PEMBAJENG "
         ],
         "xaxis": "x",
         "y": [
          1,
          34,
          13,
          2,
          19,
          9,
          6,
          12,
          35,
          11,
          3,
          31,
          24,
          19,
          16,
          5,
          30,
          27,
          29,
          33,
          35,
          24,
          28,
          18,
          17,
          14,
          9,
          8,
          26,
          32,
          4,
          21,
          7,
          22,
          23,
          15
         ],
         "yaxis": "y"
        }
       ],
       "layout": {
        "annotations": [
         {
          "font": {
           "size": 16
          },
          "showarrow": false,
          "text": "5 Siswa Dengan Jumlah Nilai Tertinggi",
          "x": 0.24230769230769236,
          "xanchor": "center",
          "xref": "paper",
          "y": 1,
          "yanchor": "bottom",
          "yref": "paper"
         },
         {
          "font": {
           "size": 16
          },
          "showarrow": false,
          "text": "5 Siswa Dengan Jumlah Nilai Tertinggi",
          "x": 0.7923076923076925,
          "xanchor": "center",
          "xref": "paper",
          "y": 1,
          "yanchor": "bottom",
          "yref": "paper"
         },
         {
          "font": {
           "size": 16
          },
          "showarrow": false,
          "text": "Data Ranking Siswa TPM Semester 1 dan 2",
          "x": 0.5000000000000001,
          "xanchor": "center",
          "xref": "paper",
          "y": 0.46,
          "yanchor": "bottom",
          "yref": "paper"
         }
        ],
        "autosize": true,
        "bargap": 0.15,
        "font": {
         "color": "#8a8d93"
        },
        "hoverlabel": {
         "bgcolor": "#f2f2f2",
         "font": {
          "family": "Lato, sans-serif",
          "size": 13
         }
        },
        "legend": {
         "x": 1.37,
         "xanchor": "right",
         "y": 0.7,
         "yanchor": "top"
        },
        "margin": {
         "b": 0,
         "l": 20,
         "r": 20
        },
        "showlegend": true,
        "template": {
         "data": {
          "bar": [
           {
            "error_x": {
             "color": "#2a3f5f"
            },
            "error_y": {
             "color": "#2a3f5f"
            },
            "marker": {
             "line": {
              "color": "white",
              "width": 0.5
             },
             "pattern": {
              "fillmode": "overlay",
              "size": 10,
              "solidity": 0.2
             }
            },
            "type": "bar"
           }
          ],
          "barpolar": [
           {
            "marker": {
             "line": {
              "color": "white",
              "width": 0.5
             },
             "pattern": {
              "fillmode": "overlay",
              "size": 10,
              "solidity": 0.2
             }
            },
            "type": "barpolar"
           }
          ],
          "carpet": [
           {
            "aaxis": {
             "endlinecolor": "#2a3f5f",
             "gridcolor": "#C8D4E3",
             "linecolor": "#C8D4E3",
             "minorgridcolor": "#C8D4E3",
             "startlinecolor": "#2a3f5f"
            },
            "baxis": {
             "endlinecolor": "#2a3f5f",
             "gridcolor": "#C8D4E3",
             "linecolor": "#C8D4E3",
             "minorgridcolor": "#C8D4E3",
             "startlinecolor": "#2a3f5f"
            },
            "type": "carpet"
           }
          ],
          "choropleth": [
           {
            "colorbar": {
             "outlinewidth": 0,
             "ticks": ""
            },
            "type": "choropleth"
           }
          ],
          "contour": [
           {
            "colorbar": {
             "outlinewidth": 0,
             "ticks": ""
            },
            "colorscale": [
             [
              0,
              "#0d0887"
             ],
             [
              0.1111111111111111,
              "#46039f"
             ],
             [
              0.2222222222222222,
              "#7201a8"
             ],
             [
              0.3333333333333333,
              "#9c179e"
             ],
             [
              0.4444444444444444,
              "#bd3786"
             ],
             [
              0.5555555555555556,
              "#d8576b"
             ],
             [
              0.6666666666666666,
              "#ed7953"
             ],
             [
              0.7777777777777778,
              "#fb9f3a"
             ],
             [
              0.8888888888888888,
              "#fdca26"
             ],
             [
              1,
              "#f0f921"
             ]
            ],
            "type": "contour"
           }
          ],
          "contourcarpet": [
           {
            "colorbar": {
             "outlinewidth": 0,
             "ticks": ""
            },
            "type": "contourcarpet"
           }
          ],
          "heatmap": [
           {
            "colorbar": {
             "outlinewidth": 0,
             "ticks": ""
            },
            "colorscale": [
             [
              0,
              "#0d0887"
             ],
             [
              0.1111111111111111,
              "#46039f"
             ],
             [
              0.2222222222222222,
              "#7201a8"
             ],
             [
              0.3333333333333333,
              "#9c179e"
             ],
             [
              0.4444444444444444,
              "#bd3786"
             ],
             [
              0.5555555555555556,
              "#d8576b"
             ],
             [
              0.6666666666666666,
              "#ed7953"
             ],
             [
              0.7777777777777778,
              "#fb9f3a"
             ],
             [
              0.8888888888888888,
              "#fdca26"
             ],
             [
              1,
              "#f0f921"
             ]
            ],
            "type": "heatmap"
           }
          ],
          "heatmapgl": [
           {
            "colorbar": {
             "outlinewidth": 0,
             "ticks": ""
            },
            "colorscale": [
             [
              0,
              "#0d0887"
             ],
             [
              0.1111111111111111,
              "#46039f"
             ],
             [
              0.2222222222222222,
              "#7201a8"
             ],
             [
              0.3333333333333333,
              "#9c179e"
             ],
             [
              0.4444444444444444,
              "#bd3786"
             ],
             [
              0.5555555555555556,
              "#d8576b"
             ],
             [
              0.6666666666666666,
              "#ed7953"
             ],
             [
              0.7777777777777778,
              "#fb9f3a"
             ],
             [
              0.8888888888888888,
              "#fdca26"
             ],
             [
              1,
              "#f0f921"
             ]
            ],
            "type": "heatmapgl"
           }
          ],
          "histogram": [
           {
            "marker": {
             "pattern": {
              "fillmode": "overlay",
              "size": 10,
              "solidity": 0.2
             }
            },
            "type": "histogram"
           }
          ],
          "histogram2d": [
           {
            "colorbar": {
             "outlinewidth": 0,
             "ticks": ""
            },
            "colorscale": [
             [
              0,
              "#0d0887"
             ],
             [
              0.1111111111111111,
              "#46039f"
             ],
             [
              0.2222222222222222,
              "#7201a8"
             ],
             [
              0.3333333333333333,
              "#9c179e"
             ],
             [
              0.4444444444444444,
              "#bd3786"
             ],
             [
              0.5555555555555556,
              "#d8576b"
             ],
             [
              0.6666666666666666,
              "#ed7953"
             ],
             [
              0.7777777777777778,
              "#fb9f3a"
             ],
             [
              0.8888888888888888,
              "#fdca26"
             ],
             [
              1,
              "#f0f921"
             ]
            ],
            "type": "histogram2d"
           }
          ],
          "histogram2dcontour": [
           {
            "colorbar": {
             "outlinewidth": 0,
             "ticks": ""
            },
            "colorscale": [
             [
              0,
              "#0d0887"
             ],
             [
              0.1111111111111111,
              "#46039f"
             ],
             [
              0.2222222222222222,
              "#7201a8"
             ],
             [
              0.3333333333333333,
              "#9c179e"
             ],
             [
              0.4444444444444444,
              "#bd3786"
             ],
             [
              0.5555555555555556,
              "#d8576b"
             ],
             [
              0.6666666666666666,
              "#ed7953"
             ],
             [
              0.7777777777777778,
              "#fb9f3a"
             ],
             [
              0.8888888888888888,
              "#fdca26"
             ],
             [
              1,
              "#f0f921"
             ]
            ],
            "type": "histogram2dcontour"
           }
          ],
          "mesh3d": [
           {
            "colorbar": {
             "outlinewidth": 0,
             "ticks": ""
            },
            "type": "mesh3d"
           }
          ],
          "parcoords": [
           {
            "line": {
             "colorbar": {
              "outlinewidth": 0,
              "ticks": ""
             }
            },
            "type": "parcoords"
           }
          ],
          "pie": [
           {
            "automargin": true,
            "type": "pie"
           }
          ],
          "scatter": [
           {
            "marker": {
             "colorbar": {
              "outlinewidth": 0,
              "ticks": ""
             }
            },
            "type": "scatter"
           }
          ],
          "scatter3d": [
           {
            "line": {
             "colorbar": {
              "outlinewidth": 0,
              "ticks": ""
             }
            },
            "marker": {
             "colorbar": {
              "outlinewidth": 0,
              "ticks": ""
             }
            },
            "type": "scatter3d"
           }
          ],
          "scattercarpet": [
           {
            "marker": {
             "colorbar": {
              "outlinewidth": 0,
              "ticks": ""
             }
            },
            "type": "scattercarpet"
           }
          ],
          "scattergeo": [
           {
            "marker": {
             "colorbar": {
              "outlinewidth": 0,
              "ticks": ""
             }
            },
            "type": "scattergeo"
           }
          ],
          "scattergl": [
           {
            "marker": {
             "colorbar": {
              "outlinewidth": 0,
              "ticks": ""
             }
            },
            "type": "scattergl"
           }
          ],
          "scattermapbox": [
           {
            "marker": {
             "colorbar": {
              "outlinewidth": 0,
              "ticks": ""
             }
            },
            "type": "scattermapbox"
           }
          ],
          "scatterpolar": [
           {
            "marker": {
             "colorbar": {
              "outlinewidth": 0,
              "ticks": ""
             }
            },
            "type": "scatterpolar"
           }
          ],
          "scatterpolargl": [
           {
            "marker": {
             "colorbar": {
              "outlinewidth": 0,
              "ticks": ""
             }
            },
            "type": "scatterpolargl"
           }
          ],
          "scatterternary": [
           {
            "marker": {
             "colorbar": {
              "outlinewidth": 0,
              "ticks": ""
             }
            },
            "type": "scatterternary"
           }
          ],
          "surface": [
           {
            "colorbar": {
             "outlinewidth": 0,
             "ticks": ""
            },
            "colorscale": [
             [
              0,
              "#0d0887"
             ],
             [
              0.1111111111111111,
              "#46039f"
             ],
             [
              0.2222222222222222,
              "#7201a8"
             ],
             [
              0.3333333333333333,
              "#9c179e"
             ],
             [
              0.4444444444444444,
              "#bd3786"
             ],
             [
              0.5555555555555556,
              "#d8576b"
             ],
             [
              0.6666666666666666,
              "#ed7953"
             ],
             [
              0.7777777777777778,
              "#fb9f3a"
             ],
             [
              0.8888888888888888,
              "#fdca26"
             ],
             [
              1,
              "#f0f921"
             ]
            ],
            "type": "surface"
           }
          ],
          "table": [
           {
            "cells": {
             "fill": {
              "color": "#EBF0F8"
             },
             "line": {
              "color": "white"
             }
            },
            "header": {
             "fill": {
              "color": "#C8D4E3"
             },
             "line": {
              "color": "white"
             }
            },
            "type": "table"
           }
          ]
         },
         "layout": {
          "annotationdefaults": {
           "arrowcolor": "#2a3f5f",
           "arrowhead": 0,
           "arrowwidth": 1
          },
          "autotypenumbers": "strict",
          "coloraxis": {
           "colorbar": {
            "outlinewidth": 0,
            "ticks": ""
           }
          },
          "colorscale": {
           "diverging": [
            [
             0,
             "#8e0152"
            ],
            [
             0.1,
             "#c51b7d"
            ],
            [
             0.2,
             "#de77ae"
            ],
            [
             0.3,
             "#f1b6da"
            ],
            [
             0.4,
             "#fde0ef"
            ],
            [
             0.5,
             "#f7f7f7"
            ],
            [
             0.6,
             "#e6f5d0"
            ],
            [
             0.7,
             "#b8e186"
            ],
            [
             0.8,
             "#7fbc41"
            ],
            [
             0.9,
             "#4d9221"
            ],
            [
             1,
             "#276419"
            ]
           ],
           "sequential": [
            [
             0,
             "#0d0887"
            ],
            [
             0.1111111111111111,
             "#46039f"
            ],
            [
             0.2222222222222222,
             "#7201a8"
            ],
            [
             0.3333333333333333,
             "#9c179e"
            ],
            [
             0.4444444444444444,
             "#bd3786"
            ],
            [
             0.5555555555555556,
             "#d8576b"
            ],
            [
             0.6666666666666666,
             "#ed7953"
            ],
            [
             0.7777777777777778,
             "#fb9f3a"
            ],
            [
             0.8888888888888888,
             "#fdca26"
            ],
            [
             1,
             "#f0f921"
            ]
           ],
           "sequentialminus": [
            [
             0,
             "#0d0887"
            ],
            [
             0.1111111111111111,
             "#46039f"
            ],
            [
             0.2222222222222222,
             "#7201a8"
            ],
            [
             0.3333333333333333,
             "#9c179e"
            ],
            [
             0.4444444444444444,
             "#bd3786"
            ],
            [
             0.5555555555555556,
             "#d8576b"
            ],
            [
             0.6666666666666666,
             "#ed7953"
            ],
            [
             0.7777777777777778,
             "#fb9f3a"
            ],
            [
             0.8888888888888888,
             "#fdca26"
            ],
            [
             1,
             "#f0f921"
            ]
           ]
          },
          "colorway": [
           "#636efa",
           "#EF553B",
           "#00cc96",
           "#ab63fa",
           "#FFA15A",
           "#19d3f3",
           "#FF6692",
           "#B6E880",
           "#FF97FF",
           "#FECB52"
          ],
          "font": {
           "color": "#2a3f5f"
          },
          "geo": {
           "bgcolor": "white",
           "lakecolor": "white",
           "landcolor": "white",
           "showlakes": true,
           "showland": true,
           "subunitcolor": "#C8D4E3"
          },
          "hoverlabel": {
           "align": "left"
          },
          "hovermode": "closest",
          "mapbox": {
           "style": "light"
          },
          "paper_bgcolor": "white",
          "plot_bgcolor": "white",
          "polar": {
           "angularaxis": {
            "gridcolor": "#EBF0F8",
            "linecolor": "#EBF0F8",
            "ticks": ""
           },
           "bgcolor": "white",
           "radialaxis": {
            "gridcolor": "#EBF0F8",
            "linecolor": "#EBF0F8",
            "ticks": ""
           }
          },
          "scene": {
           "xaxis": {
            "backgroundcolor": "white",
            "gridcolor": "#DFE8F3",
            "gridwidth": 2,
            "linecolor": "#EBF0F8",
            "showbackground": true,
            "ticks": "",
            "zerolinecolor": "#EBF0F8"
           },
           "yaxis": {
            "backgroundcolor": "white",
            "gridcolor": "#DFE8F3",
            "gridwidth": 2,
            "linecolor": "#EBF0F8",
            "showbackground": true,
            "ticks": "",
            "zerolinecolor": "#EBF0F8"
           },
           "zaxis": {
            "backgroundcolor": "white",
            "gridcolor": "#DFE8F3",
            "gridwidth": 2,
            "linecolor": "#EBF0F8",
            "showbackground": true,
            "ticks": "",
            "zerolinecolor": "#EBF0F8"
           }
          },
          "shapedefaults": {
           "line": {
            "color": "#2a3f5f"
           }
          },
          "ternary": {
           "aaxis": {
            "gridcolor": "#DFE8F3",
            "linecolor": "#A2B1C6",
            "ticks": ""
           },
           "baxis": {
            "gridcolor": "#DFE8F3",
            "linecolor": "#A2B1C6",
            "ticks": ""
           },
           "bgcolor": "white",
           "caxis": {
            "gridcolor": "#DFE8F3",
            "linecolor": "#A2B1C6",
            "ticks": ""
           }
          },
          "title": {
           "x": 0.05
          },
          "xaxis": {
           "automargin": true,
           "gridcolor": "#EBF0F8",
           "linecolor": "#EBF0F8",
           "ticks": "",
           "title": {
            "standoff": 15
           },
           "zerolinecolor": "#EBF0F8",
           "zerolinewidth": 2
          },
          "yaxis": {
           "automargin": true,
           "gridcolor": "#EBF0F8",
           "linecolor": "#EBF0F8",
           "ticks": "",
           "title": {
            "standoff": 15
           },
           "zerolinecolor": "#EBF0F8",
           "zerolinewidth": 2
          }
         }
        },
        "title": {
         "font": {
          "color": "#8a8d93",
          "family": "Lato, sans-serif",
          "size": 25
         },
         "text": "Data Nilai Dan Ranking"
        },
        "xaxis": {
         "anchor": "y",
         "autorange": true,
         "domain": [
          0,
          1
         ],
         "range": [
          -2.1950171821305844,
          37.195017182130584
         ],
         "tickmode": "array",
         "ticktext": [
          1,
          2,
          3,
          4,
          5,
          6,
          7,
          8,
          9,
          10,
          11,
          12,
          13,
          14,
          15,
          16,
          17,
          18,
          19,
          20,
          21,
          22,
          23,
          24,
          25,
          26,
          27,
          28,
          29,
          30,
          31,
          32,
          33,
          34,
          35
         ],
         "tickvals": [
          1,
          2,
          3,
          4,
          5,
          6,
          7,
          8,
          9,
          10,
          11,
          12,
          13,
          14,
          15,
          16,
          17,
          18,
          19,
          20,
          21,
          22,
          23,
          24,
          25,
          26,
          27,
          28,
          29,
          30,
          31,
          32,
          33,
          34,
          35
         ],
         "type": "category"
        },
        "yaxis": {
         "anchor": "x",
         "autorange": true,
         "domain": [
          0,
          0.46
         ],
         "range": [
          -1.7120771878849133,
          38.712077187884915
         ],
         "type": "linear",
         "visible": false
        }
       }
      },
      "image/png": "[encoded data removed]",
      "text/html": [
       "<div>                            <div id=\"9582442d-1967-425e-a22c-7f98df8fdd6c\" class=\"plotly-graph-div\" style=\"height:600px; width:100%;\"></div>            <script type=\"text/javascript\">                require([\"plotly\"], function(Plotly) {                    window.PLOTLYENV=window.PLOTLYENV || {};                                    if (document.getElementById(\"9582442d-1967-425e-a22c-7f98df8fdd6c\")) {                    Plotly.newPlot(                        \"9582442d-1967-425e-a22c-7f98df8fdd6c\",                        [{\"domain\":{\"x\":[0.5846153846153848,1.0],\"y\":[0.54,1.0]},\"hole\":0.7,\"hoverinfo\":\"label+percent+value\",\"labels\":[\" RAHMAT AZIS NUGROHO \",\" MUHAMAD ADAM ZAMZAMI \",\" JAYADI DWI HANDOYO \",\" PRADIKA ALANSYAH \",\" NANDA PRAYOGA \"],\"legendgroup\":\"group2\",\"legendgrouptitle\":{\"text\":\"Semester 1\"},\"marker\":{\"colors\":[\"#334668\",\"#496595\",\"#6D83AA\",\"#91A2BF\",\"#C8D0DF\"]},\"name\":\"Quarter\",\"textinfo\":\"percent\",\"values\":[2458.0,2452.0,2449.0,2422.0,2422.0],\"type\":\"pie\"},{\"domain\":{\"x\":[0.0,0.4846153846153847],\"y\":[0.54,1.0]},\"hole\":0.7,\"hoverinfo\":\"label+percent+value\",\"labels\":[\" JAYADI DWI HANDOYO \",\" KHOIRUL MUCHLISIN \",\" MOH. ARYA FAHTUREZI \",\" RAHMAT AZIS NUGROHO \",\" MUHAMAD ADAM ZAMZAMI \"],\"legendgroup\":\"group1\",\"legendgrouptitle\":{\"text\":\"Semester 2\"},\"marker\":{\"colors\":[\"#684033\",\"#955849 \",\"#AA7D6D \",\"#BF9A91 \",\"#DFCCC8\"]},\"name\":\"Quarter\",\"textinfo\":\"percent\",\"values\":[2567.0,2554.0,2539.0,2533.0,2530.0],\"type\":\"pie\"},{\"fillcolor\":\"#c6ccd8\",\"hoverinfo\":\"text\",\"legendgroup\":\"group3\",\"legendgrouptitle\":{\"text\":\"Ranking\"},\"marker\":{\"color\":\"#496595\"},\"mode\":\"lines+markers\",\"name\":\"Semester 1\",\"text\":[\"Nama :  JAYADI DWI HANDOYO <br>Rank : 3\",\"Nama :  JOVAN HENDI WIJAYA <br>Rank : 36\",\"Nama :  KHABIB <br>Rank : 15\",\"Nama :  KHOIRUL MUCHLISIN <br>Rank : 9\",\"Nama :  KRISNA AJI PERMADI <br>Rank : 28\",\"Nama :  KRISNA FAIZALDHI HIDAYAT <br>Rank : 14\",\"Nama :  MICO DWI SAPUTRO <br>Rank : 17\",\"Nama :  MOCH FATJAR SUBKHAN <br>Rank : 22\",\"Nama :  MOCH. ALIH AFRIL ARDIYANSYAH <br>Rank : 35\",\"Nama :  MOH CHOIRUL FALAH <br>Rank : 4\",\"Nama :  MOH. ARYA FAHTUREZI <br>Rank : 7\",\"Nama :  MOHAMMAD DHARONI <br>Rank : 17\",\"Nama :  MOHAMMAD DZULFIKRI YAZID <br>Rank : 16\",\"Nama :  MOHAMMAD ILHAM RAFIKI <br>Rank : 7\",\"Nama :  MOHAMMAD MUFTI FIRMANSYAH <br>Rank : 13\",\"Nama :  MUHAMAD ADAM ZAMZAMI <br>Rank : 2\",\"Nama :  MUHAMMAD ARI PUTRA ANANDA <br>Rank : 26\",\"Nama :  MUHAMMAD RAFID FADHILAH <br>Rank : 30\",\"Nama :  MUHAMMAD RIDHO PRASETYO <br>Rank : 34\",\"Nama :  MUHAMMAD SYAIFUDIN MARUF <br>Rank : 32\",\"Nama :  MUHAMMAD TAUFIK HIDAYAT <br>Rank : 29\",\"Nama :  MUHAMMAD YUSRON IRHAMNI <br>Rank : 27\",\"Nama :  MUHAMMAD ZUHDA MUSYAFFA <br>Rank : 33\",\"Nama :  MUHAMMAD ZUKHRUF ARIYAFANNI <br>Rank : 24\",\"Nama :  NAMIRA LANGIT DHIYA'ULHIKMA NASHRULLAH <br>Rank : 23\",\"Nama :  NANDA PRAYOGA <br>Rank : 4\",\"Nama :  NUR ROSYIID HENDRA SAPUTRA <br>Rank : 10\",\"Nama :  PRADIKA ALANSYAH <br>Rank : 4\",\"Nama :  PRAYOGO BUDI LAKSONO <br>Rank : 21\",\"Nama :  RADITYA FAJAR ABIMANYU <br>Rank : 31\",\"Nama :  RAHMAT AZIS NUGROHO <br>Rank : 1\",\"Nama :  RAMADHAN ADI SATRIA <br>Rank : 25\",\"Nama :  RAMANIDITYO MUSTOFA <br>Rank : 11\",\"Nama :  REGA ALVINO CAHYA <br>Rank : 20\",\"Nama :  REHAN BAGAS ARDEVA <br>Rank : 12\",\"Nama :  REHAN PUTRA PEMBAJENG <br>Rank : 19\"],\"x\":[\" JAYADI DWI HANDOYO \",\" JOVAN HENDI WIJAYA \",\" KHABIB \",\" KHOIRUL MUCHLISIN \",\" KRISNA AJI PERMADI \",\" KRISNA FAIZALDHI HIDAYAT \",\" MICO DWI SAPUTRO \",\" MOCH FATJAR SUBKHAN \",\" MOCH. ALIH AFRIL ARDIYANSYAH \",\" MOH CHOIRUL FALAH \",\" MOH. ARYA FAHTUREZI \",\" MOHAMMAD DHARONI \",\" MOHAMMAD DZULFIKRI YAZID \",\" MOHAMMAD ILHAM RAFIKI \",\" MOHAMMAD MUFTI FIRMANSYAH \",\" MUHAMAD ADAM ZAMZAMI \",\" MUHAMMAD ARI PUTRA ANANDA \",\" MUHAMMAD RAFID FADHILAH \",\" MUHAMMAD RIDHO PRASETYO \",\" MUHAMMAD SYAIFUDIN MARUF \",\" MUHAMMAD TAUFIK HIDAYAT \",\" MUHAMMAD YUSRON IRHAMNI \",\" MUHAMMAD ZUHDA MUSYAFFA \",\" MUHAMMAD ZUKHRUF ARIYAFANNI \",\" NAMIRA LANGIT DHIYA'ULHIKMA NASHRULLAH \",\" NANDA PRAYOGA \",\" NUR ROSYIID HENDRA SAPUTRA \",\" PRADIKA ALANSYAH \",\" PRAYOGO BUDI LAKSONO \",\" RADITYA FAJAR ABIMANYU \",\" RAHMAT AZIS NUGROHO \",\" RAMADHAN ADI SATRIA \",\" RAMANIDITYO MUSTOFA \",\" REGA ALVINO CAHYA \",\" REHAN BAGAS ARDEVA \",\" REHAN PUTRA PEMBAJENG \"],\"xaxis\":\"x\",\"y\":[3,36,15,9,28,14,17,22,35,4,7,17,16,7,13,2,26,30,34,32,29,27,33,24,23,4,10,4,21,31,1,25,11,20,12,19],\"yaxis\":\"y\",\"type\":\"scatter\"},{\"fillcolor\":\"#c6ccd8\",\"hoverinfo\":\"text\",\"legendgroup\":\"group3\",\"legendgrouptitle\":{\"text\":\"Ranking\"},\"marker\":{\"color\":\"#FF6246\"},\"mode\":\"lines\",\"name\":\"Semester 2\",\"text\":[\"Nama :  JAYADI DWI HANDOYO <br>Rank : 1\",\"Nama :  JOVAN HENDI WIJAYA <br>Rank : 34\",\"Nama :  KHABIB <br>Rank : 13\",\"Nama :  KHOIRUL MUCHLISIN <br>Rank : 2\",\"Nama :  KRISNA AJI PERMADI <br>Rank : 19\",\"Nama :  KRISNA FAIZALDHI HIDAYAT <br>Rank : 9\",\"Nama :  MICO DWI SAPUTRO <br>Rank : 6\",\"Nama :  MOCH FATJAR SUBKHAN <br>Rank : 12\",\"Nama :  MOCH. ALIH AFRIL ARDIYANSYAH <br>Rank : 35\",\"Nama :  MOH CHOIRUL FALAH <br>Rank : 11\",\"Nama :  MOH. ARYA FAHTUREZI <br>Rank : 3\",\"Nama :  MOHAMMAD DHARONI <br>Rank : 31\",\"Nama :  MOHAMMAD DZULFIKRI YAZID <br>Rank : 24\",\"Nama :  MOHAMMAD ILHAM RAFIKI <br>Rank : 19\",\"Nama :  MOHAMMAD MUFTI FIRMANSYAH <br>Rank : 16\",\"Nama :  MUHAMAD ADAM ZAMZAMI <br>Rank : 5\",\"Nama :  MUHAMMAD ARI PUTRA ANANDA <br>Rank : 30\",\"Nama :  MUHAMMAD RAFID FADHILAH <br>Rank : 27\",\"Nama :  MUHAMMAD RIDHO PRASETYO <br>Rank : 29\",\"Nama :  MUHAMMAD SYAIFUDIN MARUF <br>Rank : 33\",\"Nama :  MUHAMMAD TAUFIK HIDAYAT <br>Rank : 35\",\"Nama :  MUHAMMAD YUSRON IRHAMNI <br>Rank : 24\",\"Nama :  MUHAMMAD ZUHDA MUSYAFFA <br>Rank : 28\",\"Nama :  MUHAMMAD ZUKHRUF ARIYAFANNI <br>Rank : 18\",\"Nama :  NAMIRA LANGIT DHIYA'ULHIKMA NASHRULLAH <br>Rank : 17\",\"Nama :  NANDA PRAYOGA <br>Rank : 14\",\"Nama :  NUR ROSYIID HENDRA SAPUTRA <br>Rank : 9\",\"Nama :  PRADIKA ALANSYAH <br>Rank : 8\",\"Nama :  PRAYOGO BUDI LAKSONO <br>Rank : 26\",\"Nama :  RADITYA FAJAR ABIMANYU <br>Rank : 32\",\"Nama :  RAHMAT AZIS NUGROHO <br>Rank : 4\",\"Nama :  RAMADHAN ADI SATRIA <br>Rank : 21\",\"Nama :  RAMANIDITYO MUSTOFA <br>Rank : 7\",\"Nama :  REGA ALVINO CAHYA <br>Rank : 22\",\"Nama :  REHAN BAGAS ARDEVA <br>Rank : 23\",\"Nama :  REHAN PUTRA PEMBAJENG <br>Rank : 15\"],\"x\":[\" JAYADI DWI HANDOYO \",\" JOVAN HENDI WIJAYA \",\" KHABIB \",\" KHOIRUL MUCHLISIN \",\" KRISNA AJI PERMADI \",\" KRISNA FAIZALDHI HIDAYAT \",\" MICO DWI SAPUTRO \",\" MOCH FATJAR SUBKHAN \",\" MOCH. ALIH AFRIL ARDIYANSYAH \",\" MOH CHOIRUL FALAH \",\" MOH. ARYA FAHTUREZI \",\" MOHAMMAD DHARONI \",\" MOHAMMAD DZULFIKRI YAZID \",\" MOHAMMAD ILHAM RAFIKI \",\" MOHAMMAD MUFTI FIRMANSYAH \",\" MUHAMAD ADAM ZAMZAMI \",\" MUHAMMAD ARI PUTRA ANANDA \",\" MUHAMMAD RAFID FADHILAH \",\" MUHAMMAD RIDHO PRASETYO \",\" MUHAMMAD SYAIFUDIN MARUF \",\" MUHAMMAD TAUFIK HIDAYAT \",\" MUHAMMAD YUSRON IRHAMNI \",\" MUHAMMAD ZUHDA MUSYAFFA \",\" MUHAMMAD ZUKHRUF ARIYAFANNI \",\" NAMIRA LANGIT DHIYA'ULHIKMA NASHRULLAH \",\" NANDA PRAYOGA \",\" NUR ROSYIID HENDRA SAPUTRA \",\" PRADIKA ALANSYAH \",\" PRAYOGO BUDI LAKSONO \",\" RADITYA FAJAR ABIMANYU \",\" RAHMAT AZIS NUGROHO \",\" RAMADHAN ADI SATRIA \",\" RAMANIDITYO MUSTOFA \",\" REGA ALVINO CAHYA \",\" REHAN BAGAS ARDEVA \",\" REHAN PUTRA PEMBAJENG \"],\"xaxis\":\"x\",\"y\":[1,34,13,2,19,9,6,12,35,11,3,31,24,19,16,5,30,27,29,33,35,24,28,18,17,14,9,8,26,32,4,21,7,22,23,15],\"yaxis\":\"y\",\"type\":\"scatter\"}],                        {\"annotations\":[{\"font\":{\"size\":16},\"showarrow\":false,\"text\":\"5 Siswa Dengan Jumlah Nilai Tertinggi\",\"x\":0.24230769230769236,\"xanchor\":\"center\",\"xref\":\"paper\",\"y\":1.0,\"yanchor\":\"bottom\",\"yref\":\"paper\"},{\"font\":{\"size\":16},\"showarrow\":false,\"text\":\"5 Siswa Dengan Jumlah Nilai Tertinggi\",\"x\":0.7923076923076925,\"xanchor\":\"center\",\"xref\":\"paper\",\"y\":1.0,\"yanchor\":\"bottom\",\"yref\":\"paper\"},{\"font\":{\"size\":16},\"showarrow\":false,\"text\":\"Data Ranking Siswa TPM Semester 1 dan 2\",\"x\":0.5000000000000001,\"xanchor\":\"center\",\"xref\":\"paper\",\"y\":0.46,\"yanchor\":\"bottom\",\"yref\":\"paper\"}],\"bargap\":0.15,\"font\":{\"color\":\"#8a8d93\"},\"height\":600,\"hoverlabel\":{\"bgcolor\":\"#f2f2f2\",\"font\":{\"family\":\"Lato, sans-serif\",\"size\":13}},\"legend\":{\"x\":1.37,\"xanchor\":\"right\",\"y\":0.7,\"yanchor\":\"top\"},\"margin\":{\"b\":0,\"l\":20,\"r\":20},\"showlegend\":true,\"template\":{\"data\":{\"barpolar\":[{\"marker\":{\"line\":{\"color\":\"white\",\"width\":0.5},\"pattern\":{\"fillmode\":\"overlay\",\"size\":10,\"solidity\":0.2}},\"type\":\"barpolar\"}],\"bar\":[{\"error_x\":{\"color\":\"#2a3f5f\"},\"error_y\":{\"color\":\"#2a3f5f\"},\"marker\":{\"line\":{\"color\":\"white\",\"width\":0.5},\"pattern\":{\"fillmode\":\"overlay\",\"size\":10,\"solidity\":0.2}},\"type\":\"bar\"}],\"carpet\":[{\"aaxis\":{\"endlinecolor\":\"#2a3f5f\",\"gridcolor\":\"#C8D4E3\",\"linecolor\":\"#C8D4E3\",\"minorgridcolor\":\"#C8D4E3\",\"startlinecolor\":\"#2a3f5f\"},\"baxis\":{\"endlinecolor\":\"#2a3f5f\",\"gridcolor\":\"#C8D4E3\",\"linecolor\":\"#C8D4E3\",\"minorgridcolor\":\"#C8D4E3\",\"startlinecolor\":\"#2a3f5f\"},\"type\":\"carpet\"}],\"choropleth\":[{\"colorbar\":{\"outlinewidth\":0,\"ticks\":\"\"},\"type\":\"choropleth\"}],\"contourcarpet\":[{\"colorbar\":{\"outlinewidth\":0,\"ticks\":\"\"},\"type\":\"contourcarpet\"}],\"contour\":[{\"colorbar\":{\"outlinewidth\":0,\"ticks\":\"\"},\"colorscale\":[[0.0,\"#0d0887\"],[0.1111111111111111,\"#46039f\"],[0.2222222222222222,\"#7201a8\"],[0.3333333333333333,\"#9c179e\"],[0.4444444444444444,\"#bd3786\"],[0.5555555555555556,\"#d8576b\"],[0.6666666666666666,\"#ed7953\"],[0.7777777777777778,\"#fb9f3a\"],[0.8888888888888888,\"#fdca26\"],[1.0,\"#f0f921\"]],\"type\":\"contour\"}],\"heatmapgl\":[{\"colorbar\":{\"outlinewidth\":0,\"ticks\":\"\"},\"colorscale\":[[0.0,\"#0d0887\"],[0.1111111111111111,\"#46039f\"],[0.2222222222222222,\"#7201a8\"],[0.3333333333333333,\"#9c179e\"],[0.4444444444444444,\"#bd3786\"],[0.5555555555555556,\"#d8576b\"],[0.6666666666666666,\"#ed7953\"],[0.7777777777777778,\"#fb9f3a\"],[0.8888888888888888,\"#fdca26\"],[1.0,\"#f0f921\"]],\"type\":\"heatmapgl\"}],\"heatmap\":[{\"colorbar\":{\"outlinewidth\":0,\"ticks\":\"\"},\"colorscale\":[[0.0,\"#0d0887\"],[0.1111111111111111,\"#46039f\"],[0.2222222222222222,\"#7201a8\"],[0.3333333333333333,\"#9c179e\"],[0.4444444444444444,\"#bd3786\"],[0.5555555555555556,\"#d8576b\"],[0.6666666666666666,\"#ed7953\"],[0.7777777777777778,\"#fb9f3a\"],[0.8888888888888888,\"#fdca26\"],[1.0,\"#f0f921\"]],\"type\":\"heatmap\"}],\"histogram2dcontour\":[{\"colorbar\":{\"outlinewidth\":0,\"ticks\":\"\"},\"colorscale\":[[0.0,\"#0d0887\"],[0.1111111111111111,\"#46039f\"],[0.2222222222222222,\"#7201a8\"],[0.3333333333333333,\"#9c179e\"],[0.4444444444444444,\"#bd3786\"],[0.5555555555555556,\"#d8576b\"],[0.6666666666666666,\"#ed7953\"],[0.7777777777777778,\"#fb9f3a\"],[0.8888888888888888,\"#fdca26\"],[1.0,\"#f0f921\"]],\"type\":\"histogram2dcontour\"}],\"histogram2d\":[{\"colorbar\":{\"outlinewidth\":0,\"ticks\":\"\"},\"colorscale\":[[0.0,\"#0d0887\"],[0.1111111111111111,\"#46039f\"],[0.2222222222222222,\"#7201a8\"],[0.3333333333333333,\"#9c179e\"],[0.4444444444444444,\"#bd3786\"],[0.5555555555555556,\"#d8576b\"],[0.6666666666666666,\"#ed7953\"],[0.7777777777777778,\"#fb9f3a\"],[0.8888888888888888,\"#fdca26\"],[1.0,\"#f0f921\"]],\"type\":\"histogram2d\"}],\"histogram\":[{\"marker\":{\"pattern\":{\"fillmode\":\"overlay\",\"size\":10,\"solidity\":0.2}},\"type\":\"histogram\"}],\"mesh3d\":[{\"colorbar\":{\"outlinewidth\":0,\"ticks\":\"\"},\"type\":\"mesh3d\"}],\"parcoords\":[{\"line\":{\"colorbar\":{\"outlinewidth\":0,\"ticks\":\"\"}},\"type\":\"parcoords\"}],\"pie\":[{\"automargin\":true,\"type\":\"pie\"}],\"scatter3d\":[{\"line\":{\"colorbar\":{\"outlinewidth\":0,\"ticks\":\"\"}},\"marker\":{\"colorbar\":{\"outlinewidth\":0,\"ticks\":\"\"}},\"type\":\"scatter3d\"}],\"scattercarpet\":[{\"marker\":{\"colorbar\":{\"outlinewidth\":0,\"ticks\":\"\"}},\"type\":\"scattercarpet\"}],\"scattergeo\":[{\"marker\":{\"colorbar\":{\"outlinewidth\":0,\"ticks\":\"\"}},\"type\":\"scattergeo\"}],\"scattergl\":[{\"marker\":{\"colorbar\":{\"outlinewidth\":0,\"ticks\":\"\"}},\"type\":\"scattergl\"}],\"scattermapbox\":[{\"marker\":{\"colorbar\":{\"outlinewidth\":0,\"ticks\":\"\"}},\"type\":\"scattermapbox\"}],\"scatterpolargl\":[{\"marker\":{\"colorbar\":{\"outlinewidth\":0,\"ticks\":\"\"}},\"type\":\"scatterpolargl\"}],\"scatterpolar\":[{\"marker\":{\"colorbar\":{\"outlinewidth\":0,\"ticks\":\"\"}},\"type\":\"scatterpolar\"}],\"scatter\":[{\"marker\":{\"colorbar\":{\"outlinewidth\":0,\"ticks\":\"\"}},\"type\":\"scatter\"}],\"scatterternary\":[{\"marker\":{\"colorbar\":{\"outlinewidth\":0,\"ticks\":\"\"}},\"type\":\"scatterternary\"}],\"surface\":[{\"colorbar\":{\"outlinewidth\":0,\"ticks\":\"\"},\"colorscale\":[[0.0,\"#0d0887\"],[0.1111111111111111,\"#46039f\"],[0.2222222222222222,\"#7201a8\"],[0.3333333333333333,\"#9c179e\"],[0.4444444444444444,\"#bd3786\"],[0.5555555555555556,\"#d8576b\"],[0.6666666666666666,\"#ed7953\"],[0.7777777777777778,\"#fb9f3a\"],[0.8888888888888888,\"#fdca26\"],[1.0,\"#f0f921\"]],\"type\":\"surface\"}],\"table\":[{\"cells\":{\"fill\":{\"color\":\"#EBF0F8\"},\"line\":{\"color\":\"white\"}},\"header\":{\"fill\":{\"color\":\"#C8D4E3\"},\"line\":{\"color\":\"white\"}},\"type\":\"table\"}]},\"layout\":{\"annotationdefaults\":{\"arrowcolor\":\"#2a3f5f\",\"arrowhead\":0,\"arrowwidth\":1},\"autotypenumbers\":\"strict\",\"coloraxis\":{\"colorbar\":{\"outlinewidth\":0,\"ticks\":\"\"}},\"colorscale\":{\"diverging\":[[0,\"#8e0152\"],[0.1,\"#c51b7d\"],[0.2,\"#de77ae\"],[0.3,\"#f1b6da\"],[0.4,\"#fde0ef\"],[0.5,\"#f7f7f7\"],[0.6,\"#e6f5d0\"],[0.7,\"#b8e186\"],[0.8,\"#7fbc41\"],[0.9,\"#4d9221\"],[1,\"#276419\"]],\"sequential\":[[0.0,\"#0d0887\"],[0.1111111111111111,\"#46039f\"],[0.2222222222222222,\"#7201a8\"],[0.3333333333333333,\"#9c179e\"],[0.4444444444444444,\"#bd3786\"],[0.5555555555555556,\"#d8576b\"],[0.6666666666666666,\"#ed7953\"],[0.7777777777777778,\"#fb9f3a\"],[0.8888888888888888,\"#fdca26\"],[1.0,\"#f0f921\"]],\"sequentialminus\":[[0.0,\"#0d0887\"],[0.1111111111111111,\"#46039f\"],[0.2222222222222222,\"#7201a8\"],[0.3333333333333333,\"#9c179e\"],[0.4444444444444444,\"#bd3786\"],[0.5555555555555556,\"#d8576b\"],[0.6666666666666666,\"#ed7953\"],[0.7777777777777778,\"#fb9f3a\"],[0.8888888888888888,\"#fdca26\"],[1.0,\"#f0f921\"]]},\"colorway\":[\"#636efa\",\"#EF553B\",\"#00cc96\",\"#ab63fa\",\"#FFA15A\",\"#19d3f3\",\"#FF6692\",\"#B6E880\",\"#FF97FF\",\"#FECB52\"],\"font\":{\"color\":\"#2a3f5f\"},\"geo\":{\"bgcolor\":\"white\",\"lakecolor\":\"white\",\"landcolor\":\"white\",\"showlakes\":true,\"showland\":true,\"subunitcolor\":\"#C8D4E3\"},\"hoverlabel\":{\"align\":\"left\"},\"hovermode\":\"closest\",\"mapbox\":{\"style\":\"light\"},\"paper_bgcolor\":\"white\",\"plot_bgcolor\":\"white\",\"polar\":{\"angularaxis\":{\"gridcolor\":\"#EBF0F8\",\"linecolor\":\"#EBF0F8\",\"ticks\":\"\"},\"bgcolor\":\"white\",\"radialaxis\":{\"gridcolor\":\"#EBF0F8\",\"linecolor\":\"#EBF0F8\",\"ticks\":\"\"}},\"scene\":{\"xaxis\":{\"backgroundcolor\":\"white\",\"gridcolor\":\"#DFE8F3\",\"gridwidth\":2,\"linecolor\":\"#EBF0F8\",\"showbackground\":true,\"ticks\":\"\",\"zerolinecolor\":\"#EBF0F8\"},\"yaxis\":{\"backgroundcolor\":\"white\",\"gridcolor\":\"#DFE8F3\",\"gridwidth\":2,\"linecolor\":\"#EBF0F8\",\"showbackground\":true,\"ticks\":\"\",\"zerolinecolor\":\"#EBF0F8\"},\"zaxis\":{\"backgroundcolor\":\"white\",\"gridcolor\":\"#DFE8F3\",\"gridwidth\":2,\"linecolor\":\"#EBF0F8\",\"showbackground\":true,\"ticks\":\"\",\"zerolinecolor\":\"#EBF0F8\"}},\"shapedefaults\":{\"line\":{\"color\":\"#2a3f5f\"}},\"ternary\":{\"aaxis\":{\"gridcolor\":\"#DFE8F3\",\"linecolor\":\"#A2B1C6\",\"ticks\":\"\"},\"baxis\":{\"gridcolor\":\"#DFE8F3\",\"linecolor\":\"#A2B1C6\",\"ticks\":\"\"},\"bgcolor\":\"white\",\"caxis\":{\"gridcolor\":\"#DFE8F3\",\"linecolor\":\"#A2B1C6\",\"ticks\":\"\"}},\"title\":{\"x\":0.05},\"xaxis\":{\"automargin\":true,\"gridcolor\":\"#EBF0F8\",\"linecolor\":\"#EBF0F8\",\"ticks\":\"\",\"title\":{\"standoff\":15},\"zerolinecolor\":\"#EBF0F8\",\"zerolinewidth\":2},\"yaxis\":{\"automargin\":true,\"gridcolor\":\"#EBF0F8\",\"linecolor\":\"#EBF0F8\",\"ticks\":\"\",\"title\":{\"standoff\":15},\"zerolinecolor\":\"#EBF0F8\",\"zerolinewidth\":2}}},\"title\":{\"font\":{\"color\":\"#8a8d93\",\"family\":\"Lato, sans-serif\",\"size\":25},\"text\":\"Data Nilai Dan Ranking\"},\"xaxis\":{\"anchor\":\"y\",\"domain\":[0.0,1.0],\"tickmode\":\"array\",\"ticktext\":[1,2,3,4,5,6,7,8,9,10,11,12,13,14,15,16,17,18,19,20,21,22,23,24,25,26,27,28,29,30,31,32,33,34,35],\"tickvals\":[1,2,3,4,5,6,7,8,9,10,11,12,13,14,15,16,17,18,19,20,21,22,23,24,25,26,27,28,29,30,31,32,33,34,35]},\"yaxis\":{\"anchor\":\"x\",\"domain\":[0.0,0.46],\"visible\":false}},                        {\"responsive\": true}                    ).then(function(){\n",
       "                            \n",
       "var gd = document.getElementById('9582442d-1967-425e-a22c-7f98df8fdd6c');\n",
       "var x = new MutationObserver(function (mutations, observer) {{\n",
       "        var display = window.getComputedStyle(gd).display;\n",
       "        if (!display || display === 'none') {{\n",
       "            console.log([gd, 'removed!']);\n",
       "            Plotly.purge(gd);\n",
       "            observer.disconnect();\n",
       "        }}\n",
       "}});\n",
       "\n",
       "// Listen for the removal of the full notebook cells\n",
       "var notebookContainer = gd.closest('#notebook-container');\n",
       "if (notebookContainer) {{\n",
       "    x.observe(notebookContainer, {childList: true});\n",
       "}}\n",
       "\n",
       "// Listen for the clearing of the current output cell\n",
       "var outputEl = gd.closest('.output');\n",
       "if (outputEl) {{\n",
       "    x.observe(outputEl, {childList: true});\n",
       "}}\n",
       "\n",
       "                        })                };                });            </script>        </div>"
      ]
     },
     "metadata": {},
     "output_type": "display_data"
    }
   ],
   "source": [
    "# data\n",
    "df_m_sa = tpmc1.sort_values(by=\"JML\",ascending=False)[:5]\n",
    "df_m_sa_2 = tpmc2.sort_values(by=\"JML\",ascending=False)[:5]\n",
    "df_q_sa = pd.read_csv(\"dataset/tpmc1.csv\")\n",
    "df_tp2 = tpmc2\n",
    " \n",
    "df_q_sa['text'] = 'Nama : ' + df_q_sa['Nama'] + '<br>' + 'Rank : ' + df_q_sa['Rank'].astype(str) \n",
    "df_tp2['text'] = 'Nama : ' + df_tp2['Nama'] + '<br>' + 'Rank : ' + df_tp2['Rank'].astype(str) \n",
    "\n",
    "# chart color\n",
    "df_m_sa['color'] = '#496595'\n",
    "df_m_sa['color'][:-1] = '#c6ccd8'\n",
    "\n",
    "# chart\n",
    "fig = make_subplots(rows=2, cols=2, vertical_spacing=0.08,\n",
    "                    row_heights=[0.3, 0.3], \n",
    "                    specs=[[{\"type\": \"pie\"}, {\"type\": \"pie\"}],\n",
    "                           [{\"colspan\": 2}, None]],\n",
    "                    column_widths=[0.7, 0.6],\n",
    "                    subplot_titles=(\"5 Siswa Dengan Jumlah Nilai Tertinggi\", \"5 Siswa Dengan Jumlah Nilai Tertinggi\", \n",
    "                                    \"Data Ranking Siswa TPM Semester 1 dan 2\"))\n",
    "\n",
    "fig.add_trace(go.Pie(values=df_m_sa['JML'], labels=df_m_sa['Nama'], name='Quarter',\n",
    "                     marker=dict(colors=['#334668','#496595','#6D83AA','#91A2BF','#C8D0DF']), hole=0.7,\n",
    "                     hoverinfo='label+percent+value', textinfo='percent',legendgroup=\"group2\",\n",
    "                    legendgrouptitle_text=\"Semester 1\", ),\n",
    "                     row=1, col=2)\n",
    "fig.add_trace(go.Pie(values=df_m_sa_2['JML'], labels=df_m_sa_2['Nama'], name='Quarter',\n",
    "                     marker=dict(colors=['#684033','#955849 ','#AA7D6D ','#BF9A91 ','#DFCCC8']), hole=0.7,\n",
    "                     hoverinfo='label+percent+value', textinfo='percent',legendgroup=\"group1\",\n",
    "                    legendgrouptitle_text=\"Semester 2\", ),\n",
    "                     row=1, col=1)\n",
    "fig.add_trace(go.Scatter(x=df_q_sa['Nama'], y=df_q_sa['Rank'],mode='lines+markers', fillcolor='#c6ccd8',\n",
    "                     marker=dict(color= '#496595'), name='Semester 1',text =df_q_sa['text'],hoverinfo = 'text',\n",
    "                         legendgroup=\"group3\",\n",
    "                  legendgrouptitle_text=\"Ranking\" ),\n",
    "                     row=2, col=1)\n",
    "fig.add_trace(go.Scatter(x=df_tp2['Nama'], y=df_tp2['Rank'],mode='lines', fillcolor='#c6ccd8',\n",
    "                     marker=dict(color= '#FF6246'), name='Semester 2',text = df_tp2['text'],hoverinfo = 'text', \n",
    "                         legendgroup=\"group3\",\n",
    "                    legendgrouptitle_text=\"Ranking\", ), \n",
    "                     row=2, col=1)\n",
    "\n",
    "# styling\n",
    "fig.update_yaxes(visible=False, row=1, col=1,showgrid=True)\n",
    "fig.update_xaxes(row=1, col=1,\n",
    "                 showgrid=True)\n",
    "fig.update_xaxes(tickmode = 'array', tickvals=[i for i in range(1,36)], ticktext=[i for i in range(1,36)], \n",
    "                 row=2, col=1)\n",
    "fig.update_yaxes(visible=False, row=2, col=1)\n",
    "fig.update_layout(height=600, bargap=0.15,\n",
    "                  margin=dict(b=0,r=20,l=20), \n",
    "                  title_text=\"Data Nilai Dan Ranking\",\n",
    "                  template=\"plotly_white\",\n",
    "                  title_font=dict(size=25, color='#8a8d93', family=\"Lato, sans-serif\"),\n",
    "                  font=dict(color='#8a8d93'),\n",
    "                  hoverlabel=dict(bgcolor=\"#f2f2f2\", font_size=13, font_family=\"Lato, sans-serif\"),\n",
    "                  showlegend=True,legend=dict(\n",
    "                    yanchor=\"top\",\n",
    "                    y=0.7,\n",
    "                    xanchor=\"right\",\n",
    "                    x=1.37))\n",
    "\n",
    "offline.iplot(fig, filename = 'coba')"
   ]
  },
  {
   "cell_type": "markdown",
   "id": "46a4e364-2947-4743-8a4e-b288f3f67d9f",
   "metadata": {},
   "source": [
    "**Berdasarkan Grafik menunjukkan bahwa Ranking terendah yaitu Jovan pada Semester 1 dan pada Semester 2 yaitu Alif,\n",
    "Ranking Tertinggi Semester 1 yaitu Azis dan Semester 2 yaitu Jayadi, dan juga pada siswa lainnya tidak banyak yang mengalami perubahan ranking pada Semester 1 dan Semester 2**"
   ]
  },
  {
   "cell_type": "markdown",
   "id": "e25f026a-b663-4b41-a923-9209a060d968",
   "metadata": {},
   "source": [
    "## Penerapan Supervised Machine Learning - Linear Regression"
   ]
  },
  {
   "cell_type": "code",
   "execution_count": 17,
   "id": "98118ee0-873c-4400-856b-39b788ed3881",
   "metadata": {},
   "outputs": [],
   "source": [
    "#Importing Libraries\n",
    "from sklearn.linear_model import LinearRegression\n",
    "from sklearn.model_selection import train_test_split"
   ]
  },
  {
   "cell_type": "markdown",
   "id": "780006dd-8d8e-4f3e-94a2-f65cd311d28f",
   "metadata": {},
   "source": [
    "**Recall Dataframe Jumlah Nilai Rata-Rata**"
   ]
  },
  {
   "cell_type": "code",
   "execution_count": 18,
   "id": "bc6219d6-ec94-4489-b2e3-34c6d98df68a",
   "metadata": {},
   "outputs": [
    {
     "data": {
      "text/html": [
       "<div>\n",
       "<style scoped>\n",
       "    .dataframe tbody tr th:only-of-type {\n",
       "        vertical-align: middle;\n",
       "    }\n",
       "\n",
       "    .dataframe tbody tr th {\n",
       "        vertical-align: top;\n",
       "    }\n",
       "\n",
       "    .dataframe thead th {\n",
       "        text-align: right;\n",
       "    }\n",
       "</style>\n",
       "<table border=\"1\" class=\"dataframe\">\n",
       "  <thead>\n",
       "    <tr style=\"text-align: right;\">\n",
       "      <th></th>\n",
       "      <th>Mapel</th>\n",
       "      <th>Nilai Rata-Rata</th>\n",
       "    </tr>\n",
       "  </thead>\n",
       "  <tbody>\n",
       "    <tr>\n",
       "      <th>0</th>\n",
       "      <td>Agama</td>\n",
       "      <td>171.027778</td>\n",
       "    </tr>\n",
       "    <tr>\n",
       "      <th>1</th>\n",
       "      <td>PKN</td>\n",
       "      <td>165.944444</td>\n",
       "    </tr>\n",
       "    <tr>\n",
       "      <th>2</th>\n",
       "      <td>B. Indo</td>\n",
       "      <td>167.944444</td>\n",
       "    </tr>\n",
       "    <tr>\n",
       "      <th>3</th>\n",
       "      <td>Matematika</td>\n",
       "      <td>157.500000</td>\n",
       "    </tr>\n",
       "    <tr>\n",
       "      <th>4</th>\n",
       "      <td>Sejarah</td>\n",
       "      <td>161.861111</td>\n",
       "    </tr>\n",
       "  </tbody>\n",
       "</table>\n",
       "</div>"
      ],
      "text/plain": [
       "        Mapel  Nilai Rata-Rata\n",
       "0       Agama       171.027778\n",
       "1         PKN       165.944444\n",
       "2     B. Indo       167.944444\n",
       "3  Matematika       157.500000\n",
       "4     Sejarah       161.861111"
      ]
     },
     "execution_count": 18,
     "metadata": {},
     "output_type": "execute_result"
    }
   ],
   "source": [
    "r_tpmc1.head()"
   ]
  },
  {
   "cell_type": "code",
   "execution_count": 19,
   "id": "c87a26f7-e04c-4d45-bba9-d388c354e96f",
   "metadata": {
    "tags": []
   },
   "outputs": [
    {
     "data": {
      "text/html": [
       "<div>\n",
       "<style scoped>\n",
       "    .dataframe tbody tr th:only-of-type {\n",
       "        vertical-align: middle;\n",
       "    }\n",
       "\n",
       "    .dataframe tbody tr th {\n",
       "        vertical-align: top;\n",
       "    }\n",
       "\n",
       "    .dataframe thead th {\n",
       "        text-align: right;\n",
       "    }\n",
       "</style>\n",
       "<table border=\"1\" class=\"dataframe\">\n",
       "  <thead>\n",
       "    <tr style=\"text-align: right;\">\n",
       "      <th></th>\n",
       "      <th>Mapel</th>\n",
       "      <th>Nilai Rata-Rata</th>\n",
       "    </tr>\n",
       "  </thead>\n",
       "  <tbody>\n",
       "    <tr>\n",
       "      <th>0</th>\n",
       "      <td>Agama</td>\n",
       "      <td>170.666667</td>\n",
       "    </tr>\n",
       "    <tr>\n",
       "      <th>1</th>\n",
       "      <td>PKN</td>\n",
       "      <td>168.222222</td>\n",
       "    </tr>\n",
       "    <tr>\n",
       "      <th>2</th>\n",
       "      <td>B. Indo</td>\n",
       "      <td>172.000000</td>\n",
       "    </tr>\n",
       "    <tr>\n",
       "      <th>3</th>\n",
       "      <td>Matematika</td>\n",
       "      <td>161.444444</td>\n",
       "    </tr>\n",
       "    <tr>\n",
       "      <th>4</th>\n",
       "      <td>Sejarah</td>\n",
       "      <td>167.666667</td>\n",
       "    </tr>\n",
       "  </tbody>\n",
       "</table>\n",
       "</div>"
      ],
      "text/plain": [
       "        Mapel  Nilai Rata-Rata\n",
       "0       Agama       170.666667\n",
       "1         PKN       168.222222\n",
       "2     B. Indo       172.000000\n",
       "3  Matematika       161.444444\n",
       "4     Sejarah       167.666667"
      ]
     },
     "execution_count": 19,
     "metadata": {},
     "output_type": "execute_result"
    }
   ],
   "source": [
    "r_tpmc2.head()"
   ]
  },
  {
   "cell_type": "code",
   "execution_count": 20,
   "id": "ded0c601-b919-471a-befd-6402245d7c81",
   "metadata": {},
   "outputs": [],
   "source": [
    "# Menghapus Kolom Mapel\n",
    "\n",
    "df = r_tpmc1.drop(['Mapel'], axis=1)\n",
    "df2 = r_tpmc2.drop(['Mapel'], axis=1)"
   ]
  },
  {
   "cell_type": "code",
   "execution_count": 21,
   "id": "0dc9e882-905e-40d7-8319-d7056c7a19a8",
   "metadata": {},
   "outputs": [
    {
     "data": {
      "text/html": [
       "<div>\n",
       "<style scoped>\n",
       "    .dataframe tbody tr th:only-of-type {\n",
       "        vertical-align: middle;\n",
       "    }\n",
       "\n",
       "    .dataframe tbody tr th {\n",
       "        vertical-align: top;\n",
       "    }\n",
       "\n",
       "    .dataframe thead th {\n",
       "        text-align: right;\n",
       "    }\n",
       "</style>\n",
       "<table border=\"1\" class=\"dataframe\">\n",
       "  <thead>\n",
       "    <tr style=\"text-align: right;\">\n",
       "      <th></th>\n",
       "      <th>Nilai Rata-Rata_C1</th>\n",
       "      <th>Nilai Rata-Rata_C2</th>\n",
       "    </tr>\n",
       "  </thead>\n",
       "  <tbody>\n",
       "    <tr>\n",
       "      <th>0</th>\n",
       "      <td>171.03</td>\n",
       "      <td>170.67</td>\n",
       "    </tr>\n",
       "    <tr>\n",
       "      <th>1</th>\n",
       "      <td>165.94</td>\n",
       "      <td>168.22</td>\n",
       "    </tr>\n",
       "    <tr>\n",
       "      <th>2</th>\n",
       "      <td>167.94</td>\n",
       "      <td>172.00</td>\n",
       "    </tr>\n",
       "    <tr>\n",
       "      <th>3</th>\n",
       "      <td>157.50</td>\n",
       "      <td>161.44</td>\n",
       "    </tr>\n",
       "    <tr>\n",
       "      <th>4</th>\n",
       "      <td>161.86</td>\n",
       "      <td>167.67</td>\n",
       "    </tr>\n",
       "    <tr>\n",
       "      <th>5</th>\n",
       "      <td>147.92</td>\n",
       "      <td>160.75</td>\n",
       "    </tr>\n",
       "    <tr>\n",
       "      <th>6</th>\n",
       "      <td>166.47</td>\n",
       "      <td>173.19</td>\n",
       "    </tr>\n",
       "    <tr>\n",
       "      <th>7</th>\n",
       "      <td>164.33</td>\n",
       "      <td>167.08</td>\n",
       "    </tr>\n",
       "    <tr>\n",
       "      <th>8</th>\n",
       "      <td>161.83</td>\n",
       "      <td>165.19</td>\n",
       "    </tr>\n",
       "    <tr>\n",
       "      <th>9</th>\n",
       "      <td>162.58</td>\n",
       "      <td>169.06</td>\n",
       "    </tr>\n",
       "    <tr>\n",
       "      <th>10</th>\n",
       "      <td>154.56</td>\n",
       "      <td>162.53</td>\n",
       "    </tr>\n",
       "    <tr>\n",
       "      <th>11</th>\n",
       "      <td>153.58</td>\n",
       "      <td>157.56</td>\n",
       "    </tr>\n",
       "    <tr>\n",
       "      <th>12</th>\n",
       "      <td>148.89</td>\n",
       "      <td>165.83</td>\n",
       "    </tr>\n",
       "    <tr>\n",
       "      <th>13</th>\n",
       "      <td>152.83</td>\n",
       "      <td>169.56</td>\n",
       "    </tr>\n",
       "    <tr>\n",
       "      <th>14</th>\n",
       "      <td>157.08</td>\n",
       "      <td>162.17</td>\n",
       "    </tr>\n",
       "  </tbody>\n",
       "</table>\n",
       "</div>"
      ],
      "text/plain": [
       "    Nilai Rata-Rata_C1  Nilai Rata-Rata_C2\n",
       "0               171.03              170.67\n",
       "1               165.94              168.22\n",
       "2               167.94              172.00\n",
       "3               157.50              161.44\n",
       "4               161.86              167.67\n",
       "5               147.92              160.75\n",
       "6               166.47              173.19\n",
       "7               164.33              167.08\n",
       "8               161.83              165.19\n",
       "9               162.58              169.06\n",
       "10              154.56              162.53\n",
       "11              153.58              157.56\n",
       "12              148.89              165.83\n",
       "13              152.83              169.56\n",
       "14              157.08              162.17"
      ]
     },
     "execution_count": 21,
     "metadata": {},
     "output_type": "execute_result"
    }
   ],
   "source": [
    "# Menggabungkan 2 tabel dan Mengganti nama Kolom sesuai perSemester\n",
    "\n",
    "result = pd.concat([df.rename(columns={\"Nilai Rata-Rata\": \"Nilai Rata-Rata_C1\"}).round(2), df2.rename(columns={\"Nilai Rata-Rata\": \"Nilai Rata-Rata_C2\"}).round(2)], axis=1)\n",
    "result"
   ]
  },
  {
   "cell_type": "code",
   "execution_count": 22,
   "id": "9a93b020-5123-4de0-ab35-fa19d0bce181",
   "metadata": {},
   "outputs": [
    {
     "name": "stdout",
     "output_type": "stream",
     "text": [
      "<class 'pandas.core.frame.DataFrame'>\n",
      "Int64Index: 15 entries, 0 to 14\n",
      "Data columns (total 2 columns):\n",
      " #   Column              Non-Null Count  Dtype  \n",
      "---  ------              --------------  -----  \n",
      " 0   Nilai Rata-Rata_C1  15 non-null     float64\n",
      " 1   Nilai Rata-Rata_C2  15 non-null     float64\n",
      "dtypes: float64(2)\n",
      "memory usage: 360.0 bytes\n"
     ]
    }
   ],
   "source": [
    "#Melihat informasi data kita mulai dari jumlah data, tipe data, memory yang digunakan dll.\n",
    "result.info()"
   ]
  },
  {
   "cell_type": "code",
   "execution_count": 23,
   "id": "738aa70a-a821-414b-8495-c123f4de419e",
   "metadata": {},
   "outputs": [
    {
     "data": {
      "text/html": [
       "<div>\n",
       "<style scoped>\n",
       "    .dataframe tbody tr th:only-of-type {\n",
       "        vertical-align: middle;\n",
       "    }\n",
       "\n",
       "    .dataframe tbody tr th {\n",
       "        vertical-align: top;\n",
       "    }\n",
       "\n",
       "    .dataframe thead th {\n",
       "        text-align: right;\n",
       "    }\n",
       "</style>\n",
       "<table border=\"1\" class=\"dataframe\">\n",
       "  <thead>\n",
       "    <tr style=\"text-align: right;\">\n",
       "      <th></th>\n",
       "      <th>Nilai Rata-Rata_C1</th>\n",
       "      <th>Nilai Rata-Rata_C2</th>\n",
       "    </tr>\n",
       "  </thead>\n",
       "  <tbody>\n",
       "    <tr>\n",
       "      <th>count</th>\n",
       "      <td>15.000000</td>\n",
       "      <td>15.000000</td>\n",
       "    </tr>\n",
       "    <tr>\n",
       "      <th>mean</th>\n",
       "      <td>159.622667</td>\n",
       "      <td>166.194667</td>\n",
       "    </tr>\n",
       "    <tr>\n",
       "      <th>std</th>\n",
       "      <td>7.062380</td>\n",
       "      <td>4.526446</td>\n",
       "    </tr>\n",
       "    <tr>\n",
       "      <th>min</th>\n",
       "      <td>147.920000</td>\n",
       "      <td>157.560000</td>\n",
       "    </tr>\n",
       "    <tr>\n",
       "      <th>25%</th>\n",
       "      <td>154.070000</td>\n",
       "      <td>162.350000</td>\n",
       "    </tr>\n",
       "    <tr>\n",
       "      <th>50%</th>\n",
       "      <td>161.830000</td>\n",
       "      <td>167.080000</td>\n",
       "    </tr>\n",
       "    <tr>\n",
       "      <th>75%</th>\n",
       "      <td>165.135000</td>\n",
       "      <td>169.310000</td>\n",
       "    </tr>\n",
       "    <tr>\n",
       "      <th>max</th>\n",
       "      <td>171.030000</td>\n",
       "      <td>173.190000</td>\n",
       "    </tr>\n",
       "  </tbody>\n",
       "</table>\n",
       "</div>"
      ],
      "text/plain": [
       "       Nilai Rata-Rata_C1  Nilai Rata-Rata_C2\n",
       "count           15.000000           15.000000\n",
       "mean           159.622667          166.194667\n",
       "std              7.062380            4.526446\n",
       "min            147.920000          157.560000\n",
       "25%            154.070000          162.350000\n",
       "50%            161.830000          167.080000\n",
       "75%            165.135000          169.310000\n",
       "max            171.030000          173.190000"
      ]
     },
     "execution_count": 23,
     "metadata": {},
     "output_type": "execute_result"
    }
   ],
   "source": [
    "#Melihat statistical description dari data mulai dari mean, kuartil, standard deviation dll\n",
    "result.describe()"
   ]
  },
  {
   "cell_type": "code",
   "execution_count": 24,
   "id": "b5e2ba1e-0980-4b1b-84c2-3877d7a39f31",
   "metadata": {},
   "outputs": [
    {
     "data": {
      "text/plain": [
       "Nilai Rata-Rata_C1    0\n",
       "Nilai Rata-Rata_C2    0\n",
       "dtype: int64"
      ]
     },
     "execution_count": 24,
     "metadata": {},
     "output_type": "execute_result"
    }
   ],
   "source": [
    "#Mencari dan menangani missing values\n",
    "#Ternyata data kita tidak ada missing values\n",
    "result.isnull().sum()"
   ]
  },
  {
   "cell_type": "code",
   "execution_count": 25,
   "id": "48c8b011-a703-4276-903f-eb8d40a4bbe9",
   "metadata": {},
   "outputs": [
    {
     "data": {
      "image/png": "[encoded data removed]",
      "text/plain": [
       "<Figure size 864x288 with 2 Axes>"
      ]
     },
     "metadata": {
      "needs_background": "light"
     },
     "output_type": "display_data"
    }
   ],
   "source": [
    "#Univariate analysis Nilai Rata-Rata Semester 1\n",
    "#Melihat distribusi dari horsepower\n",
    "\n",
    "f = plt.figure(figsize=(12,4))\n",
    "\n",
    "f.add_subplot(1,2,1)\n",
    "result['Nilai Rata-Rata_C1'].plot(kind='kde')\n",
    "\n",
    "f.add_subplot(1,2,2)\n",
    "plt.boxplot(result['Nilai Rata-Rata_C1'])\n",
    "plt.show()"
   ]
  },
  {
   "cell_type": "code",
   "execution_count": 26,
   "id": "f07b1503-6a1a-4c58-bc13-e28ddd159fee",
   "metadata": {},
   "outputs": [
    {
     "data": {
      "image/png": "[encoded data removed]",
      "text/plain": [
       "<Figure size 864x288 with 2 Axes>"
      ]
     },
     "metadata": {
      "needs_background": "light"
     },
     "output_type": "display_data"
    }
   ],
   "source": [
    "#Univariate analysis Nilai Rata-Rata Semester 2\n",
    "#Melihat distribusi dari Nilai Rata-Rata Semester 2\n",
    "f = plt.figure(figsize=(12,4))\n",
    "\n",
    "f.add_subplot(1,2,1)\n",
    "result['Nilai Rata-Rata_C2'].plot(kind='kde', c='g')\n",
    "\n",
    "f.add_subplot(1,2,2)\n",
    "plt.boxplot(result['Nilai Rata-Rata_C2'])\n",
    "plt.show()"
   ]
  },
  {
   "cell_type": "code",
   "execution_count": 27,
   "id": "8fae8328-10ab-47ce-9ebd-3edaced4384f",
   "metadata": {},
   "outputs": [
    {
     "data": {
      "image/png": "[encoded data removed]",
      "text/plain": [
       "<Figure size 432x288 with 1 Axes>"
      ]
     },
     "metadata": {
      "needs_background": "light"
     },
     "output_type": "display_data"
    }
   ],
   "source": [
    "#Bivariate analysis Nilai Rata-Rata Semester 1 dan Semester 2\n",
    "#Menggunakan scatter plot\n",
    "\n",
    "plt.scatter(result['Nilai Rata-Rata_C2'], result['Nilai Rata-Rata_C2'])\n",
    "plt.xlabel('Nilai Rata-Rata TPM S1')\n",
    "plt.ylabel('Nilai Rata-Rata TPM S2')\n",
    "plt.title('Nilai Rata-Rata TPM S1 vs Nilai Rata-Rata TPM S2 PerMapel')\n",
    "plt.show()"
   ]
  },
  {
   "cell_type": "code",
   "execution_count": 28,
   "id": "fa16de21-9cd4-425d-b3f4-b8a976e367d3",
   "metadata": {},
   "outputs": [
    {
     "data": {
      "text/html": [
       "<div>\n",
       "<style scoped>\n",
       "    .dataframe tbody tr th:only-of-type {\n",
       "        vertical-align: middle;\n",
       "    }\n",
       "\n",
       "    .dataframe tbody tr th {\n",
       "        vertical-align: top;\n",
       "    }\n",
       "\n",
       "    .dataframe thead th {\n",
       "        text-align: right;\n",
       "    }\n",
       "</style>\n",
       "<table border=\"1\" class=\"dataframe\">\n",
       "  <thead>\n",
       "    <tr style=\"text-align: right;\">\n",
       "      <th></th>\n",
       "      <th>Nilai Rata-Rata_C1</th>\n",
       "      <th>Nilai Rata-Rata_C2</th>\n",
       "    </tr>\n",
       "  </thead>\n",
       "  <tbody>\n",
       "    <tr>\n",
       "      <th>Nilai Rata-Rata_C1</th>\n",
       "      <td>1.000000</td>\n",
       "      <td>0.691734</td>\n",
       "    </tr>\n",
       "    <tr>\n",
       "      <th>Nilai Rata-Rata_C2</th>\n",
       "      <td>0.691734</td>\n",
       "      <td>1.000000</td>\n",
       "    </tr>\n",
       "  </tbody>\n",
       "</table>\n",
       "</div>"
      ],
      "text/plain": [
       "                    Nilai Rata-Rata_C1  Nilai Rata-Rata_C2\n",
       "Nilai Rata-Rata_C1            1.000000            0.691734\n",
       "Nilai Rata-Rata_C2            0.691734            1.000000"
      ]
     },
     "execution_count": 28,
     "metadata": {},
     "output_type": "execute_result"
    }
   ],
   "source": [
    "#Mengetahui nilai korelasi dari Nilai Rata-Rata Semester 1 dan Semester 2\n",
    "#Nilai korelasinya adalah 0.69 termasuk kategori sangat tinggi\n",
    "\n",
    "result.corr()"
   ]
  },
  {
   "cell_type": "markdown",
   "id": "dd66bc0d-243c-4e00-be6c-78252915e106",
   "metadata": {},
   "source": [
    "**Modeling**"
   ]
  },
  {
   "cell_type": "code",
   "execution_count": 29,
   "id": "d436362f-b803-40f0-b273-069ed9d8ffa0",
   "metadata": {},
   "outputs": [],
   "source": [
    "#Pertama, buat variabel x dan y\n",
    "x = result['Nilai Rata-Rata_C1'].values.reshape(-1,1)\n",
    "y = result['Nilai Rata-Rata_C2'].values.reshape(-1,1)"
   ]
  },
  {
   "cell_type": "code",
   "execution_count": 30,
   "id": "0df3624e-bbc0-4c92-82ef-5de08f0df06f",
   "metadata": {},
   "outputs": [],
   "source": [
    "#Kedua, split data menjadi training and testing dengan porsi 80:20\n",
    "x_train, x_test, y_train, y_test = train_test_split(x, y, test_size=0.2)"
   ]
  },
  {
   "cell_type": "code",
   "execution_count": 31,
   "id": "5eea9693-245f-4037-92a0-d6744b3d22b7",
   "metadata": {},
   "outputs": [],
   "source": [
    "#Ketiga, membuat object linear regresi\n",
    "lin_reg = LinearRegression()"
   ]
  },
  {
   "cell_type": "code",
   "execution_count": 32,
   "id": "f5f352be-42a8-466e-935a-a6c8e68e22ff",
   "metadata": {},
   "outputs": [
    {
     "data": {
      "text/plain": [
       "LinearRegression()"
      ]
     },
     "execution_count": 32,
     "metadata": {},
     "output_type": "execute_result"
    }
   ],
   "source": [
    "#Keempat, train the model menggunakan training data yang sudah displit\n",
    "lin_reg.fit(x_train, y_train)"
   ]
  },
  {
   "cell_type": "code",
   "execution_count": 33,
   "id": "88db69b2-ce55-4020-a602-e259c6dcb560",
   "metadata": {},
   "outputs": [
    {
     "name": "stdout",
     "output_type": "stream",
     "text": [
      "[[0.40831549]]\n",
      "[101.08156572]\n"
     ]
    }
   ],
   "source": [
    "#Kelima, cari tau nilai slope/koefisien (m) dan intercept (b)\n",
    "print(lin_reg.coef_)\n",
    "print(lin_reg.intercept_)"
   ]
  },
  {
   "cell_type": "markdown",
   "id": "e6e17abb-b173-4ed6-ba41-e87109bee574",
   "metadata": {},
   "source": [
    "- dari nilai m dan b diatas, kalau dimasukan ke dalam rumus menjadi: Y = 0.4083x - 101.08 "
   ]
  },
  {
   "cell_type": "code",
   "execution_count": 34,
   "id": "43a75d53-f660-4ba0-a65c-2d1995df62d7",
   "metadata": {},
   "outputs": [
    {
     "data": {
      "text/plain": [
       "0.7386750020224205"
      ]
     },
     "execution_count": 34,
     "metadata": {},
     "output_type": "execute_result"
    }
   ],
   "source": [
    "#Keenam,cari tahu accuracy score dari model yang menggunakan testing data yang sudah displit\n",
    "lin_reg.score(x_test, y_test)"
   ]
  },
  {
   "cell_type": "markdown",
   "id": "884b5fd8-86c5-49c9-b3cd-1e57b96c93e4",
   "metadata": {},
   "source": [
    "- Model kita mendapatkan accuracy score sebesar 73.86 %"
   ]
  },
  {
   "cell_type": "code",
   "execution_count": 35,
   "id": "2a52a56e-0e0b-4486-8daf-1c5ec20a75e8",
   "metadata": {},
   "outputs": [
    {
     "data": {
      "text/plain": [
       "Text(0.5, 1.0, 'Plot Nilai Rata-Rata TPM S1 vs Nilai Rata-Rata TPM S2 Per Mapel')"
      ]
     },
     "execution_count": 35,
     "metadata": {},
     "output_type": "execute_result"
    },
    {
     "data": {
      "image/png": "[encoded data removed]",
      "text/plain": [
       "<Figure size 432x288 with 1 Axes>"
      ]
     },
     "metadata": {
      "needs_background": "light"
     },
     "output_type": "display_data"
    }
   ],
   "source": [
    "#Ketujuh, visualisasi aktual vs prediksi menggunakan data testing\n",
    "#Garis merah merupakan garis regresi dari persamaan yang didapat tadi\n",
    "y_prediksi = lin_reg.predict(x_test)\n",
    "plt.scatter(x_test, y_test)\n",
    "plt.plot(x_test, y_prediksi, c='r')\n",
    "plt.xlabel('Nilai Rata-Rata TPM S1')\n",
    "plt.ylabel('Nilai Rata-Rata TPM S2')\n",
    "plt.title('Plot Nilai Rata-Rata TPM S1 vs Nilai Rata-Rata TPM S2 Per Mapel')"
   ]
  },
  {
   "cell_type": "markdown",
   "id": "aa5828f1-9c20-47aa-86f1-179f6719be47",
   "metadata": {},
   "source": [
    "**Prediksi**"
   ]
  },
  {
   "cell_type": "code",
   "execution_count": 36,
   "id": "e8e01897-a133-4cd5-807b-e42d364aa94c",
   "metadata": {},
   "outputs": [
    {
     "data": {
      "text/plain": [
       "array([[164.77878215]])"
      ]
     },
     "execution_count": 36,
     "metadata": {},
     "output_type": "execute_result"
    }
   ],
   "source": [
    "lin_reg.predict([[156]])"
   ]
  },
  {
   "cell_type": "code",
   "execution_count": 38,
   "id": "9b18aac8-7ce5-4380-ac70-f491972aff09",
   "metadata": {},
   "outputs": [
    {
     "data": {
      "text/plain": [
       "array([[168.04530607]])"
      ]
     },
     "execution_count": 38,
     "metadata": {},
     "output_type": "execute_result"
    }
   ],
   "source": [
    "lin_reg.predict([[164]])"
   ]
  },
  {
   "cell_type": "code",
   "execution_count": null,
   "id": "4dca66a1-eedb-4f9a-ba20-5dbb181d23fe",
   "metadata": {},
   "outputs": [],
   "source": []
  }
 ],
 "metadata": {
  "kernelspec": {
   "display_name": "Python 3 (ipykernel)",
   "language": "python",
   "name": "python3"
  },
  "language_info": {
   "codemirror_mode": {
    "name": "ipython",
    "version": 3
   },
   "file_extension": ".py",
   "mimetype": "text/x-python",
   "name": "python",
   "nbconvert_exporter": "python",
   "pygments_lexer": "ipython3",
   "version": "3.7.6"
  }
 },
 "nbformat": 4,
 "nbformat_minor": 5
}
